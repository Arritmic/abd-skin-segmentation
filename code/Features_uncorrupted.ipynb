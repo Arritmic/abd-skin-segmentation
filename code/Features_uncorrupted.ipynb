{
 "cells": [
  {
   "cell_type": "code",
   "execution_count": 1,
   "metadata": {},
   "outputs": [
    {
     "name": "stderr",
     "output_type": "stream",
     "text": [
      "Using TensorFlow backend.\n"
     ]
    }
   ],
   "source": [
    "import os\n",
    "import cv2 as cv\n",
    "import sys\n",
    "import time\n",
    "import random\n",
    "import warnings\n",
    "\n",
    "import numpy as np\n",
    "import pandas as pd\n",
    "\n",
    "import matplotlib.pyplot as plt\n",
    "\n",
    "from tqdm import tqdm\n",
    "from itertools import chain\n",
    "from skimage.io import imread, imshow, imread_collection, concatenate_images\n",
    "from skimage.transform import resize\n",
    "from skimage.morphology import label\n",
    "\n",
    "from keras.models import Sequential, load_model\n",
    "from keras.layers import Dense, Dropout\n",
    "from keras.callbacks import EarlyStopping, ModelCheckpoint, Callback\n",
    "import tensorflow as tf\n",
    "\n",
    "\n",
    "warnings.filterwarnings('ignore', category=UserWarning, module='skimage')\n",
    "seed = 42\n",
    "random.seed = seed\n",
    "np.random.seed = seed\n",
    "IMG_CHANNELS = 3"
   ]
  },
  {
   "cell_type": "code",
   "execution_count": 2,
   "metadata": {},
   "outputs": [],
   "source": [
    "def acc_comp(msk, preds_test_t): #Takes as input 2D masks and 2D predictions\n",
    "    \n",
    "    act = msk.reshape(len(msk),1)\n",
    "    pr = preds_test_t\n",
    "\n",
    "    c = act == pr #acc\n",
    "    d = act & pr #true negative\n",
    "    e = act | pr #true positive\n",
    "    neg = act.sum()\n",
    "    pos = (len(act))-act.sum()\n",
    "\n",
    "    TN = float(d.sum())\n",
    "    FN = float(pr.sum()-d.sum())\n",
    "    TP = float((len(act))-e.sum())\n",
    "    FP = float(e.sum()-pr.sum())\n",
    "    acc = float(c.sum())/(len(act))\n",
    "\n",
    "    acc2 = float(TP+TN)/(TP+TN+FP+FN)\n",
    "#     mean_TP = round(TP/pos,6)\n",
    "#     mean_TN = round(TN/neg,6)\n",
    "#     mean_FP = round(FP/pos,6)\n",
    "#     mean_FN = round(FN/neg,6)\n",
    "    \n",
    "    return (acc,TP,TN,FP,FN)"
   ]
  },
  {
   "cell_type": "code",
   "execution_count": 3,
   "metadata": {},
   "outputs": [],
   "source": [
    "# Define class for extracting time per epoch\n",
    "class TimingCallback(Callback):\n",
    "    def on_train_begin(self, logs={}):\n",
    "        self.times = []\n",
    "\n",
    "    def on_epoch_begin(self, batch, logs={}):\n",
    "        self.epoch_time_start = time.time()\n",
    "\n",
    "    def on_epoch_end(self, batch, logs={}):\n",
    "        self.times.append(time.time() - self.epoch_time_start)\n",
    "\n",
    "cb = TimingCallback() "
   ]
  },
  {
   "cell_type": "code",
   "execution_count": 20,
   "metadata": {},
   "outputs": [],
   "source": [
    "# Get Training Data (Original+Mask) DONT RUN IN THIS CODE \n",
    "# Dataset 1: HGR\n",
    "TRAIN_PATH1 = ['/home/lalzogbi/Documents/Skin_Datasets/Dataset1_HGR/original_images/']\n",
    "MASK_PATH1 = ['/home/lalzogbi/Documents/Skin_Datasets/Dataset1_HGR/skin_masks/']\n",
    "train_ids1 = next(os.walk(TRAIN_PATH1[0]))[2]\n",
    "mask_ids1 = next(os.walk(MASK_PATH1[0]))[2]\n",
    "train_ids1.sort()\n",
    "mask_ids1.sort()\n",
    "TRAIN_PATH1 = TRAIN_PATH1*len(train_ids1)\n",
    "MASK_PATH1 = MASK_PATH1*len(train_ids1)\n",
    "\n",
    "# Dataset 4: Pratheepan\n",
    "TRAIN_PATH2 = ['/home/lalzogbi/Documents/Skin_Datasets/Dataset4_Pratheepan/original_images/']\n",
    "MASK_PATH2 = ['/home/lalzogbi/Documents/Skin_Datasets/Dataset4_Pratheepan/skin_masks/']\n",
    "train_ids2 = next(os.walk(TRAIN_PATH2[0]))[2]\n",
    "mask_ids2 = next(os.walk(MASK_PATH2[0]))[2]\n",
    "train_ids2.sort()\n",
    "mask_ids2.sort()\n",
    "TRAIN_PATH2 = TRAIN_PATH2*len(train_ids2)\n",
    "MASK_PATH2 = MASK_PATH2*len(train_ids2)\n",
    "\n",
    "# Dataset 5: VDM\n",
    "TRAIN_PATH3 = ['/home/lalzogbi/Documents/Skin_Datasets/Dataset5_VDM/original_images/']\n",
    "MASK_PATH3 = ['/home/lalzogbi/Documents/Skin_Datasets/Dataset5_VDM/skin_masks/']\n",
    "train_id3 = next(os.walk(TRAIN_PATH3[0]))[2]\n",
    "mask_id3 = next(os.walk(MASK_PATH3[0]))[2]\n",
    "train_id3.sort()\n",
    "mask_id3.sort()\n",
    "train_ids3 = train_id3[1:]\n",
    "mask_ids3 = mask_id3[1:]\n",
    "TRAIN_PATH3 = TRAIN_PATH3*len(train_ids3)\n",
    "MASK_PATH3 = MASK_PATH3*len(train_ids3)\n",
    "\n",
    "# Dataset 6: SFA\n",
    "TRAIN_PATH4 = ['/home/lalzogbi/Documents/Skin_Datasets/Dataset6_SFA/original_images/']\n",
    "MASK_PATH4 = ['/home/lalzogbi/Documents/Skin_Datasets/Dataset6_SFA/skin_masks/']\n",
    "train_ids4 = next(os.walk(TRAIN_PATH4[0]))[2]\n",
    "mask_ids4 = next(os.walk(MASK_PATH4[0]))[2]\n",
    "train_ids4.sort()\n",
    "mask_ids4.sort()\n",
    "TRAIN_PATH4 = TRAIN_PATH4*len(train_ids4)\n",
    "MASK_PATH4 = MASK_PATH4*len(train_ids4)\n",
    "\n",
    "# Dataset 2: TDSD\n",
    "TRAIN_PATH5 = ['/home/lalzogbi/Documents/Skin_Datasets/Dataset2_TDSD/original_images/']\n",
    "MASK_PATH5 = ['/home/lalzogbi/Documents/Skin_Datasets/Dataset2_TDSD/skin_masks/']\n",
    "train_ids5 = next(os.walk(TRAIN_PATH5[0]))[2]\n",
    "mask_ids5 = next(os.walk(MASK_PATH5[0]))[2]\n",
    "train_ids5.sort()\n",
    "mask_ids5.sort()\n",
    "TRAIN_PATH5 = TRAIN_PATH5*len(train_ids5)\n",
    "MASK_PATH5 = MASK_PATH5*len(train_ids5)\n",
    "\n",
    "# Dataset 3: Schmugge\n",
    "TRAIN_PATH6 = ['/home/lalzogbi/Documents/Skin_Datasets/Dataset3_Schmugge/original_images/']\n",
    "MASK_PATH6 = ['/home/lalzogbi/Documents/Skin_Datasets/Dataset3_Schmugge/skin_masks/']\n",
    "train_ids6 = next(os.walk(TRAIN_PATH6[0]))[2]\n",
    "mask_ids6 = next(os.walk(MASK_PATH6[0]))[2]\n",
    "train_ids6.sort()\n",
    "mask_ids6.sort()\n",
    "TRAIN_PATH6 = TRAIN_PATH6*len(train_ids6)\n",
    "MASK_PATH6 = MASK_PATH6*len(train_ids6)\n",
    "\n",
    "# Dataset 7: FSD\n",
    "TRAIN_PATH7 = ['/home/lalzogbi/Documents/Skin_Datasets/Dataset7_FSD/original_images/']\n",
    "MASK_PATH7 = ['/home/lalzogbi/Documents/Skin_Datasets/Dataset7_FSD/skin_masks/']\n",
    "train_ids7 = next(os.walk(TRAIN_PATH7[0]))[2]\n",
    "mask_ids7 = next(os.walk(MASK_PATH7[0]))[2]\n",
    "train_ids7.sort()\n",
    "mask_ids7.sort()\n",
    "TRAIN_PATH7 = TRAIN_PATH7*len(train_ids7)\n",
    "MASK_PATH7 = MASK_PATH7*len(train_ids7)\n",
    "\n",
    "# Dataset 8: ABDOMEN\n",
    "TRAIN_PATH8 = ['/home/lalzogbi/Documents/Skin_Datasets/allabdomen/train/skin_train2019/']\n",
    "MASK_PATH8 = ['/home/lalzogbi/Documents/Skin_Datasets/allabdomen/train/annotations/']\n",
    "train_ids8 = next(os.walk(TRAIN_PATH8[0]))[2]\n",
    "mask_ids8 = next(os.walk(MASK_PATH8[0]))[2]\n",
    "train_ids8.sort()\n",
    "mask_ids8.sort()\n",
    "# mask_ids8 = mask_id8[:-1]\n",
    "TRAIN_PATH8 = TRAIN_PATH8*len(train_ids8)\n",
    "MASK_PATH8 = MASK_PATH8*len(train_ids8)\n",
    "\n",
    "# Combine everything\n",
    "# TRAIN_PATH = np.concatenate((TRAIN_PATH8,TRAIN_PATH2,TRAIN_PATH3,TRAIN_PATH4,TRAIN_PATH5, TRAIN_PATH6,TRAIN_PATH1,TRAIN_PATH7))\n",
    "# MASK_PATH = np.concatenate((MASK_PATH8,MASK_PATH2,MASK_PATH3,MASK_PATH4,MASK_PATH5,MASK_PATH6,MASK_PATH1,MASK_PATH7))\n",
    "# train_ids = np.concatenate((train_ids8,train_ids2,train_ids3,train_ids4,train_ids5,train_ids6,train_ids1,train_ids7))\n",
    "# mask_ids = np.concatenate((mask_ids8,mask_ids2,mask_ids3,mask_ids4,mask_ids5,mask_ids6,mask_ids1,mask_ids7))\n",
    "\n",
    "TRAIN_PATH = np.concatenate((TRAIN_PATH2,TRAIN_PATH5,TRAIN_PATH4,TRAIN_PATH6,TRAIN_PATH1,TRAIN_PATH7,TRAIN_PATH3))\n",
    "MASK_PATH = np.concatenate((MASK_PATH2,MASK_PATH5,MASK_PATH4,MASK_PATH6,MASK_PATH1,MASK_PATH7,MASK_PATH3))\n",
    "train_ids = np.concatenate((train_ids2,train_ids5,train_ids4,train_ids6,train_ids1,train_ids7,train_ids3))\n",
    "mask_ids = np.concatenate((mask_ids2,mask_ids5,mask_ids4,mask_ids6,mask_ids1,mask_ids7,mask_ids3))"
   ]
  },
  {
   "cell_type": "code",
   "execution_count": 19,
   "metadata": {},
   "outputs": [
    {
     "name": "stdout",
     "output_type": "stream",
     "text": [
      "756\n",
      "756\n"
     ]
    }
   ],
   "source": [
    "TRAIN_PATH8 = ['/home/lalzogbi/Documents/Skin_Datasets/allabdomen/train/skin_train2019/']\n",
    "MASK_PATH8 = ['/home/lalzogbi/Documents/Skin_Datasets/allabdomen/train/annotations/']\n",
    "train_ids8 = next(os.walk(TRAIN_PATH8[0]))[2]\n",
    "mask_ids8 = next(os.walk(MASK_PATH8[0]))[2]\n",
    "train_ids8.sort()\n",
    "mask_ids8.sort()\n",
    "# train_ids8 = train_ids8[:-3000]\n",
    "# mask_ids8 = mask_ids8[:-3000]\n",
    "# mask_ids8 = mask_id8[:-1]\n",
    "TRAIN_PATH8 = TRAIN_PATH8*len(train_ids8)\n",
    "MASK_PATH8 = MASK_PATH8*len(train_ids8)\n",
    "\n",
    "TRAIN_PATH = TRAIN_PATH8\n",
    "train_ids = train_ids8\n",
    "MASK_PATH = MASK_PATH8\n",
    "mask_ids= mask_ids8\n",
    "print(len(train_ids))\n",
    "print(len(mask_ids))"
   ]
  },
  {
   "cell_type": "code",
   "execution_count": 20,
   "metadata": {
    "scrolled": true
   },
   "outputs": [
    {
     "name": "stdout",
     "output_type": "stream",
     "text": [
      "Getting features and labels from images unreshaped... \n"
     ]
    },
    {
     "name": "stderr",
     "output_type": "stream",
     "text": [
      "100%|██████████| 756/756 [04:16<00:00,  2.10it/s]\n"
     ]
    }
   ],
   "source": [
    " # Extract Features and Corresponding Labels (RUN ONCE ONLY TO GET THE DATA)\n",
    "print('Getting features and labels from images unreshaped... ')\n",
    "sys.stdout.flush()\n",
    "\n",
    "path = TRAIN_PATH[0] + train_ids[0]\n",
    "img = imread(path)[:,:,:IMG_CHANNELS]\n",
    "dat = img.reshape(img.shape[0]*img.shape[1],3)\n",
    "hsv = cv.cvtColor(img, cv.COLOR_RGB2HSV)\n",
    "hsv = hsv.reshape(img.shape[0]*img.shape[1],3)\n",
    "lab = cv.cvtColor(img, cv.COLOR_RGB2Lab)\n",
    "lab = lab.reshape(img.shape[0]*img.shape[1],3)\n",
    "\n",
    "path = MASK_PATH[0] + mask_ids[0]\n",
    "img = imread(path)\n",
    "\n",
    "if img.ndim == 3:\n",
    "    img = img[:,:,1]\n",
    "    \n",
    "# img = img > 30    \n",
    "# img = img > 0\n",
    "# img = img.astype(np.uint8)\n",
    "L = img.reshape(img.shape[0]*img.shape[1],1)\n",
    "\n",
    "dat = np.concatenate((dat,hsv,lab,L),axis=1)\n",
    "\n",
    "for n, id_ in tqdm(enumerate(train_ids), total=len(train_ids)):\n",
    "    path = TRAIN_PATH[n] + id_\n",
    "    img = imread(path)[:,:,:IMG_CHANNELS]\n",
    "    b = img.reshape(img.shape[0]*img.shape[1],3)\n",
    "    hsv = cv.cvtColor(img, cv.COLOR_RGB2HSV)\n",
    "    hsv = hsv.reshape(img.shape[0]*img.shape[1],3)\n",
    "    lab = cv.cvtColor(img, cv.COLOR_RGB2Lab)\n",
    "    lab = lab.reshape(img.shape[0]*img.shape[1],3)\n",
    "    \n",
    "    path = MASK_PATH[n] + mask_ids[n]\n",
    "    img = imread(path)\n",
    "    if img.ndim == 3:\n",
    "        img = img[:,:,1]\n",
    "        \n",
    "#     img = img > 30     \n",
    "#     img = img > 0\n",
    "#     img = img.astype(np.uint8)\n",
    "        \n",
    "    L = img.reshape(img.shape[0]*img.shape[1],1)\n",
    "    dat_temp = np.concatenate((b,hsv,lab,L),axis=1)\n",
    "    dat = np.concatenate((dat,dat_temp))\n",
    "\n",
    "ABD = dat"
   ]
  },
  {
   "cell_type": "code",
   "execution_count": 21,
   "metadata": {},
   "outputs": [
    {
     "name": "stdout",
     "output_type": "stream",
     "text": [
      "(74043165, 10)\n"
     ]
    }
   ],
   "source": [
    "# print(dat.shape)\n",
    "# print(np.sum(dat[:,9]))\n",
    "# np.save('VDM.npy',VDM)\n",
    "# print(np.unique(dat[:,9]))"
   ]
  },
  {
   "cell_type": "code",
   "execution_count": 22,
   "metadata": {},
   "outputs": [],
   "source": [
    "# Load the data then shuffle\n",
    "# ABD = np.load('ABD.npy')\n",
    "np.random.shuffle(ABD)\n",
    "\n",
    "# FSD = np.load('FSD.npy')\n",
    "# FSD = FSD[:4000000]\n",
    "np.random.shuffle(FSD)\n",
    "\n",
    "# HGR = np.load('HGR.npy')\n",
    "np.random.shuffle(HGR)\n",
    "\n",
    "# Pratheep = np.load('Pratheep.npy')\n",
    "# np.random.shuffle(Pratheep)\n",
    "\n",
    "# SCHMG = np.load('SCHMG.npy')\n",
    "np.random.shuffle(SCHMG)\n",
    "\n",
    "# SFA = np.load('SFA.npy')\n",
    "np.random.shuffle(SFA)\n",
    "\n",
    "# TDSD = np.load('TDSD.npy')\n",
    "np.random.shuffle(TDSD)\n",
    "\n",
    "# VDM = np.load('VDM.npy')\n",
    "np.random.shuffle(VDM)"
   ]
  },
  {
   "cell_type": "code",
   "execution_count": 25,
   "metadata": {},
   "outputs": [],
   "source": [
    "# Extract and Balance Data\n",
    "L=np.where(ABD[:,9] > 0)\n",
    "K = L[0]\n",
    "skin_abd = ABD[K[:]]\n",
    "skin_abd = skin_abd[:30000]\n",
    "L=np.where(ABD[:,9] == 0)\n",
    "K = L[0]\n",
    "noskin_abd = ABD[K[:]]\n",
    "noskin_abd = noskin_abd[:70000]\n",
    "\n",
    "# L=np.where(FSD[:,9] > 0)\n",
    "# K = L[0]\n",
    "# skin_fsd = FSD[K[:]]\n",
    "# skin_fsd = skin_fsd[:30000]\n",
    "# L=np.where(FSD[:,9] == 0)\n",
    "# K = L[0]\n",
    "# noskin_fsd = FSD[K[:]]\n",
    "# noskin_fsd = noskin_fsd[:70000]\n",
    "\n",
    "L=np.where(HGR[:,9] > 0)\n",
    "K = L[0]\n",
    "skin_hgr = HGR[K[:]]\n",
    "skin_hgr = skin_hgr[:60000]\n",
    "L=np.where(HGR[:,9] == 0)\n",
    "K = L[0]\n",
    "noskin_hgr = HGR[K[:]]\n",
    "noskin_hgr = noskin_hgr[:140000]\n",
    "\n",
    "# L=np.where(Pratheep[:,9] > 0)\n",
    "# K = L[0]\n",
    "# skin_pra = Pratheep[K[:]]\n",
    "# skin_pra = skin_pra[:30000]\n",
    "# L=np.where(Pratheep[:,9] == 0)\n",
    "# K = L[0]\n",
    "# noskin_pra = Pratheep[K[:]]\n",
    "# noskin_pra = noskin_pra[:70000]\n",
    "\n",
    "L=np.where(SCHMG[:,9] > 0)\n",
    "K = L[0]\n",
    "skin_schmg = SCHMG[K[:]]\n",
    "skin_schmg = skin_schmg[:60000]\n",
    "L=np.where(SCHMG[:,9] == 0)\n",
    "K = L[0]\n",
    "noskin_schmg = SCHMG[K[:]]\n",
    "noskin_schmg = noskin_schmg[:140000]\n",
    "\n",
    "L=np.where(SFA[:,9] > 0)\n",
    "K = L[0]\n",
    "skin_sfa = SFA[K[:]]\n",
    "skin_sfa = skin_sfa[:60000]\n",
    "L=np.where(SFA[:,9] == 0)\n",
    "K = L[0]\n",
    "noskin_sfa = SFA[K[:]]\n",
    "noskin_sfa = noskin_sfa[:140000]\n",
    "\n",
    "L=np.where(TDSD[:,9] > 0)\n",
    "K = L[0]\n",
    "skin_tdsd = TDSD[K[:]]\n",
    "skin_tdsd = skin_tdsd[:60000]\n",
    "L=np.where(TDSD[:,9] == 0)\n",
    "K = L[0]\n",
    "noskin_tdsd = TDSD[K[:]]\n",
    "noskin_tdsd = noskin_tdsd[:140000]\n",
    "\n",
    "L=np.where(VDM[:,9] > 0)\n",
    "K = L[0]\n",
    "skin_vdm = VDM[K[:]]\n",
    "skin_vdm = skin_vdm[:60000]\n",
    "L=np.where(VDM[:,9] == 0)\n",
    "K = L[0]\n",
    "noskin_vdm = VDM[K[:]]\n",
    "noskin_vdm = noskin_vdm[:140000]"
   ]
  },
  {
   "cell_type": "code",
   "execution_count": 25,
   "metadata": {},
   "outputs": [
    {
     "name": "stdout",
     "output_type": "stream",
     "text": [
      "(2000000, 10)\n"
     ]
    }
   ],
   "source": [
    "# Load Shuffled data\n",
    "alldata = np.concatenate((ABD,FSD,HGR,VDM,SCHMG,SFA,TDSD,VDM), axis = 0)\n",
    "# alldata = np.concatenate((skin_abd,skin_hgr,skin_schmg,skin_sfa,skin_tdsd,skin_vdm,noskin_abd,noskin_hgr,noskin_schmg,noskin_sfa,noskin_tdsd,noskin_vdm), axis = 0)\n",
    "# np.random.shuffle(alldata)\n",
    "take = alldata[:2000000]\n",
    "print(take.shape)\n",
    "feat = take[:,:9]\n",
    "labels = take[:,9]\n",
    "labels = (labels > 0).astype(np.uint8)"
   ]
  },
  {
   "cell_type": "code",
   "execution_count": null,
   "metadata": {},
   "outputs": [
    {
     "name": "stdout",
     "output_type": "stream",
     "text": [
      "Train on 1600000 samples, validate on 400000 samples\n",
      "Epoch 1/50\n",
      "1600000/1600000 [==============================] - 188s 117us/step - loss: 0.2445 - acc: 0.9085 - val_loss: 0.2024 - val_acc: 0.9306\n",
      "\n",
      "Epoch 00001: val_loss improved from inf to 0.20238, saving model to model-testall-26Mar2019.h5\n",
      "Epoch 2/50\n",
      "1600000/1600000 [==============================] - 185s 116us/step - loss: 0.2239 - acc: 0.9201 - val_loss: 0.2166 - val_acc: 0.9324\n",
      "\n",
      "Epoch 00002: val_loss did not improve from 0.20238\n",
      "Epoch 3/50\n",
      "1600000/1600000 [==============================] - 185s 116us/step - loss: 0.2236 - acc: 0.9212 - val_loss: 0.2143 - val_acc: 0.9321\n",
      "\n",
      "Epoch 00003: val_loss did not improve from 0.20238\n",
      "Epoch 4/50\n",
      "1600000/1600000 [==============================] - 184s 115us/step - loss: 0.2214 - acc: 0.9218 - val_loss: 0.2387 - val_acc: 0.9336\n",
      "\n",
      "Epoch 00004: val_loss did not improve from 0.20238\n",
      "Epoch 5/50\n",
      "1600000/1600000 [==============================] - 185s 115us/step - loss: 0.2213 - acc: 0.9225 - val_loss: 0.2255 - val_acc: 0.9320\n",
      "\n",
      "Epoch 00005: val_loss did not improve from 0.20238\n",
      "Epoch 6/50\n",
      "1600000/1600000 [==============================] - 183s 115us/step - loss: 0.2259 - acc: 0.9194 - val_loss: 0.2886 - val_acc: 0.9293\n",
      "\n",
      "Epoch 00006: val_loss did not improve from 0.20238\n",
      "Epoch 7/50\n",
      "1600000/1600000 [==============================] - 183s 115us/step - loss: 0.2441 - acc: 0.9104 - val_loss: 0.1994 - val_acc: 0.9295\n",
      "\n",
      "Epoch 00007: val_loss improved from 0.20238 to 0.19938, saving model to model-testall-26Mar2019.h5\n",
      "Epoch 8/50\n",
      "1600000/1600000 [==============================] - 183s 114us/step - loss: 0.2391 - acc: 0.9109 - val_loss: 0.2131 - val_acc: 0.9293\n",
      "\n",
      "Epoch 00008: val_loss did not improve from 0.19938\n",
      "Epoch 9/50\n",
      "1600000/1600000 [==============================] - 184s 115us/step - loss: 0.2491 - acc: 0.9073 - val_loss: 0.2365 - val_acc: 0.9326\n",
      "\n",
      "Epoch 00009: val_loss did not improve from 0.19938\n",
      "Epoch 10/50\n",
      "1600000/1600000 [==============================] - 183s 114us/step - loss: 0.2455 - acc: 0.9065 - val_loss: 0.2295 - val_acc: 0.9295\n",
      "\n",
      "Epoch 00010: val_loss did not improve from 0.19938\n",
      "Epoch 11/50\n",
      "1600000/1600000 [==============================] - 183s 115us/step - loss: 0.2357 - acc: 0.9117 - val_loss: 0.2727 - val_acc: 0.9249\n",
      "\n",
      "Epoch 00011: val_loss did not improve from 0.19938\n",
      "Epoch 12/50\n",
      "1600000/1600000 [==============================] - 183s 114us/step - loss: 0.2409 - acc: 0.9075 - val_loss: 0.2033 - val_acc: 0.9284\n",
      "\n",
      "Epoch 00012: val_loss did not improve from 0.19938\n",
      "Epoch 13/50\n",
      "1600000/1600000 [==============================] - 183s 115us/step - loss: 0.2455 - acc: 0.9071 - val_loss: 0.2200 - val_acc: 0.9303\n",
      "\n",
      "Epoch 00013: val_loss did not improve from 0.19938\n",
      "Epoch 14/50\n",
      "1600000/1600000 [==============================] - 183s 114us/step - loss: 0.2342 - acc: 0.9082 - val_loss: 0.2079 - val_acc: 0.9310\n",
      "\n",
      "Epoch 00014: val_loss did not improve from 0.19938\n",
      "Epoch 15/50\n",
      "1600000/1600000 [==============================] - 183s 114us/step - loss: 0.2372 - acc: 0.9075 - val_loss: 0.2309 - val_acc: 0.9276\n",
      "\n",
      "Epoch 00015: val_loss did not improve from 0.19938\n",
      "Epoch 16/50\n",
      "1600000/1600000 [==============================] - 183s 114us/step - loss: 0.2381 - acc: 0.9094 - val_loss: 0.1984 - val_acc: 0.9304\n",
      "\n",
      "Epoch 00016: val_loss improved from 0.19938 to 0.19841, saving model to model-testall-26Mar2019.h5\n",
      "Epoch 17/50\n",
      "1600000/1600000 [==============================] - 183s 115us/step - loss: 0.2487 - acc: 0.9054 - val_loss: 0.2055 - val_acc: 0.9287\n",
      "\n",
      "Epoch 00017: val_loss did not improve from 0.19841\n",
      "Epoch 18/50\n",
      "1600000/1600000 [==============================] - 183s 114us/step - loss: 0.2403 - acc: 0.9057 - val_loss: 0.2009 - val_acc: 0.9310\n",
      "\n",
      "Epoch 00018: val_loss did not improve from 0.19841\n",
      "Epoch 19/50\n",
      "1600000/1600000 [==============================] - 184s 115us/step - loss: 0.2477 - acc: 0.9047 - val_loss: 0.2042 - val_acc: 0.9308\n",
      "\n",
      "Epoch 00019: val_loss did not improve from 0.19841\n",
      "Epoch 20/50\n",
      "1600000/1600000 [==============================] - 183s 114us/step - loss: 0.2442 - acc: 0.9052 - val_loss: 0.2175 - val_acc: 0.9298\n",
      "\n",
      "Epoch 00020: val_loss did not improve from 0.19841\n",
      "Epoch 21/50\n",
      "1600000/1600000 [==============================] - 183s 114us/step - loss: 0.2549 - acc: 0.9041 - val_loss: 0.1979 - val_acc: 0.9307\n",
      "\n",
      "Epoch 00021: val_loss improved from 0.19841 to 0.19795, saving model to model-testall-26Mar2019.h5\n",
      "Epoch 22/50\n",
      "1600000/1600000 [==============================] - 182s 114us/step - loss: 0.2633 - acc: 0.9038 - val_loss: 0.2037 - val_acc: 0.9272\n",
      "\n",
      "Epoch 00022: val_loss did not improve from 0.19795\n",
      "Epoch 23/50\n",
      "1600000/1600000 [==============================] - 183s 115us/step - loss: 0.2493 - acc: 0.9060 - val_loss: 0.2027 - val_acc: 0.9321\n",
      "\n",
      "Epoch 00023: val_loss did not improve from 0.19795\n",
      "Epoch 24/50\n",
      "1600000/1600000 [==============================] - 184s 115us/step - loss: 0.2979 - acc: 0.9017 - val_loss: 0.2077 - val_acc: 0.9231\n",
      "\n",
      "Epoch 00024: val_loss did not improve from 0.19795\n",
      "Epoch 25/50\n",
      "1600000/1600000 [==============================] - 183s 114us/step - loss: 0.2658 - acc: 0.9079 - val_loss: 0.2097 - val_acc: 0.9313\n",
      "\n",
      "Epoch 00025: val_loss did not improve from 0.19795\n",
      "Epoch 26/50\n",
      "1600000/1600000 [==============================] - 183s 114us/step - loss: 0.2721 - acc: 0.9027 - val_loss: 0.2368 - val_acc: 0.9259\n",
      "\n",
      "Epoch 00026: val_loss did not improve from 0.19795\n",
      "Epoch 27/50\n",
      "1600000/1600000 [==============================] - 183s 115us/step - loss: 0.2748 - acc: 0.9067 - val_loss: 0.2329 - val_acc: 0.9320\n",
      "\n",
      "Epoch 00027: val_loss did not improve from 0.19795\n",
      "Epoch 28/50\n",
      "1600000/1600000 [==============================] - 183s 114us/step - loss: 0.2859 - acc: 0.9092 - val_loss: 0.2464 - val_acc: 0.9319\n",
      "\n",
      "Epoch 00028: val_loss did not improve from 0.19795\n",
      "Epoch 29/50\n",
      "1600000/1600000 [==============================] - 183s 114us/step - loss: 0.2855 - acc: 0.9090 - val_loss: 0.2084 - val_acc: 0.9328\n",
      "\n",
      "Epoch 00029: val_loss did not improve from 0.19795\n",
      "Epoch 30/50\n",
      "1600000/1600000 [==============================] - 183s 114us/step - loss: 0.2771 - acc: 0.9090 - val_loss: 0.2263 - val_acc: 0.9318\n",
      "\n",
      "Epoch 00030: val_loss did not improve from 0.19795\n",
      "Epoch 31/50\n",
      "1600000/1600000 [==============================] - 183s 114us/step - loss: 0.3293 - acc: 0.9024 - val_loss: 0.2480 - val_acc: 0.9311\n",
      "\n",
      "Epoch 00031: val_loss did not improve from 0.19795\n",
      "Epoch 32/50\n",
      "1600000/1600000 [==============================] - 183s 114us/step - loss: 0.3495 - acc: 0.8877 - val_loss: 0.2400 - val_acc: 0.9300\n",
      "\n",
      "Epoch 00032: val_loss did not improve from 0.19795\n",
      "Epoch 33/50\n",
      "1600000/1600000 [==============================] - 183s 114us/step - loss: 0.3304 - acc: 0.8942 - val_loss: 0.2427 - val_acc: 0.9320\n",
      "\n",
      "Epoch 00033: val_loss did not improve from 0.19795\n",
      "Epoch 34/50\n",
      "1600000/1600000 [==============================] - 183s 114us/step - loss: 0.3120 - acc: 0.8970 - val_loss: 0.2299 - val_acc: 0.9295\n",
      "\n",
      "Epoch 00034: val_loss did not improve from 0.19795\n",
      "Epoch 35/50\n",
      "1600000/1600000 [==============================] - 183s 114us/step - loss: 0.3098 - acc: 0.8962 - val_loss: 0.2256 - val_acc: 0.9333\n",
      "\n",
      "Epoch 00035: val_loss did not improve from 0.19795\n",
      "Epoch 36/50\n",
      "1600000/1600000 [==============================] - 183s 114us/step - loss: 0.3078 - acc: 0.9003 - val_loss: 0.2339 - val_acc: 0.9320\n",
      "\n",
      "Epoch 00036: val_loss did not improve from 0.19795\n",
      "Epoch 37/50\n",
      "1600000/1600000 [==============================] - 183s 114us/step - loss: 0.2992 - acc: 0.9074 - val_loss: 0.2277 - val_acc: 0.9290\n",
      "\n",
      "Epoch 00037: val_loss did not improve from 0.19795\n",
      "Epoch 38/50\n",
      "1600000/1600000 [==============================] - 182s 114us/step - loss: 0.2974 - acc: 0.9079 - val_loss: 0.2315 - val_acc: 0.9334\n",
      "\n",
      "Epoch 00038: val_loss did not improve from 0.19795\n",
      "Epoch 39/50\n",
      "1600000/1600000 [==============================] - 183s 114us/step - loss: 0.2992 - acc: 0.9067 - val_loss: 0.2412 - val_acc: 0.9317\n",
      "\n",
      "Epoch 00039: val_loss did not improve from 0.19795\n",
      "Epoch 40/50\n",
      "1600000/1600000 [==============================] - 183s 114us/step - loss: 0.2998 - acc: 0.9078 - val_loss: 0.2313 - val_acc: 0.9330\n",
      "\n",
      "Epoch 00040: val_loss did not improve from 0.19795\n",
      "Epoch 41/50\n",
      "1600000/1600000 [==============================] - 183s 114us/step - loss: 0.2944 - acc: 0.9062 - val_loss: 0.2553 - val_acc: 0.9240\n",
      "\n",
      "Epoch 00041: val_loss did not improve from 0.19795\n",
      "Epoch 42/50\n",
      "1600000/1600000 [==============================] - 183s 114us/step - loss: 0.2930 - acc: 0.9064 - val_loss: 0.2188 - val_acc: 0.9318\n",
      "\n",
      "Epoch 00042: val_loss did not improve from 0.19795\n",
      "Epoch 43/50\n",
      "1600000/1600000 [==============================] - 183s 114us/step - loss: 0.2884 - acc: 0.9067 - val_loss: 0.2309 - val_acc: 0.9233\n",
      "\n",
      "Epoch 00043: val_loss did not improve from 0.19795\n",
      "Epoch 44/50\n",
      "1600000/1600000 [==============================] - 183s 114us/step - loss: 0.2953 - acc: 0.9086 - val_loss: 0.2287 - val_acc: 0.9327\n",
      "\n",
      "Epoch 00044: val_loss did not improve from 0.19795\n",
      "Epoch 45/50\n",
      "1600000/1600000 [==============================] - 183s 114us/step - loss: 0.2952 - acc: 0.9086 - val_loss: 0.2314 - val_acc: 0.9330\n",
      "\n",
      "Epoch 00045: val_loss did not improve from 0.19795\n",
      "Epoch 46/50\n",
      "1600000/1600000 [==============================] - 182s 114us/step - loss: 0.2935 - acc: 0.9072 - val_loss: 0.2271 - val_acc: 0.9337\n",
      "\n",
      "Epoch 00046: val_loss did not improve from 0.19795\n",
      "Epoch 47/50\n",
      " 401280/1600000 [======>.......................] - ETA: 2:08 - loss: 0.2946 - acc: 0.9083"
     ]
    }
   ],
   "source": [
    "# Build the network\n",
    "model = Sequential()\n",
    "model.add(Dense(9, input_dim=9, activation='relu'))\n",
    "model.add(Dropout(0.2, input_shape=(9,)))\n",
    "model.add(Dense(32, activation='relu'))\n",
    "model.add(Dropout(0.2, input_shape=(32,)))\n",
    "model.add(Dense(64, activation='relu'))\n",
    "model.add(Dropout(0.2, input_shape=(64,)))\n",
    "model.add(Dense(128, activation='relu'))\n",
    "model.add(Dropout(0.2, input_shape=(128,)))\n",
    "model.add(Dense(256, activation='relu'))\n",
    "model.add(Dropout(0.2, input_shape=(256,)))\n",
    "model.add(Dense(128, activation='relu'))\n",
    "model.add(Dropout(0.2, input_shape=(128,)))\n",
    "model.add(Dense(64, activation='relu'))\n",
    "model.add(Dropout(0.2, input_shape=(64,)))\n",
    "model.add(Dense(32, activation='relu'))\n",
    "model.add(Dropout(0.2, input_shape=(32,)))\n",
    "model.add(Dense(9, activation='relu'))\n",
    "model.add(Dropout(0.2, input_shape=(9,)))\n",
    "model.add(Dense(1, activation='sigmoid'))\n",
    "\n",
    "checkpointer = ModelCheckpoint('model-testall-26Mar2019.h5', verbose=1, save_best_only=True)\n",
    "model.compile(loss='binary_crossentropy', optimizer='adam', metrics=['accuracy'])\n",
    "\n",
    "results = model.fit(feat, labels, validation_split=0.2, epochs=50, batch_size=64, shuffle=True, \n",
    "          callbacks=[checkpointer, cb])"
   ]
  },
  {
   "cell_type": "code",
   "execution_count": null,
   "metadata": {},
   "outputs": [],
   "source": [
    "#print(results.history.keys())\n",
    "\n",
    "# Summarize history for loss\n",
    "plt.plot(results.history['loss'])\n",
    "plt.plot(results.history['val_loss'])\n",
    "plt.title('model loss')\n",
    "plt.ylabel('loss')\n",
    "plt.xlabel('epoch')\n",
    "plt.legend(['train', 'test'], loc='upper left')\n",
    "plt.show()\n",
    "\n",
    "# Summarize history for mean_iou\n",
    "plt.plot(results.history['acc'])\n",
    "plt.plot(results.history['val_acc'])\n",
    "plt.title('model accuracy')\n",
    "plt.ylabel('accuracy')\n",
    "plt.xlabel('epoch')\n",
    "plt.legend(['train', 'test'], loc='upper left')\n",
    "plt.show()\n",
    "\n",
    "# Results and Plots\n",
    "# model.summary()\n",
    "print(\"UNET ARCHITECTURE\")\n",
    "print (\"-------------------------------------------------------------\")\n",
    "print(\"Total num of training images: %d\" % len(train_ids))\n",
    "print(\"Max num of epochs: %d\" % 50)\n",
    "print(\"Optimizer: %s\" % 'ADAM')\n",
    "print(\"Batch size: %d\" % 64)\n",
    "print(\"Loss function: %s\" % 'Binary Cross-Entropy')\n",
    "print(\"Validation data percentage: %d\" % 10)\n",
    "print(\"Early stoppping: %s\" % 'Yes')\n",
    "\n",
    "ep = 50;\n",
    "a = results.history[\"acc\"]\n",
    "b = results.history[\"loss\"]\n",
    "c = results.history[\"val_acc\"]\n",
    "d = results.history[\"val_loss\"]\n",
    "e = cb.times\n",
    "print (\"-------------------------------------------------------------\")\n",
    "header = \"#\"+\"    \"+\"Time sec\"+\"      \"+\"Tr_acc\"+\"     \"+\"Tr_loss\"+\"      \"+\"Vl_acc\"+\"     \"+\"Vl_loss\"\n",
    "print(header)\n",
    "print (\"-------------------------------------------------------------\")\n",
    "for l in range(ep):\n",
    "    str = \"%d\\t\\t%f\\t\\t%f\\t\\t%f\\t\\t%f\\t\\t%f\" % (l, round(e[l],4),round(a[l],4),round(b[l],4),round(c[l],4),d[l])\n",
    "    print (str.expandtabs(2))\n",
    "print (\"-------------------------------------------------------------\")"
   ]
  },
  {
   "cell_type": "code",
   "execution_count": 32,
   "metadata": {
    "scrolled": true
   },
   "outputs": [
    {
     "name": "stdout",
     "output_type": "stream",
     "text": [
      "Getting features and labels from images unreshaped... \n"
     ]
    },
    {
     "name": "stderr",
     "output_type": "stream",
     "text": [
      "\n",
      "\n",
      "  0%|          | 0/100 [00:00<?, ?it/s]\u001b[A\u001b[A\n",
      "\n",
      "  2%|▏         | 2/100 [00:00<00:06, 14.85it/s]\u001b[A\u001b[A\n",
      "\n",
      "  4%|▍         | 4/100 [00:00<00:10,  8.78it/s]\u001b[A\u001b[A\n",
      "\n",
      "  6%|▌         | 6/100 [00:00<00:09,  9.91it/s]\u001b[A\u001b[A\n",
      "\n",
      "  8%|▊         | 8/100 [00:00<00:08, 11.13it/s]\u001b[A\u001b[A\n",
      "\n",
      " 10%|█         | 10/100 [00:00<00:07, 12.22it/s]\u001b[A\u001b[A\n",
      "\n",
      " 12%|█▏        | 12/100 [00:01<00:06, 13.08it/s]\u001b[A\u001b[A\n",
      "\n",
      " 14%|█▍        | 14/100 [00:01<00:06, 13.63it/s]\u001b[A\u001b[A\n",
      "\n",
      " 16%|█▌        | 16/100 [00:01<00:05, 14.09it/s]\u001b[A\u001b[A\n",
      "\n",
      " 18%|█▊        | 18/100 [00:01<00:05, 14.39it/s]\u001b[A\u001b[A\n",
      "\n",
      " 20%|██        | 20/100 [00:01<00:05, 14.58it/s]\u001b[A\u001b[A\n",
      "\n",
      " 22%|██▏       | 22/100 [00:01<00:05, 14.59it/s]\u001b[A\u001b[A\n",
      "\n",
      " 24%|██▍       | 24/100 [00:01<00:05, 14.65it/s]\u001b[A\u001b[A\n",
      "\n",
      " 26%|██▌       | 26/100 [00:02<00:05, 14.64it/s]\u001b[A\u001b[A\n",
      "\n",
      " 28%|██▊       | 28/100 [00:02<00:04, 14.62it/s]\u001b[A\u001b[A\n",
      "\n",
      " 30%|███       | 30/100 [00:02<00:04, 14.57it/s]\u001b[A\u001b[A\n",
      "\n",
      " 32%|███▏      | 32/100 [00:02<00:04, 14.50it/s]\u001b[A\u001b[A\n",
      "\n",
      " 34%|███▍      | 34/100 [00:02<00:04, 14.42it/s]\u001b[A\u001b[A\n",
      "\n",
      " 36%|███▌      | 36/100 [00:02<00:04, 14.33it/s]\u001b[A\u001b[A\n",
      "\n",
      " 38%|███▊      | 38/100 [00:02<00:04, 14.21it/s]\u001b[A\u001b[A\n",
      "\n",
      " 40%|████      | 40/100 [00:03<00:04, 14.12it/s]\u001b[A\u001b[A\n",
      "\n",
      " 42%|████▏     | 42/100 [00:03<00:04, 14.01it/s]\u001b[A\u001b[A\n",
      "\n",
      " 44%|████▍     | 44/100 [00:03<00:04, 13.91it/s]\u001b[A\u001b[A\n",
      "\n",
      " 46%|████▌     | 46/100 [00:03<00:03, 13.81it/s]\u001b[A\u001b[A\n",
      "\n",
      " 48%|████▊     | 48/100 [00:03<00:03, 13.70it/s]\u001b[A\u001b[A\n",
      "\n",
      " 50%|█████     | 50/100 [00:03<00:03, 13.59it/s]\u001b[A\u001b[A\n",
      "\n",
      " 52%|█████▏    | 52/100 [00:03<00:03, 13.49it/s]\u001b[A\u001b[A\n",
      "\n",
      " 54%|█████▍    | 54/100 [00:04<00:03, 13.38it/s]\u001b[A\u001b[A\n",
      "\n",
      " 56%|█████▌    | 56/100 [00:04<00:03, 13.29it/s]\u001b[A\u001b[A\n",
      "\n",
      " 58%|█████▊    | 58/100 [00:04<00:03, 13.19it/s]\u001b[A\u001b[A\n",
      "\n",
      " 60%|██████    | 60/100 [00:04<00:03, 13.09it/s]\u001b[A\u001b[A\n",
      "\n",
      " 62%|██████▏   | 62/100 [00:04<00:02, 12.99it/s]\u001b[A\u001b[A\n",
      "\n",
      " 64%|██████▍   | 64/100 [00:04<00:02, 12.90it/s]\u001b[A\u001b[A\n",
      "\n",
      " 66%|██████▌   | 66/100 [00:05<00:02, 12.80it/s]\u001b[A\u001b[A\n",
      "\n",
      " 68%|██████▊   | 68/100 [00:05<00:02, 12.71it/s]\u001b[A\u001b[A\n",
      "\n",
      " 70%|███████   | 70/100 [00:05<00:02, 12.62it/s]\u001b[A\u001b[A\n",
      "\n",
      " 72%|███████▏  | 72/100 [00:05<00:02, 12.53it/s]\u001b[A\u001b[A\n",
      "\n",
      " 74%|███████▍  | 74/100 [00:05<00:02, 12.45it/s]\u001b[A\u001b[A\n",
      "\n",
      " 76%|███████▌  | 76/100 [00:05<00:01, 12.36it/s]\u001b[A\u001b[A\n",
      "\n",
      " 78%|███████▊  | 78/100 [00:05<00:01, 12.27it/s]\u001b[A\u001b[A\n",
      "\n",
      " 80%|████████  | 80/100 [00:06<00:01, 12.18it/s]\u001b[A\u001b[A\n",
      "\n",
      " 82%|████████▏ | 82/100 [00:06<00:01, 12.10it/s]\u001b[A\u001b[A\n",
      "\n",
      " 84%|████████▍ | 84/100 [00:06<00:01, 12.01it/s]\u001b[A\u001b[A\n",
      "\n",
      " 86%|████████▌ | 86/100 [00:06<00:01, 11.94it/s]\u001b[A\u001b[A\n",
      "\n",
      " 88%|████████▊ | 88/100 [00:06<00:01, 11.86it/s]\u001b[A\u001b[A\n",
      "\n",
      " 90%|█████████ | 90/100 [00:06<00:00, 11.81it/s]\u001b[A\u001b[A\n",
      "\n",
      " 92%|█████████▏| 92/100 [00:07<00:00, 11.73it/s]\u001b[A\u001b[A\n",
      "\n",
      " 94%|█████████▍| 94/100 [00:07<00:00, 11.56it/s]\u001b[A\u001b[A\n",
      "\n",
      " 96%|█████████▌| 96/100 [00:07<00:00, 11.51it/s]\u001b[A\u001b[A\n",
      "\n",
      " 98%|█████████▊| 98/100 [00:07<00:00, 11.44it/s]\u001b[A\u001b[A\n",
      "\n",
      "100%|██████████| 100/100 [00:07<00:00, 11.29it/s]\u001b[A\u001b[A"
     ]
    },
    {
     "name": "stdout",
     "output_type": "stream",
     "text": [
      "14975050/14975050 [==============================] - 900s 60us/step\n",
      "\n",
      "acc: 94.35%\n"
     ]
    }
   ],
   "source": [
    "# Evaluate the model\n",
    "model = load_model('model-testall-26Mar2019.h5')\n",
    "IMG_HEIGHT = 128\n",
    "IMG_WIDTH = 128\n",
    "IMG_CHANNELS = 3\n",
    "\n",
    "# Compute Accuracy for Abdomen Set\n",
    "ABD_PATH = '/home/lalzogbi/Documents/Skin_Datasets/allabdomen/val/skin_val2019/'\n",
    "MSK_PATH = '/home/lalzogbi/Documents/Skin_Datasets/allabdomen/val/annotations/'\n",
    "abd_ids = next(os.walk(ABD_PATH))[2]\n",
    "msk_ids = next(os.walk(MSK_PATH))[2]\n",
    "abd_ids.sort()\n",
    "msk_ids.sort()\n",
    "\n",
    "print('Getting features and labels from images unreshaped... ')\n",
    "sys.stdout.flush()\n",
    "\n",
    "path = ABD_PATH + abd_ids[0]\n",
    "img = imread(path)[:,:,:IMG_CHANNELS]\n",
    "dat = img.reshape(img.shape[0]*img.shape[1],3)\n",
    "hsv = cv.cvtColor(img, cv.COLOR_RGB2HSV)\n",
    "hsv = hsv.reshape(img.shape[0]*img.shape[1],3)\n",
    "lab = cv.cvtColor(img, cv.COLOR_RGB2Lab)\n",
    "lab = lab.reshape(img.shape[0]*img.shape[1],3)\n",
    "\n",
    "path = MSK_PATH + msk_ids[0]\n",
    "img = imread(path)\n",
    "\n",
    "if img.ndim == 3:\n",
    "    img = img[:,:,1]\n",
    "    \n",
    "img = img > 30    \n",
    "img = img > 0\n",
    "img = img.astype(np.uint8)\n",
    "L = img.reshape(img.shape[0]*img.shape[1],1)\n",
    "\n",
    "dat = np.concatenate((dat,hsv,lab,L),axis=1)\n",
    "\n",
    "for n, id_ in tqdm(enumerate(abd_ids), total=len(abd_ids)):\n",
    "    path = ABD_PATH + abd_ids[n]\n",
    "    img = imread(path)[:,:,:IMG_CHANNELS]\n",
    "    b = img.reshape(img.shape[0]*img.shape[1],3)\n",
    "    hsv = cv.cvtColor(img, cv.COLOR_RGB2HSV)\n",
    "    hsv = hsv.reshape(img.shape[0]*img.shape[1],3)\n",
    "    lab = cv.cvtColor(img, cv.COLOR_RGB2Lab)\n",
    "    lab = lab.reshape(img.shape[0]*img.shape[1],3)\n",
    "    \n",
    "    path = MSK_PATH + msk_ids[n]\n",
    "    img = imread(path)\n",
    "\n",
    "    if img.ndim == 3:\n",
    "        img = img[:,:,1]\n",
    "    \n",
    "    img = img > 30    \n",
    "    img = img > 0\n",
    "    img = img.astype(np.uint8)\n",
    "    L = img.reshape(img.shape[0]*img.shape[1],1)\n",
    "    \n",
    "    dat_temp = np.concatenate((b,hsv,lab,L),axis=1)\n",
    "    dat = np.concatenate((dat,dat_temp))\n",
    "   \n",
    "X = dat[:,0:9]\n",
    "Y = dat[:,9]\n",
    "\n",
    "scores = model.evaluate(X, Y)\n",
    "print(\"\\n%s: %.2f%%\" % (model.metrics_names[1], scores[1]*100))"
   ]
  },
  {
   "cell_type": "code",
   "execution_count": 29,
   "metadata": {
    "scrolled": true
   },
   "outputs": [
    {
     "name": "stderr",
     "output_type": "stream",
     "text": [
      "\n",
      "\n",
      "  0%|          | 0/100 [00:00<?, ?it/s]\u001b[A\u001b[A"
     ]
    },
    {
     "name": "stdout",
     "output_type": "stream",
     "text": [
      "235872/235872 [==============================] - 12s 50us/step\n"
     ]
    },
    {
     "name": "stderr",
     "output_type": "stream",
     "text": [
      "\n",
      "\n",
      "  1%|          | 1/100 [00:11<19:37, 11.89s/it]\u001b[A\u001b[A"
     ]
    },
    {
     "name": "stdout",
     "output_type": "stream",
     "text": [
      "2064000/2064000 [==============================] - 100s 49us/step\n"
     ]
    },
    {
     "name": "stderr",
     "output_type": "stream",
     "text": [
      "\n",
      "\n",
      "  2%|▏         | 2/100 [01:52<1:02:50, 38.47s/it]\u001b[A\u001b[A"
     ]
    },
    {
     "name": "stdout",
     "output_type": "stream",
     "text": [
      "674520/674520 [==============================] - 33s 49us/step\n"
     ]
    },
    {
     "name": "stderr",
     "output_type": "stream",
     "text": [
      "\n",
      "\n",
      "  3%|▎         | 3/100 [02:25<59:26, 36.76s/it]  \u001b[A\u001b[A"
     ]
    },
    {
     "name": "stdout",
     "output_type": "stream",
     "text": [
      "6553600/6553600 [==============================] - 315s 48us/step\n"
     ]
    },
    {
     "name": "stderr",
     "output_type": "stream",
     "text": [
      "\n",
      "\n",
      "  4%|▍         | 4/100 [07:40<3:12:43, 120.46s/it]\u001b[A\u001b[A"
     ]
    },
    {
     "name": "stdout",
     "output_type": "stream",
     "text": [
      "247860/247860 [==============================] - 12s 47us/step\n"
     ]
    },
    {
     "name": "stderr",
     "output_type": "stream",
     "text": [
      "\n",
      "\n",
      "  5%|▌         | 5/100 [07:52<2:19:05, 87.85s/it] \u001b[A\u001b[A"
     ]
    },
    {
     "name": "stdout",
     "output_type": "stream",
     "text": [
      "119600/119600 [==============================] - 6s 47us/step\n"
     ]
    },
    {
     "name": "stderr",
     "output_type": "stream",
     "text": [
      "\n",
      "\n",
      "  6%|▌         | 6/100 [07:58<1:38:59, 63.19s/it]\u001b[A\u001b[A"
     ]
    },
    {
     "name": "stdout",
     "output_type": "stream",
     "text": [
      "51529/51529 [==============================] - 2s 47us/step\n"
     ]
    },
    {
     "name": "stderr",
     "output_type": "stream",
     "text": [
      "\n",
      "\n",
      "  7%|▋         | 7/100 [08:00<1:09:41, 44.96s/it]\u001b[A\u001b[A"
     ]
    },
    {
     "name": "stdout",
     "output_type": "stream",
     "text": [
      "51529/51529 [==============================] - 2s 47us/step\n"
     ]
    },
    {
     "name": "stderr",
     "output_type": "stream",
     "text": [
      "\n",
      "\n",
      "  8%|▊         | 8/100 [08:03<49:23, 32.21s/it]  \u001b[A\u001b[A"
     ]
    },
    {
     "name": "stdout",
     "output_type": "stream",
     "text": [
      "51529/51529 [==============================] - 2s 47us/step\n"
     ]
    },
    {
     "name": "stderr",
     "output_type": "stream",
     "text": [
      "\n",
      "\n",
      "  9%|▉         | 9/100 [08:05<35:18, 23.28s/it]\u001b[A\u001b[A"
     ]
    },
    {
     "name": "stdout",
     "output_type": "stream",
     "text": [
      "51529/51529 [==============================] - 2s 47us/step\n"
     ]
    },
    {
     "name": "stderr",
     "output_type": "stream",
     "text": [
      "\n",
      "\n",
      " 10%|█         | 10/100 [08:08<25:32, 17.02s/it]\u001b[A\u001b[A"
     ]
    },
    {
     "name": "stdout",
     "output_type": "stream",
     "text": [
      "51529/51529 [==============================] - 2s 48us/step\n"
     ]
    },
    {
     "name": "stderr",
     "output_type": "stream",
     "text": [
      "\n",
      "\n",
      " 11%|█         | 11/100 [08:10<18:46, 12.66s/it]\u001b[A\u001b[A"
     ]
    },
    {
     "name": "stdout",
     "output_type": "stream",
     "text": [
      "51529/51529 [==============================] - 2s 48us/step\n"
     ]
    },
    {
     "name": "stderr",
     "output_type": "stream",
     "text": [
      "\n",
      "\n",
      " 12%|█▏        | 12/100 [08:13<14:05,  9.61s/it]\u001b[A\u001b[A"
     ]
    },
    {
     "name": "stdout",
     "output_type": "stream",
     "text": [
      "51529/51529 [==============================] - 2s 47us/step\n"
     ]
    },
    {
     "name": "stderr",
     "output_type": "stream",
     "text": [
      "\n",
      "\n",
      " 13%|█▎        | 13/100 [08:15<10:48,  7.45s/it]\u001b[A\u001b[A"
     ]
    },
    {
     "name": "stdout",
     "output_type": "stream",
     "text": [
      "51529/51529 [==============================] - 2s 47us/step\n"
     ]
    },
    {
     "name": "stderr",
     "output_type": "stream",
     "text": [
      "\n",
      "\n",
      " 14%|█▍        | 14/100 [08:17<08:31,  5.94s/it]\u001b[A\u001b[A"
     ]
    },
    {
     "name": "stdout",
     "output_type": "stream",
     "text": [
      "51529/51529 [==============================] - 2s 48us/step\n"
     ]
    },
    {
     "name": "stderr",
     "output_type": "stream",
     "text": [
      "\n",
      "\n",
      " 15%|█▌        | 15/100 [08:20<06:57,  4.91s/it]\u001b[A\u001b[A"
     ]
    },
    {
     "name": "stdout",
     "output_type": "stream",
     "text": [
      "51529/51529 [==============================] - 2s 46us/step\n"
     ]
    },
    {
     "name": "stderr",
     "output_type": "stream",
     "text": [
      "\n",
      "\n",
      " 16%|█▌        | 16/100 [08:22<05:49,  4.16s/it]\u001b[A\u001b[A"
     ]
    },
    {
     "name": "stdout",
     "output_type": "stream",
     "text": [
      "51529/51529 [==============================] - 2s 47us/step\n"
     ]
    },
    {
     "name": "stderr",
     "output_type": "stream",
     "text": [
      "\n",
      "\n",
      " 17%|█▋        | 17/100 [08:25<05:01,  3.63s/it]\u001b[A\u001b[A"
     ]
    },
    {
     "name": "stdout",
     "output_type": "stream",
     "text": [
      "51529/51529 [==============================] - 2s 47us/step\n"
     ]
    },
    {
     "name": "stderr",
     "output_type": "stream",
     "text": [
      "\n",
      "\n",
      " 18%|█▊        | 18/100 [08:27<04:27,  3.27s/it]\u001b[A\u001b[A"
     ]
    },
    {
     "name": "stdout",
     "output_type": "stream",
     "text": [
      "51529/51529 [==============================] - 2s 47us/step\n"
     ]
    },
    {
     "name": "stderr",
     "output_type": "stream",
     "text": [
      "\n",
      "\n",
      " 19%|█▉        | 19/100 [08:30<04:04,  3.01s/it]\u001b[A\u001b[A"
     ]
    },
    {
     "name": "stdout",
     "output_type": "stream",
     "text": [
      "51529/51529 [==============================] - 2s 48us/step\n"
     ]
    },
    {
     "name": "stderr",
     "output_type": "stream",
     "text": [
      "\n",
      "\n",
      " 20%|██        | 20/100 [08:32<03:47,  2.85s/it]\u001b[A\u001b[A"
     ]
    },
    {
     "name": "stdout",
     "output_type": "stream",
     "text": [
      "51529/51529 [==============================] - 2s 47us/step\n"
     ]
    },
    {
     "name": "stderr",
     "output_type": "stream",
     "text": [
      "\n",
      "\n",
      " 21%|██        | 21/100 [08:34<03:35,  2.73s/it]\u001b[A\u001b[A"
     ]
    },
    {
     "name": "stdout",
     "output_type": "stream",
     "text": [
      "51529/51529 [==============================] - 2s 47us/step\n"
     ]
    },
    {
     "name": "stderr",
     "output_type": "stream",
     "text": [
      "\n",
      "\n",
      " 22%|██▏       | 22/100 [08:37<03:26,  2.65s/it]\u001b[A\u001b[A"
     ]
    },
    {
     "name": "stdout",
     "output_type": "stream",
     "text": [
      "51529/51529 [==============================] - 2s 47us/step\n"
     ]
    },
    {
     "name": "stderr",
     "output_type": "stream",
     "text": [
      "\n",
      "\n",
      " 23%|██▎       | 23/100 [08:39<03:19,  2.59s/it]\u001b[A\u001b[A"
     ]
    },
    {
     "name": "stdout",
     "output_type": "stream",
     "text": [
      "51529/51529 [==============================] - 2s 47us/step\n"
     ]
    },
    {
     "name": "stderr",
     "output_type": "stream",
     "text": [
      "\n",
      "\n",
      " 24%|██▍       | 24/100 [08:42<03:13,  2.55s/it]\u001b[A\u001b[A"
     ]
    },
    {
     "name": "stdout",
     "output_type": "stream",
     "text": [
      "51529/51529 [==============================] - 2s 47us/step\n"
     ]
    },
    {
     "name": "stderr",
     "output_type": "stream",
     "text": [
      "\n",
      "\n",
      " 25%|██▌       | 25/100 [08:44<03:08,  2.52s/it]\u001b[A\u001b[A"
     ]
    },
    {
     "name": "stdout",
     "output_type": "stream",
     "text": [
      "51529/51529 [==============================] - 2s 47us/step\n"
     ]
    },
    {
     "name": "stderr",
     "output_type": "stream",
     "text": [
      "\n",
      "\n",
      " 26%|██▌       | 26/100 [08:47<03:04,  2.49s/it]\u001b[A\u001b[A"
     ]
    },
    {
     "name": "stdout",
     "output_type": "stream",
     "text": [
      "51529/51529 [==============================] - 2s 47us/step\n"
     ]
    },
    {
     "name": "stderr",
     "output_type": "stream",
     "text": [
      "\n",
      "\n",
      " 27%|██▋       | 27/100 [08:49<03:00,  2.47s/it]\u001b[A\u001b[A"
     ]
    },
    {
     "name": "stdout",
     "output_type": "stream",
     "text": [
      "51529/51529 [==============================] - 2s 48us/step\n"
     ]
    },
    {
     "name": "stderr",
     "output_type": "stream",
     "text": [
      "\n",
      "\n",
      " 28%|██▊       | 28/100 [08:52<02:57,  2.47s/it]\u001b[A\u001b[A"
     ]
    },
    {
     "name": "stdout",
     "output_type": "stream",
     "text": [
      "51529/51529 [==============================] - 2s 47us/step\n"
     ]
    },
    {
     "name": "stderr",
     "output_type": "stream",
     "text": [
      "\n",
      "\n",
      " 29%|██▉       | 29/100 [08:54<02:54,  2.46s/it]\u001b[A\u001b[A"
     ]
    },
    {
     "name": "stdout",
     "output_type": "stream",
     "text": [
      "51529/51529 [==============================] - 2s 47us/step\n"
     ]
    },
    {
     "name": "stderr",
     "output_type": "stream",
     "text": [
      "\n",
      "\n",
      " 30%|███       | 30/100 [08:56<02:52,  2.46s/it]\u001b[A\u001b[A"
     ]
    },
    {
     "name": "stdout",
     "output_type": "stream",
     "text": [
      "51529/51529 [==============================] - 2s 47us/step\n"
     ]
    },
    {
     "name": "stderr",
     "output_type": "stream",
     "text": [
      "\n",
      "\n",
      " 31%|███       | 31/100 [08:59<02:49,  2.45s/it]\u001b[A\u001b[A"
     ]
    },
    {
     "name": "stdout",
     "output_type": "stream",
     "text": [
      "51529/51529 [==============================] - 2s 47us/step\n"
     ]
    },
    {
     "name": "stderr",
     "output_type": "stream",
     "text": [
      "\n",
      "\n",
      " 32%|███▏      | 32/100 [09:01<02:46,  2.45s/it]\u001b[A\u001b[A"
     ]
    },
    {
     "name": "stdout",
     "output_type": "stream",
     "text": [
      "51529/51529 [==============================] - 2s 47us/step\n"
     ]
    },
    {
     "name": "stderr",
     "output_type": "stream",
     "text": [
      "\n",
      "\n",
      " 33%|███▎      | 33/100 [09:04<02:44,  2.45s/it]\u001b[A\u001b[A"
     ]
    },
    {
     "name": "stdout",
     "output_type": "stream",
     "text": [
      "51529/51529 [==============================] - 2s 48us/step\n"
     ]
    },
    {
     "name": "stderr",
     "output_type": "stream",
     "text": [
      "\n",
      "\n",
      " 34%|███▍      | 34/100 [09:06<02:42,  2.46s/it]\u001b[A\u001b[A"
     ]
    },
    {
     "name": "stdout",
     "output_type": "stream",
     "text": [
      "51529/51529 [==============================] - 2s 47us/step\n"
     ]
    },
    {
     "name": "stderr",
     "output_type": "stream",
     "text": [
      "\n",
      "\n",
      " 35%|███▌      | 35/100 [09:09<02:39,  2.46s/it]\u001b[A\u001b[A"
     ]
    },
    {
     "name": "stdout",
     "output_type": "stream",
     "text": [
      "51529/51529 [==============================] - 2s 48us/step\n"
     ]
    },
    {
     "name": "stderr",
     "output_type": "stream",
     "text": [
      "\n",
      "\n",
      " 36%|███▌      | 36/100 [09:11<02:37,  2.46s/it]\u001b[A\u001b[A"
     ]
    },
    {
     "name": "stdout",
     "output_type": "stream",
     "text": [
      "51529/51529 [==============================] - 2s 47us/step\n"
     ]
    },
    {
     "name": "stderr",
     "output_type": "stream",
     "text": [
      "\n",
      "\n",
      " 37%|███▋      | 37/100 [09:14<02:34,  2.46s/it]\u001b[A\u001b[A"
     ]
    },
    {
     "name": "stdout",
     "output_type": "stream",
     "text": [
      "51529/51529 [==============================] - 2s 46us/step\n"
     ]
    },
    {
     "name": "stderr",
     "output_type": "stream",
     "text": [
      "\n",
      "\n",
      " 38%|███▊      | 38/100 [09:16<02:31,  2.44s/it]\u001b[A\u001b[A"
     ]
    },
    {
     "name": "stdout",
     "output_type": "stream",
     "text": [
      "51529/51529 [==============================] - 2s 47us/step\n"
     ]
    },
    {
     "name": "stderr",
     "output_type": "stream",
     "text": [
      "\n",
      "\n",
      " 39%|███▉      | 39/100 [09:18<02:28,  2.43s/it]\u001b[A\u001b[A"
     ]
    },
    {
     "name": "stdout",
     "output_type": "stream",
     "text": [
      "51529/51529 [==============================] - 2s 47us/step\n"
     ]
    },
    {
     "name": "stderr",
     "output_type": "stream",
     "text": [
      "\n",
      "\n",
      " 40%|████      | 40/100 [09:21<02:26,  2.44s/it]\u001b[A\u001b[A"
     ]
    },
    {
     "name": "stdout",
     "output_type": "stream",
     "text": [
      "51529/51529 [==============================] - 2s 47us/step\n"
     ]
    },
    {
     "name": "stderr",
     "output_type": "stream",
     "text": [
      "\n",
      "\n",
      " 41%|████      | 41/100 [09:23<02:23,  2.43s/it]\u001b[A\u001b[A"
     ]
    },
    {
     "name": "stdout",
     "output_type": "stream",
     "text": [
      "51529/51529 [==============================] - 2s 45us/step\n"
     ]
    },
    {
     "name": "stderr",
     "output_type": "stream",
     "text": [
      "\n",
      "\n",
      " 42%|████▏     | 42/100 [09:26<02:18,  2.39s/it]\u001b[A\u001b[A"
     ]
    },
    {
     "name": "stdout",
     "output_type": "stream",
     "text": [
      "51529/51529 [==============================] - 2s 45us/step\n"
     ]
    },
    {
     "name": "stderr",
     "output_type": "stream",
     "text": [
      "\n",
      "\n",
      " 43%|████▎     | 43/100 [09:28<02:15,  2.37s/it]\u001b[A\u001b[A"
     ]
    },
    {
     "name": "stdout",
     "output_type": "stream",
     "text": [
      "51529/51529 [==============================] - 2s 45us/step\n"
     ]
    },
    {
     "name": "stderr",
     "output_type": "stream",
     "text": [
      "\n",
      "\n",
      " 44%|████▍     | 44/100 [09:30<02:11,  2.35s/it]\u001b[A\u001b[A"
     ]
    },
    {
     "name": "stdout",
     "output_type": "stream",
     "text": [
      "51529/51529 [==============================] - 2s 45us/step\n"
     ]
    },
    {
     "name": "stderr",
     "output_type": "stream",
     "text": [
      "\n",
      "\n",
      " 45%|████▌     | 45/100 [09:33<02:08,  2.34s/it]\u001b[A\u001b[A"
     ]
    },
    {
     "name": "stdout",
     "output_type": "stream",
     "text": [
      "51529/51529 [==============================] - 2s 45us/step\n"
     ]
    },
    {
     "name": "stderr",
     "output_type": "stream",
     "text": [
      "\n",
      "\n",
      " 46%|████▌     | 46/100 [09:35<02:06,  2.34s/it]\u001b[A\u001b[A"
     ]
    },
    {
     "name": "stdout",
     "output_type": "stream",
     "text": [
      "51529/51529 [==============================] - 2s 45us/step\n"
     ]
    },
    {
     "name": "stderr",
     "output_type": "stream",
     "text": [
      "\n",
      "\n",
      " 47%|████▋     | 47/100 [09:37<02:03,  2.33s/it]\u001b[A\u001b[A"
     ]
    },
    {
     "name": "stdout",
     "output_type": "stream",
     "text": [
      "51529/51529 [==============================] - 2s 45us/step\n"
     ]
    },
    {
     "name": "stderr",
     "output_type": "stream",
     "text": [
      "\n",
      "\n",
      " 48%|████▊     | 48/100 [09:40<02:01,  2.33s/it]\u001b[A\u001b[A"
     ]
    },
    {
     "name": "stdout",
     "output_type": "stream",
     "text": [
      "51529/51529 [==============================] - 2s 45us/step\n"
     ]
    },
    {
     "name": "stderr",
     "output_type": "stream",
     "text": [
      "\n",
      "\n",
      " 49%|████▉     | 49/100 [09:42<01:58,  2.32s/it]\u001b[A\u001b[A"
     ]
    },
    {
     "name": "stdout",
     "output_type": "stream",
     "text": [
      "51529/51529 [==============================] - 2s 45us/step\n"
     ]
    },
    {
     "name": "stderr",
     "output_type": "stream",
     "text": [
      "\n",
      "\n",
      " 50%|█████     | 50/100 [09:44<01:56,  2.32s/it]\u001b[A\u001b[A"
     ]
    },
    {
     "name": "stdout",
     "output_type": "stream",
     "text": [
      "51529/51529 [==============================] - 2s 45us/step\n"
     ]
    },
    {
     "name": "stderr",
     "output_type": "stream",
     "text": [
      "\n",
      "\n",
      " 51%|█████     | 51/100 [09:47<01:53,  2.32s/it]\u001b[A\u001b[A"
     ]
    },
    {
     "name": "stdout",
     "output_type": "stream",
     "text": [
      "51529/51529 [==============================] - 2s 44us/step\n"
     ]
    },
    {
     "name": "stderr",
     "output_type": "stream",
     "text": [
      "\n",
      "\n",
      " 52%|█████▏    | 52/100 [09:49<01:51,  2.32s/it]\u001b[A\u001b[A"
     ]
    },
    {
     "name": "stdout",
     "output_type": "stream",
     "text": [
      "51529/51529 [==============================] - 2s 47us/step\n"
     ]
    },
    {
     "name": "stderr",
     "output_type": "stream",
     "text": [
      "\n",
      "\n",
      " 53%|█████▎    | 53/100 [09:51<01:50,  2.36s/it]\u001b[A\u001b[A"
     ]
    },
    {
     "name": "stdout",
     "output_type": "stream",
     "text": [
      "51529/51529 [==============================] - 2s 46us/step\n"
     ]
    },
    {
     "name": "stderr",
     "output_type": "stream",
     "text": [
      "\n",
      "\n",
      " 54%|█████▍    | 54/100 [09:54<01:48,  2.37s/it]\u001b[A\u001b[A"
     ]
    },
    {
     "name": "stdout",
     "output_type": "stream",
     "text": [
      "51529/51529 [==============================] - 2s 47us/step\n"
     ]
    },
    {
     "name": "stderr",
     "output_type": "stream",
     "text": [
      "\n",
      "\n",
      " 55%|█████▌    | 55/100 [09:56<01:47,  2.38s/it]\u001b[A\u001b[A"
     ]
    },
    {
     "name": "stdout",
     "output_type": "stream",
     "text": [
      "51529/51529 [==============================] - 2s 47us/step\n"
     ]
    },
    {
     "name": "stderr",
     "output_type": "stream",
     "text": [
      "\n",
      "\n",
      " 56%|█████▌    | 56/100 [09:59<01:45,  2.40s/it]\u001b[A\u001b[A"
     ]
    },
    {
     "name": "stdout",
     "output_type": "stream",
     "text": [
      "51529/51529 [==============================] - 2s 48us/step\n"
     ]
    },
    {
     "name": "stderr",
     "output_type": "stream",
     "text": [
      "\n",
      "\n",
      " 57%|█████▋    | 57/100 [10:01<01:44,  2.42s/it]\u001b[A\u001b[A"
     ]
    },
    {
     "name": "stdout",
     "output_type": "stream",
     "text": [
      "51529/51529 [==============================] - 2s 48us/step\n"
     ]
    },
    {
     "name": "stderr",
     "output_type": "stream",
     "text": [
      "\n",
      "\n",
      " 58%|█████▊    | 58/100 [10:03<01:42,  2.44s/it]\u001b[A\u001b[A"
     ]
    },
    {
     "name": "stdout",
     "output_type": "stream",
     "text": [
      "51529/51529 [==============================] - 2s 47us/step\n"
     ]
    },
    {
     "name": "stderr",
     "output_type": "stream",
     "text": [
      "\n",
      "\n",
      " 59%|█████▉    | 59/100 [10:06<01:40,  2.44s/it]\u001b[A\u001b[A"
     ]
    },
    {
     "name": "stdout",
     "output_type": "stream",
     "text": [
      "51529/51529 [==============================] - 2s 47us/step\n"
     ]
    },
    {
     "name": "stderr",
     "output_type": "stream",
     "text": [
      "\n",
      "\n",
      " 60%|██████    | 60/100 [10:08<01:37,  2.45s/it]\u001b[A\u001b[A"
     ]
    },
    {
     "name": "stdout",
     "output_type": "stream",
     "text": [
      "51529/51529 [==============================] - 2s 47us/step\n"
     ]
    },
    {
     "name": "stderr",
     "output_type": "stream",
     "text": [
      "\n",
      "\n",
      " 61%|██████    | 61/100 [10:11<01:35,  2.45s/it]\u001b[A\u001b[A"
     ]
    },
    {
     "name": "stdout",
     "output_type": "stream",
     "text": [
      "51529/51529 [==============================] - 2s 47us/step\n"
     ]
    },
    {
     "name": "stderr",
     "output_type": "stream",
     "text": [
      "\n",
      "\n",
      " 62%|██████▏   | 62/100 [10:13<01:33,  2.45s/it]\u001b[A\u001b[A"
     ]
    },
    {
     "name": "stdout",
     "output_type": "stream",
     "text": [
      "51529/51529 [==============================] - 2s 47us/step\n"
     ]
    },
    {
     "name": "stderr",
     "output_type": "stream",
     "text": [
      "\n",
      "\n",
      " 63%|██████▎   | 63/100 [10:16<01:30,  2.45s/it]\u001b[A\u001b[A"
     ]
    },
    {
     "name": "stdout",
     "output_type": "stream",
     "text": [
      "51529/51529 [==============================] - 2s 48us/step\n"
     ]
    },
    {
     "name": "stderr",
     "output_type": "stream",
     "text": [
      "\n",
      "\n",
      " 64%|██████▍   | 64/100 [10:18<01:28,  2.46s/it]\u001b[A\u001b[A"
     ]
    },
    {
     "name": "stdout",
     "output_type": "stream",
     "text": [
      "51529/51529 [==============================] - 2s 47us/step\n"
     ]
    },
    {
     "name": "stderr",
     "output_type": "stream",
     "text": [
      "\n",
      "\n",
      " 65%|██████▌   | 65/100 [10:21<01:25,  2.46s/it]\u001b[A\u001b[A"
     ]
    },
    {
     "name": "stdout",
     "output_type": "stream",
     "text": [
      "51529/51529 [==============================] - 2s 48us/step\n"
     ]
    },
    {
     "name": "stderr",
     "output_type": "stream",
     "text": [
      "\n",
      "\n",
      " 66%|██████▌   | 66/100 [10:23<01:23,  2.46s/it]\u001b[A\u001b[A"
     ]
    },
    {
     "name": "stdout",
     "output_type": "stream",
     "text": [
      "51529/51529 [==============================] - 2s 47us/step\n"
     ]
    },
    {
     "name": "stderr",
     "output_type": "stream",
     "text": [
      "\n",
      "\n",
      " 67%|██████▋   | 67/100 [10:26<01:21,  2.46s/it]\u001b[A\u001b[A"
     ]
    },
    {
     "name": "stdout",
     "output_type": "stream",
     "text": [
      "51529/51529 [==============================] - 2s 48us/step\n"
     ]
    },
    {
     "name": "stderr",
     "output_type": "stream",
     "text": [
      "\n",
      "\n",
      " 68%|██████▊   | 68/100 [10:28<01:18,  2.46s/it]\u001b[A\u001b[A"
     ]
    },
    {
     "name": "stdout",
     "output_type": "stream",
     "text": [
      "51529/51529 [==============================] - 2s 47us/step\n"
     ]
    },
    {
     "name": "stderr",
     "output_type": "stream",
     "text": [
      "\n",
      "\n",
      " 69%|██████▉   | 69/100 [10:30<01:15,  2.45s/it]\u001b[A\u001b[A"
     ]
    },
    {
     "name": "stdout",
     "output_type": "stream",
     "text": [
      "51529/51529 [==============================] - 2s 45us/step\n"
     ]
    },
    {
     "name": "stderr",
     "output_type": "stream",
     "text": [
      "\n",
      "\n",
      " 70%|███████   | 70/100 [10:33<01:12,  2.42s/it]\u001b[A\u001b[A"
     ]
    },
    {
     "name": "stdout",
     "output_type": "stream",
     "text": [
      "51529/51529 [==============================] - 2s 46us/step\n"
     ]
    },
    {
     "name": "stderr",
     "output_type": "stream",
     "text": [
      "\n",
      "\n",
      " 71%|███████   | 71/100 [10:35<01:09,  2.40s/it]\u001b[A\u001b[A"
     ]
    },
    {
     "name": "stdout",
     "output_type": "stream",
     "text": [
      "51529/51529 [==============================] - 2s 46us/step\n"
     ]
    },
    {
     "name": "stderr",
     "output_type": "stream",
     "text": [
      "\n",
      "\n",
      " 72%|███████▏  | 72/100 [10:38<01:06,  2.39s/it]\u001b[A\u001b[A"
     ]
    },
    {
     "name": "stdout",
     "output_type": "stream",
     "text": [
      "51529/51529 [==============================] - 2s 46us/step\n"
     ]
    },
    {
     "name": "stderr",
     "output_type": "stream",
     "text": [
      "\n",
      "\n",
      " 73%|███████▎  | 73/100 [10:40<01:04,  2.38s/it]\u001b[A\u001b[A"
     ]
    },
    {
     "name": "stdout",
     "output_type": "stream",
     "text": [
      "51529/51529 [==============================] - 2s 46us/step\n"
     ]
    },
    {
     "name": "stderr",
     "output_type": "stream",
     "text": [
      "\n",
      "\n",
      " 74%|███████▍  | 74/100 [10:42<01:01,  2.38s/it]\u001b[A\u001b[A"
     ]
    },
    {
     "name": "stdout",
     "output_type": "stream",
     "text": [
      "51529/51529 [==============================] - 2s 46us/step\n"
     ]
    },
    {
     "name": "stderr",
     "output_type": "stream",
     "text": [
      "\n",
      "\n",
      " 75%|███████▌  | 75/100 [10:45<00:59,  2.39s/it]\u001b[A\u001b[A"
     ]
    },
    {
     "name": "stdout",
     "output_type": "stream",
     "text": [
      "51529/51529 [==============================] - 2s 47us/step\n"
     ]
    },
    {
     "name": "stderr",
     "output_type": "stream",
     "text": [
      "\n",
      "\n",
      " 76%|███████▌  | 76/100 [10:47<00:57,  2.41s/it]\u001b[A\u001b[A"
     ]
    },
    {
     "name": "stdout",
     "output_type": "stream",
     "text": [
      "51529/51529 [==============================] - 2s 47us/step\n"
     ]
    },
    {
     "name": "stderr",
     "output_type": "stream",
     "text": [
      "\n",
      "\n",
      " 77%|███████▋  | 77/100 [10:50<00:55,  2.42s/it]\u001b[A\u001b[A"
     ]
    },
    {
     "name": "stdout",
     "output_type": "stream",
     "text": [
      "51529/51529 [==============================] - 2s 48us/step\n"
     ]
    },
    {
     "name": "stderr",
     "output_type": "stream",
     "text": [
      "\n",
      "\n",
      " 78%|███████▊  | 78/100 [10:52<00:53,  2.43s/it]\u001b[A\u001b[A"
     ]
    },
    {
     "name": "stdout",
     "output_type": "stream",
     "text": [
      "51529/51529 [==============================] - 2s 47us/step\n"
     ]
    },
    {
     "name": "stderr",
     "output_type": "stream",
     "text": [
      "\n",
      "\n",
      " 79%|███████▉  | 79/100 [10:55<00:51,  2.44s/it]\u001b[A\u001b[A"
     ]
    },
    {
     "name": "stdout",
     "output_type": "stream",
     "text": [
      "51529/51529 [==============================] - 2s 48us/step\n"
     ]
    },
    {
     "name": "stderr",
     "output_type": "stream",
     "text": [
      "\n",
      "\n",
      " 80%|████████  | 80/100 [10:57<00:48,  2.45s/it]\u001b[A\u001b[A"
     ]
    },
    {
     "name": "stdout",
     "output_type": "stream",
     "text": [
      "51529/51529 [==============================] - 2s 47us/step\n"
     ]
    },
    {
     "name": "stderr",
     "output_type": "stream",
     "text": [
      "\n",
      "\n",
      " 81%|████████  | 81/100 [10:59<00:46,  2.45s/it]\u001b[A\u001b[A"
     ]
    },
    {
     "name": "stdout",
     "output_type": "stream",
     "text": [
      "51529/51529 [==============================] - 2s 47us/step\n"
     ]
    },
    {
     "name": "stderr",
     "output_type": "stream",
     "text": [
      "\n",
      "\n",
      " 82%|████████▏ | 82/100 [11:02<00:44,  2.45s/it]\u001b[A\u001b[A"
     ]
    },
    {
     "name": "stdout",
     "output_type": "stream",
     "text": [
      "51529/51529 [==============================] - 2s 48us/step\n"
     ]
    },
    {
     "name": "stderr",
     "output_type": "stream",
     "text": [
      "\n",
      "\n",
      " 83%|████████▎ | 83/100 [11:04<00:41,  2.45s/it]\u001b[A\u001b[A"
     ]
    },
    {
     "name": "stdout",
     "output_type": "stream",
     "text": [
      "51529/51529 [==============================] - 2s 47us/step\n"
     ]
    },
    {
     "name": "stderr",
     "output_type": "stream",
     "text": [
      "\n",
      "\n",
      " 84%|████████▍ | 84/100 [11:07<00:39,  2.45s/it]\u001b[A\u001b[A"
     ]
    },
    {
     "name": "stdout",
     "output_type": "stream",
     "text": [
      "51529/51529 [==============================] - 2s 47us/step\n"
     ]
    },
    {
     "name": "stderr",
     "output_type": "stream",
     "text": [
      "\n",
      "\n",
      " 85%|████████▌ | 85/100 [11:09<00:36,  2.45s/it]\u001b[A\u001b[A"
     ]
    },
    {
     "name": "stdout",
     "output_type": "stream",
     "text": [
      "51529/51529 [==============================] - 2s 47us/step\n"
     ]
    },
    {
     "name": "stderr",
     "output_type": "stream",
     "text": [
      "\n",
      "\n",
      " 86%|████████▌ | 86/100 [11:12<00:34,  2.45s/it]\u001b[A\u001b[A"
     ]
    },
    {
     "name": "stdout",
     "output_type": "stream",
     "text": [
      "51529/51529 [==============================] - 2s 46us/step\n"
     ]
    },
    {
     "name": "stderr",
     "output_type": "stream",
     "text": [
      "\n",
      "\n",
      " 87%|████████▋ | 87/100 [11:14<00:31,  2.42s/it]\u001b[A\u001b[A"
     ]
    },
    {
     "name": "stdout",
     "output_type": "stream",
     "text": [
      "51529/51529 [==============================] - 2s 46us/step\n"
     ]
    },
    {
     "name": "stderr",
     "output_type": "stream",
     "text": [
      "\n",
      "\n",
      " 88%|████████▊ | 88/100 [11:16<00:28,  2.41s/it]\u001b[A\u001b[A"
     ]
    },
    {
     "name": "stdout",
     "output_type": "stream",
     "text": [
      "51529/51529 [==============================] - 2s 47us/step\n"
     ]
    },
    {
     "name": "stderr",
     "output_type": "stream",
     "text": [
      "\n",
      "\n",
      " 89%|████████▉ | 89/100 [11:19<00:26,  2.42s/it]\u001b[A\u001b[A"
     ]
    },
    {
     "name": "stdout",
     "output_type": "stream",
     "text": [
      "51529/51529 [==============================] - 2s 47us/step\n"
     ]
    },
    {
     "name": "stderr",
     "output_type": "stream",
     "text": [
      "\n",
      "\n",
      " 90%|█████████ | 90/100 [11:21<00:24,  2.42s/it]\u001b[A\u001b[A"
     ]
    },
    {
     "name": "stdout",
     "output_type": "stream",
     "text": [
      "51529/51529 [==============================] - 2s 47us/step\n"
     ]
    },
    {
     "name": "stderr",
     "output_type": "stream",
     "text": [
      "\n",
      "\n",
      " 91%|█████████ | 91/100 [11:24<00:21,  2.43s/it]\u001b[A\u001b[A"
     ]
    },
    {
     "name": "stdout",
     "output_type": "stream",
     "text": [
      "51529/51529 [==============================] - 2s 47us/step\n"
     ]
    },
    {
     "name": "stderr",
     "output_type": "stream",
     "text": [
      "\n",
      "\n",
      " 92%|█████████▏| 92/100 [11:26<00:19,  2.43s/it]\u001b[A\u001b[A"
     ]
    },
    {
     "name": "stdout",
     "output_type": "stream",
     "text": [
      "51529/51529 [==============================] - 2s 47us/step\n"
     ]
    },
    {
     "name": "stderr",
     "output_type": "stream",
     "text": [
      "\n",
      "\n",
      " 93%|█████████▎| 93/100 [11:29<00:17,  2.44s/it]\u001b[A\u001b[A"
     ]
    },
    {
     "name": "stdout",
     "output_type": "stream",
     "text": [
      "51529/51529 [==============================] - 2s 47us/step\n"
     ]
    },
    {
     "name": "stderr",
     "output_type": "stream",
     "text": [
      "\n",
      "\n",
      " 94%|█████████▍| 94/100 [11:31<00:14,  2.44s/it]\u001b[A\u001b[A"
     ]
    },
    {
     "name": "stdout",
     "output_type": "stream",
     "text": [
      "51529/51529 [==============================] - 2s 47us/step\n"
     ]
    },
    {
     "name": "stderr",
     "output_type": "stream",
     "text": [
      "\n",
      "\n",
      " 95%|█████████▌| 95/100 [11:34<00:12,  2.44s/it]\u001b[A\u001b[A"
     ]
    },
    {
     "name": "stdout",
     "output_type": "stream",
     "text": [
      "51529/51529 [==============================] - 2s 47us/step\n"
     ]
    },
    {
     "name": "stderr",
     "output_type": "stream",
     "text": [
      "\n",
      "\n",
      " 96%|█████████▌| 96/100 [11:36<00:09,  2.44s/it]\u001b[A\u001b[A"
     ]
    },
    {
     "name": "stdout",
     "output_type": "stream",
     "text": [
      "51529/51529 [==============================] - 2s 47us/step\n"
     ]
    },
    {
     "name": "stderr",
     "output_type": "stream",
     "text": [
      "\n",
      "\n",
      " 97%|█████████▋| 97/100 [11:38<00:07,  2.44s/it]\u001b[A\u001b[A"
     ]
    },
    {
     "name": "stdout",
     "output_type": "stream",
     "text": [
      "51529/51529 [==============================] - 2s 47us/step\n"
     ]
    },
    {
     "name": "stderr",
     "output_type": "stream",
     "text": [
      "\n",
      "\n",
      " 98%|█████████▊| 98/100 [11:41<00:04,  2.44s/it]\u001b[A\u001b[A"
     ]
    },
    {
     "name": "stdout",
     "output_type": "stream",
     "text": [
      "51529/51529 [==============================] - 2s 47us/step\n"
     ]
    },
    {
     "name": "stderr",
     "output_type": "stream",
     "text": [
      "\n",
      "\n",
      " 99%|█████████▉| 99/100 [11:43<00:02,  2.44s/it]\u001b[A\u001b[A"
     ]
    },
    {
     "name": "stdout",
     "output_type": "stream",
     "text": [
      "51529/51529 [==============================] - 2s 47us/step\n"
     ]
    },
    {
     "name": "stderr",
     "output_type": "stream",
     "text": [
      "\n",
      "\n",
      "100%|██████████| 100/100 [11:46<00:00,  2.44s/it]\u001b[A\u001b[A"
     ]
    }
   ],
   "source": [
    "# scores = model.evaluate(X, Y)\n",
    "# preds_test = model.predict(X, verbose=1)\n",
    "# preds_test_t = (preds_test > 0.5).astype(np.uint8)\n",
    "# print(\"\\n%s: %.2f%%\" % (model.metrics_names[1], scores[1]*100))\n",
    "\n",
    "# Evaluate the model\n",
    "model = load_model('model-masturbation-11Feb2019.h5')\n",
    "IMG_HEIGHT = 128\n",
    "IMG_WIDTH = 128\n",
    "IMG_CHANNELS = 3\n",
    "\n",
    "# Compute Accuracy for Abdomen Set\n",
    "ABD_PATH = '/home/lalzogbi/Documents/Skin_Datasets/allabdomen/val/skin_val2019/'\n",
    "MSK_PATH = '/home/lalzogbi/Documents/Skin_Datasets/allabdomen/val/annotations/'\n",
    "abd_ids = next(os.walk(ABD_PATH))[2]\n",
    "msk_ids = next(os.walk(MSK_PATH))[2]\n",
    "abd_ids.sort()\n",
    "msk_ids.sort()\n",
    "# abd_ids = abd_ids[-100:]\n",
    "# msk_ids = msk_ids[-100:]\n",
    "\n",
    "# Actual Predictions\n",
    "N = np.zeros((1,4))\n",
    "\n",
    "for n, id_ in tqdm(enumerate(abd_ids), total=len(abd_ids)):\n",
    "    path = ABD_PATH + abd_ids[n]\n",
    "    img = imread(path)[:,:,:IMG_CHANNELS]\n",
    "    b = img.reshape(img.shape[0]*img.shape[1],3)\n",
    "    hsv = cv.cvtColor(img, cv.COLOR_RGB2HSV)\n",
    "    hsv = hsv.reshape(img.shape[0]*img.shape[1],3)\n",
    "    lab = cv.cvtColor(img, cv.COLOR_RGB2Lab)\n",
    "    lab = lab.reshape(img.shape[0]*img.shape[1],3)\n",
    "    \n",
    "    path = MSK_PATH + msk_ids[n]\n",
    "    img = imread(path)\n",
    "\n",
    "    if img.ndim == 3:\n",
    "        img = img[:,:,1]\n",
    "    \n",
    "    img = img > 30    \n",
    "#     img = img > 0\n",
    "    img = img.astype(np.uint8)\n",
    "    L = img.reshape(img.shape[0]*img.shape[1],1)\n",
    "    dat_temp = np.concatenate((b,hsv,lab,L),axis=1)\n",
    "    \n",
    "    X = dat_temp[:,0:9]\n",
    "    Y = dat_temp[:,9]\n",
    "    \n",
    "    preds_test = model.predict(X[:int(X.shape[0])], verbose=1)\n",
    "\n",
    "    # Threshold predictions\n",
    "    preds_test_t = (preds_test > 0.5).astype(np.uint8)\n",
    "    \n",
    "    answer = acc_comp(Y, preds_test_t)\n",
    "\n",
    "    a = answer[1]\n",
    "    b = answer[2]\n",
    "    c = answer[3]\n",
    "    d = answer[4]\n",
    "\n",
    "    K = np.array((a,b,c,d)).reshape(1,4)\n",
    "    N = np.concatenate((N,K),axis = 0)\n",
    "#     print(N)"
   ]
  },
  {
   "cell_type": "code",
   "execution_count": 31,
   "metadata": {
    "scrolled": true
   },
   "outputs": [
    {
     "name": "stdout",
     "output_type": "stream",
     "text": [
      "0.855066805433738\n"
     ]
    }
   ],
   "source": [
    "# Overall accuracy on abdomen pictures\n",
    "# answer = acc_comp(Y, preds_test_t)\n",
    "\n",
    "# a = answer[1]\n",
    "# b = answer[2]\n",
    "# c = answer[3]\n",
    "# d = answer[4]\n",
    "# K = np.array((a,b,c,d)).reshape(1,4)\n",
    "# print(K.shape)\n",
    "\n",
    "# N = np.zeros((1,4))\n",
    "# N = np.concatenate((N,K),axis = 0)\n",
    "out = N[1:]\n",
    "j = (out[:,0]+out[:,1])/(out[:,0]+out[:,1]+out[:,2]+out[:,3])\n",
    "print(np.mean(j))\n",
    "np.save('NEWABD.npy',out)"
   ]
  },
  {
   "cell_type": "code",
   "execution_count": 75,
   "metadata": {},
   "outputs": [
    {
     "data": {
      "image/png": "[encoded data removed]",
      "text/plain": [
       "<Figure size 432x288 with 2 Axes>"
      ]
     },
     "metadata": {
      "needs_background": "light"
     },
     "output_type": "display_data"
    },
    {
     "data": {
      "text/plain": [
       "<matplotlib.image.AxesImage at 0x7f90704d9b70>"
      ]
     },
     "execution_count": 75,
     "metadata": {},
     "output_type": "execute_result"
    },
    {
     "data": {
      "image/png": "[encoded data removed]",
      "text/plain": [
       "<Figure size 432x288 with 2 Axes>"
      ]
     },
     "metadata": {
      "needs_background": "light"
     },
     "output_type": "display_data"
    }
   ],
   "source": [
    "output = np.reshape(preds_test_t,(img.shape[0],img.shape[1]))\n",
    "plt.show()\n",
    "imshow(output)\n",
    "plt.show()\n",
    "imshow(img)"
   ]
  },
  {
   "cell_type": "code",
   "execution_count": null,
   "metadata": {},
   "outputs": [],
   "source": [
    "feat = dat[0:800000,0:9]\n",
    "labels = dat[0:800000,9]\n",
    "labels = (labels > 0).astype(np.uint8)\n",
    "print(feat.shape)\n",
    "print(labels.shape)\n",
    "X = dat[800000:,0:9]\n",
    "Y = dat[800000:,9]\n",
    "Y = (Y > 0).astype(np.uint8) \n",
    "print(X.shape)\n",
    "print(Y.shape)"
   ]
  }
 ],
 "metadata": {
  "kernelspec": {
   "display_name": "my_env",
   "language": "python",
   "name": "my_env"
  },
  "language_info": {
   "codemirror_mode": {
    "name": "ipython",
    "version": 3
   },
   "file_extension": ".py",
   "mimetype": "text/x-python",
   "name": "python",
   "nbconvert_exporter": "python",
   "pygments_lexer": "ipython3",
   "version": "3.5.2"
  }
 },
 "nbformat": 4,
 "nbformat_minor": 2
}
