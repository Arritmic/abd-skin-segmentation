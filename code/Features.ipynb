{
 "cells": [
  {
   "cell_type": "code",
   "execution_count": 2,
   "metadata": {},
   "outputs": [
    {
     "name": "stderr",
     "output_type": "stream",
     "text": [
      "Using TensorFlow backend.\n"
     ]
    }
   ],
   "source": [
    "import os\n",
    "import cv2 as cv\n",
    "import sys\n",
    "import time\n",
    "import random\n",
    "import warnings\n",
    "\n",
    "import numpy as np\n",
    "import pandas as pd\n",
    "\n",
    "import matplotlib.pyplot as plt\n",
    "\n",
    "from tqdm import tqdm\n",
    "from itertools import chain\n",
    "from skimage.io import imread, imshow, imread_collection, concatenate_images\n",
    "from skimage.transform import resize\n",
    "from skimage.morphology import label\n",
    "\n",
    "from keras.models import Sequential, load_model\n",
    "from keras.layers import Dense, Dropout\n",
    "from keras.callbacks import EarlyStopping, ModelCheckpoint, Callback\n",
    "import tensorflow as tf\n",
    "\n",
    "\n",
    "warnings.filterwarnings('ignore', category=UserWarning, module='skimage')\n",
    "seed = 42\n",
    "random.seed = seed\n",
    "np.random.seed = seed"
   ]
  },
  {
   "cell_type": "code",
   "execution_count": 3,
   "metadata": {},
   "outputs": [],
   "source": [
    "# Define class for extracting time per epoch\n",
    "class TimingCallback(Callback):\n",
    "    def on_train_begin(self, logs={}):\n",
    "        self.times = []\n",
    "\n",
    "    def on_epoch_begin(self, batch, logs={}):\n",
    "        self.epoch_time_start = time.time()\n",
    "\n",
    "    def on_epoch_end(self, batch, logs={}):\n",
    "        self.times.append(time.time() - self.epoch_time_start)\n",
    "\n",
    "cb = TimingCallback() "
   ]
  },
  {
   "cell_type": "code",
   "execution_count": 4,
   "metadata": {},
   "outputs": [],
   "source": [
    "# Get Training Data (Original+Mask) DONT RUN IN THIS CODE \n",
    "# Dataset 1: HGR\n",
    "TRAIN_PATH1 = ['/home/lalzogbi/Documents/Skin_Datasets/Dataset1_HGR/original_images/']\n",
    "MASK_PATH1 = ['/home/lalzogbi/Documents/Skin_Datasets/Dataset1_HGR/skin_masks/']\n",
    "train_ids1 = next(os.walk(TRAIN_PATH1[0]))[2]\n",
    "mask_ids1 = next(os.walk(MASK_PATH1[0]))[2]\n",
    "train_ids1.sort()\n",
    "mask_ids1.sort()\n",
    "TRAIN_PATH1 = TRAIN_PATH1*len(train_ids1)\n",
    "MASK_PATH1 = MASK_PATH1*len(train_ids1)\n",
    "\n",
    "# Dataset 4: Pratheepan\n",
    "TRAIN_PATH2 = ['/home/lalzogbi/Documents/Skin_Datasets/Dataset4_Pratheepan/original_images/']\n",
    "MASK_PATH2 = ['/home/lalzogbi/Documents/Skin_Datasets/Dataset4_Pratheepan/skin_masks/']\n",
    "train_ids2 = next(os.walk(TRAIN_PATH2[0]))[2]\n",
    "mask_ids2 = next(os.walk(MASK_PATH2[0]))[2]\n",
    "train_ids2.sort()\n",
    "mask_ids2.sort()\n",
    "TRAIN_PATH2 = TRAIN_PATH2*len(train_ids2)\n",
    "MASK_PATH2 = MASK_PATH2*len(train_ids2)\n",
    "\n",
    "# Dataset 5: VDM\n",
    "TRAIN_PATH3 = ['/home/lalzogbi/Documents/Skin_Datasets/Dataset5_VDM/original_images/']\n",
    "MASK_PATH3 = ['/home/lalzogbi/Documents/Skin_Datasets/Dataset5_VDM/skin_masks/']\n",
    "train_id3 = next(os.walk(TRAIN_PATH3[0]))[2]\n",
    "mask_id3 = next(os.walk(MASK_PATH3[0]))[2]\n",
    "train_id3.sort()\n",
    "mask_id3.sort()\n",
    "train_ids3 = train_id3[1:]\n",
    "mask_ids3 = mask_id3[1:]\n",
    "TRAIN_PATH3 = TRAIN_PATH3*len(train_ids3)\n",
    "MASK_PATH3 = MASK_PATH3*len(train_ids3)\n",
    "\n",
    "# Dataset 6: SFA\n",
    "TRAIN_PATH4 = ['/home/lalzogbi/Documents/Skin_Datasets/Dataset6_SFA/original_images/']\n",
    "MASK_PATH4 = ['/home/lalzogbi/Documents/Skin_Datasets/Dataset6_SFA/skin_masks/']\n",
    "train_ids4 = next(os.walk(TRAIN_PATH4[0]))[2]\n",
    "mask_ids4 = next(os.walk(MASK_PATH4[0]))[2]\n",
    "train_ids4.sort()\n",
    "mask_ids4.sort()\n",
    "TRAIN_PATH4 = TRAIN_PATH4*len(train_ids4)\n",
    "MASK_PATH4 = MASK_PATH4*len(train_ids4)\n",
    "\n",
    "# Dataset 2: TDSD\n",
    "TRAIN_PATH5 = ['/home/lalzogbi/Documents/Skin_Datasets/Dataset2_TDSD/original_images/']\n",
    "MASK_PATH5 = ['/home/lalzogbi/Documents/Skin_Datasets/Dataset2_TDSD/skin_masks/']\n",
    "train_ids5 = next(os.walk(TRAIN_PATH5[0]))[2]\n",
    "mask_ids5 = next(os.walk(MASK_PATH5[0]))[2]\n",
    "train_ids5.sort()\n",
    "mask_ids5.sort()\n",
    "TRAIN_PATH5 = TRAIN_PATH5*len(train_ids5)\n",
    "MASK_PATH5 = MASK_PATH5*len(train_ids5)\n",
    "\n",
    "# Dataset 3: Schmugge\n",
    "TRAIN_PATH6 = ['/home/lalzogbi/Documents/Skin_Datasets/Dataset3_Schmugge/original_images/']\n",
    "MASK_PATH6 = ['/home/lalzogbi/Documents/Skin_Datasets/Dataset3_Schmugge/skin_masks/']\n",
    "train_ids6 = next(os.walk(TRAIN_PATH6[0]))[2]\n",
    "mask_ids6 = next(os.walk(MASK_PATH6[0]))[2]\n",
    "train_ids6.sort()\n",
    "mask_ids6.sort()\n",
    "TRAIN_PATH6 = TRAIN_PATH6*len(train_ids6)\n",
    "MASK_PATH6 = MASK_PATH6*len(train_ids6)\n",
    "\n",
    "# Combine everything\n",
    "TRAIN_PATH = np.concatenate((TRAIN_PATH1,TRAIN_PATH2,TRAIN_PATH3,TRAIN_PATH4,TRAIN_PATH5,TRAIN_PATH6))\n",
    "MASK_PATH = np.concatenate((MASK_PATH1,MASK_PATH2,MASK_PATH3,MASK_PATH4,MASK_PATH5,MASK_PATH6))\n",
    "train_ids = np.concatenate((train_ids1,train_ids2,train_ids3,train_ids4,train_ids5,train_ids6))\n",
    "mask_ids = np.concatenate((mask_ids1,mask_ids2,mask_ids3,mask_ids4,mask_ids5,mask_ids6))"
   ]
  },
  {
   "cell_type": "code",
   "execution_count": 49,
   "metadata": {},
   "outputs": [
    {
     "name": "stdout",
     "output_type": "stream",
     "text": [
      "Getting features and labels from images unreshaped... \n"
     ]
    },
    {
     "name": "stderr",
     "output_type": "stream",
     "text": [
      "100%|██████████| 3780/3780 [2:44:36<00:00,  4.51s/it]  \n"
     ]
    }
   ],
   "source": [
    " # Extract Features and Corresponding Labels (RUN ONCE ONLY TO GET THE DATA)\n",
    "print('Getting features and labels from images unreshaped... ')\n",
    "sys.stdout.flush()\n",
    "\n",
    "path = TRAIN_PATH[0] + train_ids[0]\n",
    "img = imread(path)[:,:,:IMG_CHANNELS]\n",
    "dat = img.reshape(img.shape[0]*img.shape[1],3)\n",
    "hsv = cv.cvtColor(img, cv.COLOR_RGB2HSV)\n",
    "hsv = hsv.reshape(img.shape[0]*img.shape[1],3)\n",
    "lab = cv.cvtColor(img, cv.COLOR_RGB2Lab)\n",
    "lab = lab.reshape(img.shape[0]*img.shape[1],3)\n",
    "\n",
    "path = MASK_PATH[0] + mask_ids[0]\n",
    "img = imread(path)\n",
    "L = img.reshape(img.shape[0]*img.shape[1],1)\n",
    "\n",
    "dat = np.concatenate((dat,hsv,lab,L),axis=1)\n",
    "\n",
    "for n, id_ in tqdm(enumerate(train_ids), total=len(train_ids)):\n",
    "    path = TRAIN_PATH[n] + id_\n",
    "    img = imread(path)[:,:,:IMG_CHANNELS]\n",
    "    b = img.reshape(img.shape[0]*img.shape[1],3)\n",
    "    hsv = cv.cvtColor(img, cv.COLOR_RGB2HSV)\n",
    "    hsv = hsv.reshape(img.shape[0]*img.shape[1],3)\n",
    "    lab = cv.cvtColor(img, cv.COLOR_RGB2Lab)\n",
    "    lab = lab.reshape(img.shape[0]*img.shape[1],3)\n",
    "    \n",
    "    path = MASK_PATH[n] + mask_ids[n]\n",
    "    img = imread(path)\n",
    "    if n in range(899,977):\n",
    "        img = img[:,:,1]\n",
    "        \n",
    "    L = img.reshape(img.shape[0]*img.shape[1],1)\n",
    "    dat_temp = np.concatenate((b,hsv,lab,L),axis=1)\n",
    "    dat = np.concatenate((dat,dat_temp))"
   ]
  },
  {
   "cell_type": "code",
   "execution_count": 3,
   "metadata": {},
   "outputs": [
    {
     "name": "stdout",
     "output_type": "stream",
     "text": [
      "(854328232, 10)\n"
     ]
    }
   ],
   "source": [
    "# Load the data NON SHUFFLED\n",
    "dat = np.load(\"ALLFEATURES-Copy1.npy\")\n",
    "print(dat.shape)"
   ]
  },
  {
   "cell_type": "code",
   "execution_count": 4,
   "metadata": {},
   "outputs": [],
   "source": [
    "# Shuffle the data DON'T RUN\n",
    "np.random.shuffle(dat)"
   ]
  },
  {
   "cell_type": "code",
   "execution_count": 10,
   "metadata": {},
   "outputs": [
    {
     "name": "stdout",
     "output_type": "stream",
     "text": [
      "(800000, 9)\n",
      "(800000,)\n"
     ]
    }
   ],
   "source": [
    "# Load Shuffled data\n",
    "dat = np.load('SHUFFLED.npy')\n",
    "feat = dat[0:800000,0:9]\n",
    "labels = dat[0:800000,9]\n",
    "labels = (labels > 0).astype(np.uint8)\n",
    "print(feat.shape)\n",
    "print(labels.shape)"
   ]
  },
  {
   "cell_type": "code",
   "execution_count": null,
   "metadata": {},
   "outputs": [
    {
     "name": "stdout",
     "output_type": "stream",
     "text": [
      "Train on 560000 samples, validate on 240000 samples\n",
      "Epoch 1/50\n",
      "560000/560000 [==============================] - 96s 171us/step - loss: 0.2582 - acc: 0.9047 - val_loss: 0.2361 - val_acc: 0.9041\n",
      "\n",
      "Epoch 00001: val_loss improved from inf to 0.23605, saving model to model-allfeatures-5Feb2019-3.h5\n",
      "Epoch 2/50\n",
      "560000/560000 [==============================] - 96s 171us/step - loss: 0.2419 - acc: 0.9104 - val_loss: 0.2318 - val_acc: 0.9112\n",
      "\n",
      "Epoch 00002: val_loss improved from 0.23605 to 0.23184, saving model to model-allfeatures-5Feb2019-3.h5\n",
      "Epoch 3/50\n",
      "560000/560000 [==============================] - 95s 170us/step - loss: 0.2392 - acc: 0.9111 - val_loss: 0.2401 - val_acc: 0.9111\n",
      "\n",
      "Epoch 00003: val_loss did not improve from 0.23184\n",
      "Epoch 4/50\n",
      "560000/560000 [==============================] - 95s 170us/step - loss: 0.2382 - acc: 0.9114 - val_loss: 0.2329 - val_acc: 0.9122\n",
      "\n",
      "Epoch 00004: val_loss did not improve from 0.23184\n",
      "Epoch 5/50\n",
      "560000/560000 [==============================] - 95s 170us/step - loss: 0.2386 - acc: 0.9112 - val_loss: 0.2333 - val_acc: 0.9119\n",
      "\n",
      "Epoch 00005: val_loss did not improve from 0.23184\n",
      "Epoch 6/50\n",
      "560000/560000 [==============================] - 96s 171us/step - loss: 0.2386 - acc: 0.9113 - val_loss: 0.2299 - val_acc: 0.9144\n",
      "\n",
      "Epoch 00006: val_loss improved from 0.23184 to 0.22992, saving model to model-allfeatures-5Feb2019-3.h5\n",
      "Epoch 7/50\n",
      "560000/560000 [==============================] - 95s 170us/step - loss: 0.2381 - acc: 0.9113 - val_loss: 0.2300 - val_acc: 0.9128\n",
      "\n",
      "Epoch 00007: val_loss did not improve from 0.22992\n",
      "Epoch 8/50\n",
      "560000/560000 [==============================] - 95s 170us/step - loss: 0.2396 - acc: 0.9116 - val_loss: 0.2307 - val_acc: 0.9131\n",
      "\n",
      "Epoch 00008: val_loss did not improve from 0.22992\n",
      "Epoch 9/50\n",
      "560000/560000 [==============================] - 95s 170us/step - loss: 0.2411 - acc: 0.9113 - val_loss: 0.2351 - val_acc: 0.9126\n",
      "\n",
      "Epoch 00009: val_loss did not improve from 0.22992\n",
      "Epoch 10/50\n",
      "560000/560000 [==============================] - 96s 171us/step - loss: 0.2407 - acc: 0.9110 - val_loss: 0.2323 - val_acc: 0.9127\n",
      "\n",
      "Epoch 00010: val_loss did not improve from 0.22992\n",
      "Epoch 11/50\n",
      "560000/560000 [==============================] - 95s 170us/step - loss: 0.2407 - acc: 0.9112 - val_loss: 0.2254 - val_acc: 0.9149\n",
      "\n",
      "Epoch 00011: val_loss improved from 0.22992 to 0.22541, saving model to model-allfeatures-5Feb2019-3.h5\n",
      "Epoch 12/50\n",
      "402888/560000 [====================>.........] - ETA: 23s - loss: 0.2407 - acc: 0.9113"
     ]
    }
   ],
   "source": [
    "# Build the network\n",
    "model = Sequential()\n",
    "model.add(Dense(9, input_dim=9, activation='relu'))\n",
    "model.add(Dense(32, activation='relu'))\n",
    "model.add(Dropout(0.2, input_shape=(32,)))\n",
    "model.add(Dense(64, activation='relu'))\n",
    "model.add(Dropout(0.2, input_shape=(64,)))\n",
    "model.add(Dense(128, activation='relu'))\n",
    "model.add(Dropout(0.2, input_shape=(128,)))\n",
    "model.add(Dense(64, activation='relu'))\n",
    "model.add(Dropout(0.2, input_shape=(64,)))\n",
    "model.add(Dense(32, activation='relu'))\n",
    "model.add(Dropout(0.2, input_shape=(32,)))\n",
    "model.add(Dense(1, activation='sigmoid'))\n",
    "\n",
    "checkpointer = ModelCheckpoint('model-allfeatures-5Feb2019-3.h5', verbose=1, save_best_only=True)\n",
    "model.compile(loss='binary_crossentropy', optimizer='adam', metrics=['accuracy'])\n",
    "\n",
    "results = model.fit(feat, labels, validation_split=0.3, epochs=50, batch_size=24, shuffle=True, \n",
    "          callbacks=[checkpointer, cb])"
   ]
  },
  {
   "cell_type": "code",
   "execution_count": 12,
   "metadata": {},
   "outputs": [
    {
     "data": {
      "image/png": "[encoded data removed]",
      "text/plain": [
       "<Figure size 432x288 with 1 Axes>"
      ]
     },
     "metadata": {
      "needs_background": "light"
     },
     "output_type": "display_data"
    },
    {
     "data": {
      "image/png": "[encoded data removed]",
      "text/plain": [
       "<Figure size 432x288 with 1 Axes>"
      ]
     },
     "metadata": {
      "needs_background": "light"
     },
     "output_type": "display_data"
    },
    {
     "name": "stdout",
     "output_type": "stream",
     "text": [
      "UNET ARCHITECTURE\n",
      "-------------------------------------------------------------\n",
      "Total num of training images: 3780\n",
      "Max num of epochs: 50\n",
      "Optimizer: ADAM\n",
      "Batch size: 64\n",
      "Loss function: Binary Cross-Entropy\n",
      "Validation data percentage: 10\n",
      "Early stoppping: Yes\n",
      "-------------------------------------------------------------\n",
      "#    Time sec      Tr_acc     Tr_loss      Vl_acc     Vl_loss\n",
      "-------------------------------------------------------------\n",
      "0   42.715500   0.898000    0.276300    0.908800    0.272204\n",
      "1   42.020400   0.911800    0.236900    0.914300    0.233788\n",
      "2   42.027700   0.912800    0.234100    0.912800    0.228133\n",
      "3   41.877200   0.912900    0.232700    0.914100    0.237067\n",
      "4   41.923800   0.913200    0.231600    0.913700    0.230962\n",
      "5   41.953600   0.913100    0.231100    0.916100    0.234856\n",
      "6   41.864100   0.913000    0.230700    0.915900    0.230963\n",
      "7   41.808700   0.913700    0.230100    0.913200    0.229775\n",
      "8   41.947400   0.913800    0.230100    0.913800    0.234863\n",
      "9   41.879200   0.913700    0.229100    0.912800    0.224180\n",
      "10    42.153400   0.913900    0.229200    0.915900    0.220393\n",
      "11    41.982500   0.914000    0.229500    0.914200    0.234729\n",
      "12    41.809700   0.913900    0.228900    0.914300    0.225183\n",
      "13    41.879000   0.913900    0.228800    0.910300    0.234547\n",
      "14    41.933000   0.913900    0.229200    0.916200    0.229353\n",
      "15    41.738900   0.914100    0.228800    0.909600    0.236778\n",
      "16    41.936100   0.914200    0.228400    0.912800    0.230903\n",
      "17    41.980200   0.914000    0.228800    0.915100    0.225662\n",
      "18    41.952800   0.914000    0.229000    0.910900    0.240958\n",
      "19    41.887200   0.914200    0.228400    0.915300    0.223152\n",
      "20    41.974900   0.914200    0.228500    0.912700    0.233820\n",
      "21    41.859400   0.914300    0.228400    0.915200    0.226672\n",
      "22    41.863600   0.914000    0.228700    0.916500    0.221144\n",
      "23    41.852500   0.914100    0.228900    0.912900    0.239588\n",
      "24    41.877000   0.914300    0.228400    0.914000    0.228834\n",
      "25    41.922700   0.914000    0.228500    0.915700    0.226008\n",
      "26    41.748500   0.914400    0.228700    0.915900    0.229148\n",
      "27    41.847400   0.914400    0.228500    0.916900    0.223634\n",
      "28    41.788400   0.913900    0.228800    0.916300    0.228502\n",
      "29    41.786600   0.914300    0.228300    0.914300    0.222213\n",
      "30    41.792500   0.914200    0.228100    0.914800    0.230295\n",
      "31    42.058200   0.913900    0.228500    0.914000    0.233360\n",
      "32    41.861500   0.913700    0.228600    0.912600    0.235419\n",
      "33    41.877700   0.913800    0.228700    0.914600    0.234756\n",
      "34    41.838400   0.913700    0.228900    0.915500    0.222155\n",
      "35    41.941700   0.914200    0.228200    0.915000    0.227068\n",
      "36    41.986600   0.914000    0.228200    0.915700    0.227039\n",
      "37    41.963800   0.914200    0.228100    0.913100    0.225668\n",
      "38    41.860600   0.914300    0.228700    0.911100    0.231169\n",
      "39    41.754000   0.914200    0.228600    0.916000    0.228255\n",
      "40    41.899400   0.914100    0.228900    0.915400    0.222438\n",
      "41    41.957500   0.914100    0.228700    0.916500    0.221863\n",
      "42    41.922800   0.913400    0.229500    0.914100    0.224450\n",
      "43    41.871700   0.913900    0.229500    0.915600    0.232607\n",
      "44    41.795200   0.914100    0.229000    0.914700    0.224961\n",
      "45    41.905300   0.914100    0.228900    0.916100    0.223819\n",
      "46    41.890000   0.913900    0.228600    0.913800    0.223487\n",
      "47    41.950900   0.913800    0.229000    0.911800    0.221532\n",
      "48    42.044800   0.914200    0.228900    0.913800    0.226321\n",
      "49    41.890600   0.914100    0.228900    0.915400    0.224985\n",
      "-------------------------------------------------------------\n"
     ]
    }
   ],
   "source": [
    "#print(results.history.keys())\n",
    "\n",
    "# Summarize history for loss\n",
    "plt.plot(results.history['loss'])\n",
    "plt.plot(results.history['val_loss'])\n",
    "plt.title('model loss')\n",
    "plt.ylabel('loss')\n",
    "plt.xlabel('epoch')\n",
    "plt.legend(['train', 'test'], loc='upper left')\n",
    "plt.show()\n",
    "\n",
    "# Summarize history for mean_iou\n",
    "plt.plot(results.history['acc'])\n",
    "plt.plot(results.history['val_acc'])\n",
    "plt.title('model accuracy')\n",
    "plt.ylabel('accuracy')\n",
    "plt.xlabel('epoch')\n",
    "plt.legend(['train', 'test'], loc='upper left')\n",
    "plt.show()\n",
    "\n",
    "# Results and Plots\n",
    "# model.summary()\n",
    "print(\"UNET ARCHITECTURE\")\n",
    "print (\"-------------------------------------------------------------\")\n",
    "print(\"Total num of training images: %d\" % len(train_ids))\n",
    "print(\"Max num of epochs: %d\" % 50)\n",
    "print(\"Optimizer: %s\" % 'ADAM')\n",
    "print(\"Batch size: %d\" % 64)\n",
    "print(\"Loss function: %s\" % 'Binary Cross-Entropy')\n",
    "print(\"Validation data percentage: %d\" % 10)\n",
    "print(\"Early stoppping: %s\" % 'Yes')\n",
    "\n",
    "ep = 50;\n",
    "a = results.history[\"acc\"]\n",
    "b = results.history[\"loss\"]\n",
    "c = results.history[\"val_acc\"]\n",
    "d = results.history[\"val_loss\"]\n",
    "e = cb.times\n",
    "print (\"-------------------------------------------------------------\")\n",
    "header = \"#\"+\"    \"+\"Time sec\"+\"      \"+\"Tr_acc\"+\"     \"+\"Tr_loss\"+\"      \"+\"Vl_acc\"+\"     \"+\"Vl_loss\"\n",
    "print(header)\n",
    "print (\"-------------------------------------------------------------\")\n",
    "for l in range(ep):\n",
    "    str = \"%d\\t\\t%f\\t\\t%f\\t\\t%f\\t\\t%f\\t\\t%f\" % (l, round(e[l],4),round(a[l],4),round(b[l],4),round(c[l],4),d[l])\n",
    "    print (str.expandtabs(2))\n",
    "print (\"-------------------------------------------------------------\")"
   ]
  },
  {
   "cell_type": "code",
   "execution_count": 13,
   "metadata": {},
   "outputs": [
    {
     "name": "stdout",
     "output_type": "stream",
     "text": [
      "Getting features and labels from images unreshaped... \n"
     ]
    },
    {
     "name": "stderr",
     "output_type": "stream",
     "text": [
      "100%|██████████| 50/50 [00:09<00:00,  3.40it/s]\n"
     ]
    }
   ],
   "source": [
    "# Evaluate the model\n",
    "model = load_model('model-allfeatures-5Feb2019-2.h5')\n",
    "IMG_HEIGHT = 128\n",
    "IMG_WIDTH = 128\n",
    "IMG_CHANNELS = 3\n",
    "\n",
    "# Compute Accuracy for Abdomen Set\n",
    "ABD_PATH = '/home/lalzogbi/Documents/Skin_Datasets/Dataset_Test/testing_data/'\n",
    "MSK_PATH = '/home/lalzogbi/Documents/Skin_Datasets/Dataset_Test/ground_truth/'\n",
    "abd_ids = next(os.walk(ABD_PATH))[2]\n",
    "msk_ids = next(os.walk(MSK_PATH))[2]\n",
    "abd_ids.sort()\n",
    "msk_ids.sort()\n",
    "\n",
    "print('Getting features and labels from images unreshaped... ')\n",
    "sys.stdout.flush()\n",
    "\n",
    "path = ABD_PATH + abd_ids[0]\n",
    "img = imread(path)[:,:,:IMG_CHANNELS]\n",
    "dat = img.reshape(img.shape[0]*img.shape[1],3)\n",
    "hsv = cv.cvtColor(img, cv.COLOR_RGB2HSV)\n",
    "hsv = hsv.reshape(img.shape[0]*img.shape[1],3)\n",
    "lab = cv.cvtColor(img, cv.COLOR_RGB2Lab)\n",
    "lab = lab.reshape(img.shape[0]*img.shape[1],3)\n",
    "\n",
    "path = MSK_PATH + msk_ids[0]\n",
    "img = imread(path)\n",
    "L = img.reshape(img.shape[0]*img.shape[1],1)\n",
    "\n",
    "dat = np.concatenate((dat,hsv,lab,L),axis=1)\n",
    "\n",
    "for n, id_ in tqdm(enumerate(abd_ids), total=len(abd_ids)):\n",
    "    path = ABD_PATH + abd_ids[n]\n",
    "    img = imread(path)[:,:,:IMG_CHANNELS]\n",
    "    b = img.reshape(img.shape[0]*img.shape[1],3)\n",
    "    hsv = cv.cvtColor(img, cv.COLOR_RGB2HSV)\n",
    "    hsv = hsv.reshape(img.shape[0]*img.shape[1],3)\n",
    "    lab = cv.cvtColor(img, cv.COLOR_RGB2Lab)\n",
    "    lab = lab.reshape(img.shape[0]*img.shape[1],3)\n",
    "    \n",
    "    path = MSK_PATH + msk_ids[n]\n",
    "    img = imread(path)\n",
    "    if n in range(899,977):\n",
    "        img = img[:,:,1]\n",
    "        \n",
    "    L = img.reshape(img.shape[0]*img.shape[1],1)\n",
    "    dat_temp = np.concatenate((b,hsv,lab,L),axis=1)\n",
    "    dat = np.concatenate((dat,dat_temp))\n",
    "   \n",
    "X = dat[:,0:9]\n",
    "Y = dat[:,9]\n",
    "Y = (Y > 0).astype(np.uint8) "
   ]
  },
  {
   "cell_type": "code",
   "execution_count": 14,
   "metadata": {},
   "outputs": [
    {
     "name": "stdout",
     "output_type": "stream",
     "text": [
      "47574033/47574033 [==============================] - 1607s 34us/step\n",
      "\n",
      "acc: 93.24%\n"
     ]
    }
   ],
   "source": [
    "scores = model.evaluate(X, Y)\n",
    "print(\"\\n%s: %.2f%%\" % (model.metrics_names[1], scores[1]*100))"
   ]
  },
  {
   "cell_type": "code",
   "execution_count": null,
   "metadata": {},
   "outputs": [],
   "source": []
  },
  {
   "cell_type": "code",
   "execution_count": null,
   "metadata": {},
   "outputs": [],
   "source": []
  }
 ],
 "metadata": {
  "kernelspec": {
   "display_name": "my_env",
   "language": "python",
   "name": "my_env"
  },
  "language_info": {
   "codemirror_mode": {
    "name": "ipython",
    "version": 3
   },
   "file_extension": ".py",
   "mimetype": "text/x-python",
   "name": "python",
   "nbconvert_exporter": "python",
   "pygments_lexer": "ipython3",
   "version": "3.5.2"
  }
 },
 "nbformat": 4,
 "nbformat_minor": 2
}
