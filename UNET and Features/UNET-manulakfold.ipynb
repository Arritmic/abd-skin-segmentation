{
 "cells": [
  {
   "cell_type": "code",
   "execution_count": 1,
   "metadata": {},
   "outputs": [
    {
     "name": "stderr",
     "output_type": "stream",
     "text": [
      "Using TensorFlow backend.\n"
     ]
    }
   ],
   "source": [
    "import os\n",
    "import sys\n",
    "import time\n",
    "import random\n",
    "import warnings\n",
    "\n",
    "import cv2 as cv\n",
    "import numpy as np\n",
    "import matplotlib.pyplot as plt\n",
    "from tqdm import tqdm_notebook as tqdm\n",
    "from skimage.io import imread, imshow\n",
    "from skimage.transform import resize\n",
    "\n",
    "import tensorflow as tf\n",
    "from keras.models import Model, load_model\n",
    "from keras.layers import Input\n",
    "from keras.layers.core import Dropout, Lambda\n",
    "from keras.layers.convolutional import Conv2D, Conv2DTranspose\n",
    "from keras.layers.pooling import MaxPooling2D\n",
    "from keras.layers.merge import concatenate\n",
    "from keras.callbacks import EarlyStopping, ModelCheckpoint, Callback\n",
    "from keras import backend as K\n",
    "from keras.utils import multi_gpu_model\n",
    "from keras import optimizers\n",
    "\n",
    "\n",
    "# Specify Image Dimensions\n",
    "IMG_WIDTH = 128\n",
    "IMG_HEIGHT = 128\n",
    "IMG_CHANNELS = 3\n",
    "\n",
    "warnings.filterwarnings('ignore', category=UserWarning, module='skimage')\n",
    "seed = 42\n",
    "random.seed = seed"
   ]
  },
  {
   "cell_type": "markdown",
   "metadata": {},
   "source": [
    "Function for computing the masks' pixel-to-pixel accuracy, takes as input 2D masks and 2D predictions\n",
    "(Label 1 corresponds to skin, and 0 to non-skin)"
   ]
  },
  {
   "cell_type": "code",
   "execution_count": 2,
   "metadata": {},
   "outputs": [],
   "source": [
    "def acc_comp(msk, preds_test_t):\n",
    "    \n",
    "    mean_acc = np.zeros(1)\n",
    "    mean_TP = np.zeros(1)\n",
    "    mean_TN = np.zeros(1)\n",
    "    mean_FP = np.zeros(1)\n",
    "    mean_FN = np.zeros(1)\n",
    "    \n",
    "    for j in range(msk.shape[0]):\n",
    "        act = msk[j]\n",
    "        pr = preds_test_t[j].reshape(IMG_WIDTH, IMG_HEIGHT)\n",
    "    \n",
    "        c = act == pr \n",
    "        d = act & pr \n",
    "        e = act | pr \n",
    "        neg = act.sum()\n",
    "        pos = (IMG_WIDTH*IMG_HEIGHT)-act.sum()\n",
    "    \n",
    "        TP = round(float(d.sum()),6)\n",
    "        FP = round(float(pr.sum()-d.sum()),6)\n",
    "        TN = round(float((IMG_WIDTH*IMG_HEIGHT)-e.sum()),6)\n",
    "        FN = round(float(e.sum()-pr.sum()),6)\n",
    "        acc = round(float(c.sum())/(IMG_WIDTH*IMG_HEIGHT),6)\n",
    "\n",
    "        #acc2 = float(TP+TN)/(TP+TN+FP+FN)  Used to double-check computations\n",
    "        mean_TP = np.append([mean_TP],TP)\n",
    "        mean_TN = np.append([mean_TN],TN)\n",
    "        mean_acc = np.append([mean_acc],acc)\n",
    "        mean_FP = np.append([mean_FP],FP)\n",
    "        mean_FN = np.append([mean_FN],FN)\n",
    "    \n",
    "    mean_acc = mean_acc[1:]\n",
    "    mean_TP = mean_TP[1:]\n",
    "    mean_TN = mean_TN[1:]\n",
    "    mean_FP = mean_FP[1:]\n",
    "    mean_FN = mean_FN[1:]\n",
    "    \n",
    "    avg = round(mean_acc.sum()/msk.shape[0],6)\n",
    "    std = round(np.std(mean_acc),6)\n",
    "    overall_TP = round(mean_TP.sum()/msk.shape[0],6)\n",
    "    overall_TN = round(mean_TN.sum()/msk.shape[0],6)\n",
    "    \n",
    "    return (mean_acc,std,mean_TP,mean_TN,mean_FP,mean_FN)"
   ]
  },
  {
   "cell_type": "markdown",
   "metadata": {},
   "source": [
    "Class for extracting time elapsed per training epoch"
   ]
  },
  {
   "cell_type": "code",
   "execution_count": 3,
   "metadata": {},
   "outputs": [],
   "source": [
    "class TimingCallback(Callback):\n",
    "    def on_train_begin(self, logs={}):\n",
    "        self.times = []\n",
    "\n",
    "    def on_epoch_begin(self, batch, logs={}):\n",
    "        self.epoch_time_start = time.time()\n",
    "\n",
    "    def on_epoch_end(self, batch, logs={}):\n",
    "        self.times.append(time.time() - self.epoch_time_start)\n",
    "\n",
    "cb = TimingCallback()"
   ]
  },
  {
   "cell_type": "markdown",
   "metadata": {},
   "source": [
    "Intersection-over-Union (IoU) metric, can be tracked instead of the accuracy during training"
   ]
  },
  {
   "cell_type": "code",
   "execution_count": 4,
   "metadata": {},
   "outputs": [],
   "source": [
    "def mean_iou(y_true, y_pred):\n",
    "    prec = []\n",
    "    for t in np.arange(0.5, 1.0, 0.05):\n",
    "        y_pred_ = tf.to_int32(y_pred > t)\n",
    "        score, up_opt = tf.metrics.mean_iou(y_true, y_pred_, 2)\n",
    "        K.get_session().run(tf.local_variables_initializer())\n",
    "        with tf.control_dependencies([up_opt]):\n",
    "            score = tf.identity(score)\n",
    "        prec.append(score)\n",
    "    return K.mean(K.stack(prec), axis=0)"
   ]
  },
  {
   "cell_type": "markdown",
   "metadata": {},
   "source": [
    "A) Get the training data (original images + masks). The images and masks must have the same labelling. Add the original images' path to TRAIN_PATH, and the masks' path to MASK_PATH. "
   ]
  },
  {
   "cell_type": "code",
   "execution_count": 5,
   "metadata": {},
   "outputs": [],
   "source": [
    "# # Dataset 1: HGR\n",
    "# TRAIN_PATH1 = ['../Input/Skin_Datasets/Dataset1_HGR/original_images/']\n",
    "# MASK_PATH1 = ['../Input/Skin_Datasets/Dataset1_HGR/skin_masks/']\n",
    "# train_ids1 = next(os.walk(TRAIN_PATH1[0]))[2]\n",
    "# mask_ids1 = next(os.walk(MASK_PATH1[0]))[2]\n",
    "# train_ids1.sort()\n",
    "# mask_ids1.sort()\n",
    "# TRAIN_PATH1 = TRAIN_PATH1*len(train_ids1)\n",
    "# MASK_PATH1 = MASK_PATH1*len(train_ids1)\n",
    "\n",
    "# # Dataset 2: TDSD\n",
    "# TRAIN_PATH5 = ['../Input/Skin_Datasets/Dataset2_TDSD/original_images/']\n",
    "# MASK_PATH5 = ['../Input/Skin_Datasets/Dataset2_TDSD/skin_masks/']\n",
    "# train_ids5 = next(os.walk(TRAIN_PATH5[0]))[2]\n",
    "# mask_ids5 = next(os.walk(MASK_PATH5[0]))[2]\n",
    "# train_ids5.sort()\n",
    "# mask_ids5.sort()\n",
    "# TRAIN_PATH5 = TRAIN_PATH5*len(train_ids5)\n",
    "# MASK_PATH5 = MASK_PATH5*len(train_ids5)\n",
    "\n",
    "# # Dataset 3: Schmugge\n",
    "# TRAIN_PATH6 = ['../Input/Skin_Datasets/Dataset3_Schmugge/original_images/']\n",
    "# MASK_PATH6 = ['../Input/Skin_Datasets/Dataset3_Schmugge/skin_masks/']\n",
    "# train_ids6 = next(os.walk(TRAIN_PATH6[0]))[2]\n",
    "# mask_ids6 = next(os.walk(MASK_PATH6[0]))[2]\n",
    "# train_ids6.sort()\n",
    "# mask_ids6.sort()\n",
    "# TRAIN_PATH6 = TRAIN_PATH6*len(train_ids6)\n",
    "# MASK_PATH6 = MASK_PATH6*len(train_ids6)\n",
    "\n",
    "# # Dataset 4: Pratheepan\n",
    "# TRAIN_PATH2 = ['../Input/Skin_Datasets/Dataset4_Pratheepan/original_images/']\n",
    "# MASK_PATH2 = ['../Input/Skin_Datasets/Dataset4_Pratheepan/skin_masks/']\n",
    "# train_ids2 = next(os.walk(TRAIN_PATH2[0]))[2]\n",
    "# mask_ids2 = next(os.walk(MASK_PATH2[0]))[2]\n",
    "# train_ids2.sort()\n",
    "# mask_ids2.sort()\n",
    "# TRAIN_PATH2 = TRAIN_PATH2*len(train_ids2)\n",
    "# MASK_PATH2 = MASK_PATH2*len(train_ids2)\n",
    "\n",
    "# # Dataset 5: VDM\n",
    "# TRAIN_PATH3 = ['../Input/Skin_Datasets/Dataset5_VDM/original_images/']\n",
    "# MASK_PATH3 = ['../Input/Skin_Datasets/Dataset5_VDM/skin_masks/']\n",
    "# train_id3 = next(os.walk(TRAIN_PATH3[0]))[2]\n",
    "# mask_id3 = next(os.walk(MASK_PATH3[0]))[2]\n",
    "# train_id3.sort()\n",
    "# mask_id3.sort()\n",
    "# train_ids3 = train_id3[1:]\n",
    "# mask_ids3 = mask_id3[1:]\n",
    "# TRAIN_PATH3 = TRAIN_PATH3*len(train_ids3)\n",
    "# MASK_PATH3 = MASK_PATH3*len(train_ids3)\n",
    "\n",
    "# # Dataset 6: SFA\n",
    "# TRAIN_PATH4 = ['../Input/Skin_Datasets/Dataset6_SFA/original_images/']\n",
    "# MASK_PATH4 = ['../Input/Skin_Datasets/Dataset6_SFA/skin_masks/']\n",
    "# train_ids4 = next(os.walk(TRAIN_PATH4[0]))[2]\n",
    "# mask_ids4 = next(os.walk(MASK_PATH4[0]))[2]\n",
    "# train_ids4.sort()\n",
    "# mask_ids4.sort()\n",
    "# TRAIN_PATH4 = TRAIN_PATH4*len(train_ids4)\n",
    "# MASK_PATH4 = MASK_PATH4*len(train_ids4)\n",
    "\n",
    "# # Dataset 7: FSD\n",
    "# TRAIN_PATH7 = ['../Input/Skin_Datasets/Dataset7_FSD/original_images/']\n",
    "# MASK_PATH7 = ['../Input/Skin_Datasets/Dataset7_FSD/skin_masks/']\n",
    "# train_ids7 = next(os.walk(TRAIN_PATH7[0]))[2]\n",
    "# mask_ids7 = next(os.walk(MASK_PATH7[0]))[2]\n",
    "# train_ids7.sort()\n",
    "# mask_ids7.sort()\n",
    "# TRAIN_PATH7 = TRAIN_PATH7*len(train_ids7)\n",
    "# MASK_PATH7 = MASK_PATH7*len(train_ids7)\n",
    "\n",
    "# # # Dataset 8: ABDOMEN\n",
    "# TRAIN_PATH8 = ['../Input/Skin_Datasets/Dataset8_Abdomen/train/skin_train2019/']\n",
    "# MASK_PATH8 = ['../Input/Skin_Datasets/Dataset8_Abdomen/train/annotations/']\n",
    "# train_ids8 = next(os.walk(TRAIN_PATH8[0]))[2]\n",
    "# mask_ids8 = next(os.walk(MASK_PATH8[0]))[2]\n",
    "# train_ids8.sort()\n",
    "# mask_ids8.sort()\n",
    "\n",
    "# TRAIN_PATH8 = TRAIN_PATH8*len(train_ids8)\n",
    "# MASK_PATH8 = MASK_PATH8*len(train_ids8)\n",
    "\n",
    "# # Combine everything\n",
    "# TRAIN_PATH = np.concatenate((TRAIN_PATH1,TRAIN_PATH2,TRAIN_PATH3,TRAIN_PATH4,TRAIN_PATH5, TRAIN_PATH6,TRAIN_PATH7,TRAIN_PATH8))\n",
    "# MASK_PATH = np.concatenate((MASK_PATH1,MASK_PATH2,MASK_PATH3,MASK_PATH4,MASK_PATH5,MASK_PATH6,MASK_PATH7,MASK_PATH8))\n",
    "# train_ids = np.concatenate((train_ids1,train_ids2,train_ids3,train_ids4,train_ids5,train_ids6,train_ids7,train_ids8))\n",
    "# mask_ids = np.concatenate((mask_ids1,mask_ids2,mask_ids3,mask_ids4,mask_ids5,mask_ids6,mask_ids7,mask_ids8))"
   ]
  },
  {
   "cell_type": "markdown",
   "metadata": {},
   "source": [
    "B) Shuffle the data and resize"
   ]
  },
  {
   "cell_type": "code",
   "execution_count": 6,
   "metadata": {
    "scrolled": false
   },
   "outputs": [],
   "source": [
    "# X_train = np.zeros((len(train_ids), IMG_HEIGHT, IMG_WIDTH, IMG_CHANNELS), dtype=np.uint8)\n",
    "# Y_train = np.zeros((len(train_ids), IMG_HEIGHT, IMG_WIDTH, 1))\n",
    "# print('Getting and resizing train images and masks ... ')\n",
    "# sys.stdout.flush()\n",
    "# g = list(range(0,len(train_ids)))\n",
    "# np.random.shuffle(g)\n",
    "\n",
    "# strs_original = [\"\" for x in range(len(train_ids))]\n",
    "# strs_mask = [\"\" for x in range(len(train_ids))]\n",
    "# pathmsk = MASK_PATH[0] + mask_ids[0]\n",
    "# for n, id_ in tqdm(enumerate(train_ids), total=len(train_ids)):\n",
    "#     strs_mask[n] = MASK_PATH[n] + mask_ids[n]\n",
    "#     strs_original[n] = TRAIN_PATH[n] + train_ids[n]\n",
    "    \n",
    "# for n, id_ in tqdm(enumerate(train_ids), total=len(train_ids)):\n",
    "#     path = strs_original[g[n]]\n",
    "#     img = imread(path)[:,:,:IMG_CHANNELS]\n",
    "#     img = resize(img, (IMG_HEIGHT, IMG_WIDTH), mode='constant', preserve_range=True)\n",
    "#     X_train[n] = img\n",
    "    \n",
    "#     path = strs_mask[g[n]]\n",
    "#     img = imread(path)\n",
    "#     if img.ndim == 3:\n",
    "#         img = img[:,:,1]\n",
    "#     img = np.expand_dims(resize(img, (IMG_HEIGHT, IMG_WIDTH), mode='constant', \n",
    "#                                       preserve_range=True), axis=-1)\n",
    "#     if (np.unique(img).size) > 2:\n",
    "#         img = img > 30     # Important, needed to make labels 0's and 1's only \n",
    "#     else:\n",
    "#         img = img > 0\n",
    "#     Y_train[n] = img      "
   ]
  },
  {
   "cell_type": "markdown",
   "metadata": {},
   "source": [
    "### To Avoid running the above two block again you can simply save the np arrays for convience by running the block below"
   ]
  },
  {
   "cell_type": "code",
   "execution_count": 7,
   "metadata": {},
   "outputs": [],
   "source": [
    "# np.save(\"X_data\",X_train)\n",
    "# np.save(\"Y_data\",Y_train)"
   ]
  },
  {
   "cell_type": "code",
   "execution_count": 8,
   "metadata": {},
   "outputs": [],
   "source": [
    "# X_train = np.load('./X_data_abdomen_new.npy')\n",
    "# Y_train = np.load('./Y_data_abdomen_new.npy')"
   ]
  },
  {
   "cell_type": "code",
   "execution_count": 9,
   "metadata": {},
   "outputs": [],
   "source": [
    "X_train = np.load('./X_train_no_pratheepan.npy')\n",
    "Y_train = np.load('./Y_train_no_pratheepan.npy')"
   ]
  },
  {
   "cell_type": "markdown",
   "metadata": {},
   "source": [
    "C) Make sure the masks correspond to the original images"
   ]
  },
  {
   "cell_type": "code",
   "execution_count": 10,
   "metadata": {
    "scrolled": true
   },
   "outputs": [
    {
     "data": {
      "image/png": "[encoded data removed]",
      "text/plain": [
       "<Figure size 432x288 with 1 Axes>"
      ]
     },
     "metadata": {
      "needs_background": "light"
     },
     "output_type": "display_data"
    },
    {
     "data": {
      "image/png": "[encoded data removed]",
      "text/plain": [
       "<Figure size 432x288 with 1 Axes>"
      ]
     },
     "metadata": {
      "needs_background": "light"
     },
     "output_type": "display_data"
    }
   ],
   "source": [
    "ix = random.randint(0, len(X_train))\n",
    "imshow(X_train[ix])\n",
    "plt.show()\n",
    "imshow(np.squeeze(Y_train[ix]))\n",
    "plt.show()"
   ]
  },
  {
   "cell_type": "markdown",
   "metadata": {},
   "source": [
    "D) Construct the UNET model"
   ]
  },
  {
   "cell_type": "code",
   "execution_count": 11,
   "metadata": {},
   "outputs": [],
   "source": [
    "def skin_model():\n",
    "    # Specify Image Dimensions\n",
    "    IMG_WIDTH = 128\n",
    "    IMG_HEIGHT = 128\n",
    "    IMG_CHANNELS = 3\n",
    "    inputs = Input((IMG_HEIGHT, IMG_WIDTH, IMG_CHANNELS))\n",
    "    s = Lambda(lambda x: x) (inputs)\n",
    "\n",
    "    c1 = Conv2D(16, (3, 3), activation='relu', kernel_initializer='he_normal', padding='same') (s)\n",
    "    c1 = Dropout(0.1) (c1)\n",
    "    c1 = Conv2D(16, (3, 3), activation='relu', kernel_initializer='he_normal', padding='same') (c1)\n",
    "    p1 = MaxPooling2D((2, 2)) (c1)\n",
    "\n",
    "    c2 = Conv2D(32, (3, 3), activation='relu', kernel_initializer='he_normal', padding='same') (p1)\n",
    "    c2 = Dropout(0.1) (c2)\n",
    "    c2 = Conv2D(32, (3, 3), activation='relu', kernel_initializer='he_normal', padding='same') (c2)\n",
    "    p2 = MaxPooling2D((2, 2)) (c2)\n",
    "\n",
    "    c3 = Conv2D(64, (3, 3), activation='relu', kernel_initializer='he_normal', padding='same') (p2)\n",
    "    c3 = Dropout(0.2) (c3)\n",
    "    c3 = Conv2D(64, (3, 3), activation='relu', kernel_initializer='he_normal', padding='same') (c3)\n",
    "    p3 = MaxPooling2D((2, 2)) (c3)\n",
    "\n",
    "    c4 = Conv2D(128, (3, 3), activation='relu', kernel_initializer='he_normal', padding='same') (p3)\n",
    "    c4 = Dropout(0.2) (c4)\n",
    "    c4 = Conv2D(128, (3, 3), activation='relu', kernel_initializer='he_normal', padding='same') (c4)\n",
    "    p4 = MaxPooling2D(pool_size=(2, 2)) (c4)\n",
    "\n",
    "    c5 = Conv2D(128, (3, 3), activation='relu', kernel_initializer='he_normal', padding='same') (p4)\n",
    "    c5 = Dropout(0.2) (c5)\n",
    "    c5 = Conv2D(128, (3, 3), activation='relu', kernel_initializer='he_normal', padding='same') (c5)\n",
    "    p5 = MaxPooling2D(pool_size=(2, 2)) (c5)\n",
    "\n",
    "    c6 = Conv2D(256, (3, 3), activation='relu', kernel_initializer='he_normal', padding='same') (p5)\n",
    "    c6 = Dropout(0.3) (c6)\n",
    "    c6 = Conv2D(256, (3, 3), activation='relu', kernel_initializer='he_normal', padding='same') (c6)\n",
    "\n",
    "    u7 = Conv2DTranspose(128, (2, 2), strides=(2, 2), padding='same') (c6)\n",
    "    u7 = concatenate([u7, c5])\n",
    "    c7 = Conv2D(128, (3, 3), activation='relu', kernel_initializer='he_normal', padding='same') (u7)\n",
    "    c7 = Dropout(0.2) (c7)\n",
    "    c7 = Conv2D(128, (3, 3), activation='relu', kernel_initializer='he_normal', padding='same') (c7)\n",
    "\n",
    "    u8 = Conv2DTranspose(64, (2, 2), strides=(2, 2), padding='same') (c7)\n",
    "    u8 = concatenate([u8, c4])\n",
    "    c8 = Conv2D(64, (3, 3), activation='relu', kernel_initializer='he_normal', padding='same') (u8)\n",
    "    c8 = Dropout(0.2) (c8)\n",
    "    c8 = Conv2D(64, (3, 3), activation='relu', kernel_initializer='he_normal', padding='same') (c8)\n",
    "\n",
    "    u9 = Conv2DTranspose(32, (2, 2), strides=(2, 2), padding='same') (c8)\n",
    "    u9 = concatenate([u9, c3])\n",
    "    c9 = Conv2D(32, (3, 3), activation='relu', kernel_initializer='he_normal', padding='same') (u9)\n",
    "    c9 = Dropout(0.1) (c9)\n",
    "    c9 = Conv2D(32, (3, 3), activation='relu', kernel_initializer='he_normal', padding='same') (c9)\n",
    "\n",
    "    u10 = Conv2DTranspose(16, (2, 2), strides=(2, 2), padding='same') (c9)\n",
    "    u10 = concatenate([u10, c2], axis=3)\n",
    "    c10 = Conv2D(16, (3, 3), activation='relu', kernel_initializer='he_normal', padding='same') (u10)\n",
    "    c10 = Dropout(0.1) (c10)\n",
    "    c10 = Conv2D(16, (3, 3), activation='relu', kernel_initializer='he_normal', padding='same') (c10)\n",
    "\n",
    "    u11 = Conv2DTranspose(16, (2, 2), strides=(2, 2), padding='same') (c10)\n",
    "    u11 = concatenate([u11, c1], axis=3)\n",
    "    c11 = Conv2D(16, (3, 3), activation='relu', kernel_initializer='he_normal', padding='same') (u11)\n",
    "    c11 = Dropout(0.1) (c11)\n",
    "    c11 = Conv2D(16, (3, 3), activation='relu', kernel_initializer='he_normal', padding='same') (c11)\n",
    "\n",
    "    outputs = Conv2D(1, (1, 1), activation='sigmoid') (c11)\n",
    "\n",
    "    model = Model(inputs=[inputs], outputs=[outputs])\n",
    "    model = multi_gpu_model(model, gpus=4)\n",
    "    optimize = optimizers.Adam(lr = 0.001)\n",
    "    model.compile(optimizer=optimize, loss='binary_crossentropy', metrics=['acc'])\n",
    "    return model"
   ]
  },
  {
   "cell_type": "markdown",
   "metadata": {},
   "source": [
    "## E) Fit the model to the training data"
   ]
  },
  {
   "cell_type": "code",
   "execution_count": 12,
   "metadata": {
    "scrolled": true
   },
   "outputs": [],
   "source": [
    "# earlystopper = EarlyStopping(patience=30, verbose=1)\n",
    "# checkpointer = ModelCheckpoint('attempt2crossvalk-5.h5', verbose=1, save_best_only=True)"
   ]
  },
  {
   "cell_type": "markdown",
   "metadata": {},
   "source": [
    "## Manual K Fold for k=5"
   ]
  },
  {
   "cell_type": "code",
   "execution_count": 13,
   "metadata": {},
   "outputs": [],
   "source": [
    "from sklearn.model_selection import StratifiedKFold\n",
    "# fix random seed for reproducibility\n",
    "seed = 7\n",
    "np.random.seed(seed)\n",
    "kfold = StratifiedKFold(n_splits=10, shuffle=True, random_state=seed)\n",
    "y = np.random.choice([0, 1], size=(X_train.shape[0],))"
   ]
  },
  {
   "cell_type": "code",
   "execution_count": 14,
   "metadata": {},
   "outputs": [],
   "source": [
    "# Summarize history for loss\n",
    "def plotting(results,inp):\n",
    "    plt.plot(results.history['loss'])\n",
    "#     plt.plot(results.history['val_loss'])\n",
    "    plt.title('model loss')\n",
    "    plt.ylabel('loss')\n",
    "    plt.xlabel('epoch')\n",
    "#     plt.legend(['train', 'test'], loc='upper left')\n",
    "    plt.savefig('crossvalloss'+inp)\n",
    "    plt.show()\n",
    "\n",
    "    # Summarize history for mean_iou\n",
    "    plt.plot(results.history['acc'])\n",
    "#     plt.plot(results.history['val_acc'])\n",
    "    plt.title('model accuracy')\n",
    "    plt.ylabel('accuracy')\n",
    "    plt.xlabel('epoch')\n",
    "#     plt.legend(['train', 'test'], loc='upper left')\n",
    "    plt.savefig('crossvalaccu'+inp)\n",
    "    plt.show()\n",
    "    \n"
   ]
  },
  {
   "cell_type": "code",
   "execution_count": 15,
   "metadata": {
    "scrolled": true
   },
   "outputs": [
    {
     "name": "stdout",
     "output_type": "stream",
     "text": [
      "WARNING:tensorflow:From /home/anirudh/.myenv/lib/python3.5/site-packages/tensorflow/python/framework/op_def_library.py:263: colocate_with (from tensorflow.python.framework.ops) is deprecated and will be removed in a future version.\n",
      "Instructions for updating:\n",
      "Colocations handled automatically by placer.\n",
      "WARNING:tensorflow:From /home/anirudh/.myenv/lib/python3.5/site-packages/keras/backend/tensorflow_backend.py:3445: calling dropout (from tensorflow.python.ops.nn_ops) with keep_prob is deprecated and will be removed in a future version.\n",
      "Instructions for updating:\n",
      "Please use `rate` instead of `keep_prob`. Rate should be set to `rate = 1 - keep_prob`.\n",
      "WARNING:tensorflow:From /home/anirudh/.myenv/lib/python3.5/site-packages/tensorflow/python/ops/math_ops.py:3066: to_int32 (from tensorflow.python.ops.math_ops) is deprecated and will be removed in a future version.\n",
      "Instructions for updating:\n",
      "Use tf.cast instead.\n",
      "Epoch 1/200\n",
      "8190/8190 [==============================] - 18s 2ms/step - loss: 0.6815 - acc: 0.7918\n",
      "Epoch 2/200\n",
      "8190/8190 [==============================] - 9s 1ms/step - loss: 0.2755 - acc: 0.8888\n",
      "Epoch 3/200\n",
      "8190/8190 [==============================] - 9s 1ms/step - loss: 0.2238 - acc: 0.9125\n",
      "Epoch 4/200\n",
      "8190/8190 [==============================] - 9s 1ms/step - loss: 0.1997 - acc: 0.9228\n",
      "Epoch 5/200\n",
      "8190/8190 [==============================] - 9s 1ms/step - loss: 0.1840 - acc: 0.9290\n",
      "Epoch 6/200\n",
      "8190/8190 [==============================] - 9s 1ms/step - loss: 0.1737 - acc: 0.9331\n",
      "Epoch 7/200\n",
      "8190/8190 [==============================] - 9s 1ms/step - loss: 0.1620 - acc: 0.9374\n",
      "Epoch 8/200\n",
      "8190/8190 [==============================] - 9s 1ms/step - loss: 0.1579 - acc: 0.9393\n",
      "Epoch 9/200\n",
      "8190/8190 [==============================] - 9s 1ms/step - loss: 0.1518 - acc: 0.9417\n",
      "Epoch 10/200\n",
      "8190/8190 [==============================] - 9s 1ms/step - loss: 0.1423 - acc: 0.9452\n",
      "Epoch 11/200\n",
      "8190/8190 [==============================] - 9s 1ms/step - loss: 0.1364 - acc: 0.9477\n",
      "Epoch 12/200\n",
      "8190/8190 [==============================] - 9s 1ms/step - loss: 0.1308 - acc: 0.9495\n",
      "Epoch 13/200\n",
      "8190/8190 [==============================] - 9s 1ms/step - loss: 0.1305 - acc: 0.9499\n",
      "Epoch 14/200\n",
      "8190/8190 [==============================] - 9s 1ms/step - loss: 0.1279 - acc: 0.9506\n",
      "Epoch 15/200\n",
      "8190/8190 [==============================] - 9s 1ms/step - loss: 0.1197 - acc: 0.9541\n",
      "Epoch 16/200\n",
      "8190/8190 [==============================] - 9s 1ms/step - loss: 0.1137 - acc: 0.9564\n",
      "Epoch 17/200\n",
      "8190/8190 [==============================] - 9s 1ms/step - loss: 0.1122 - acc: 0.9569\n",
      "Epoch 18/200\n",
      "8190/8190 [==============================] - 9s 1ms/step - loss: 0.1097 - acc: 0.9580\n",
      "Epoch 19/200\n",
      "8190/8190 [==============================] - 9s 1ms/step - loss: 0.1075 - acc: 0.9590\n",
      "Epoch 20/200\n",
      "8190/8190 [==============================] - 9s 1ms/step - loss: 0.1060 - acc: 0.9598\n",
      "Epoch 21/200\n",
      "8190/8190 [==============================] - 9s 1ms/step - loss: 0.1151 - acc: 0.9567\n",
      "Epoch 22/200\n",
      "8190/8190 [==============================] - 9s 1ms/step - loss: 0.1011 - acc: 0.9616\n",
      "Epoch 23/200\n",
      "8190/8190 [==============================] - 9s 1ms/step - loss: 0.0972 - acc: 0.9629\n",
      "Epoch 24/200\n",
      "8190/8190 [==============================] - 9s 1ms/step - loss: 0.0957 - acc: 0.9635\n",
      "Epoch 25/200\n",
      "8190/8190 [==============================] - 9s 1ms/step - loss: 0.0950 - acc: 0.9639\n",
      "Epoch 26/200\n",
      "8190/8190 [==============================] - 9s 1ms/step - loss: 0.0922 - acc: 0.9648\n",
      "Epoch 27/200\n",
      "8190/8190 [==============================] - 9s 1ms/step - loss: 0.0911 - acc: 0.9654\n",
      "Epoch 28/200\n",
      "8190/8190 [==============================] - 9s 1ms/step - loss: 0.0942 - acc: 0.9642\n",
      "Epoch 29/200\n",
      "8190/8190 [==============================] - 9s 1ms/step - loss: 0.0920 - acc: 0.9651\n",
      "Epoch 30/200\n",
      "8190/8190 [==============================] - 9s 1ms/step - loss: 0.0931 - acc: 0.9647\n",
      "Epoch 31/200\n",
      "8190/8190 [==============================] - 9s 1ms/step - loss: 0.0904 - acc: 0.9657\n",
      "Epoch 32/200\n",
      "8190/8190 [==============================] - 9s 1ms/step - loss: 0.0832 - acc: 0.9682\n",
      "Epoch 33/200\n",
      "8190/8190 [==============================] - 9s 1ms/step - loss: 0.0811 - acc: 0.9691\n",
      "Epoch 34/200\n",
      "8190/8190 [==============================] - 9s 1ms/step - loss: 0.0843 - acc: 0.9680\n",
      "Epoch 35/200\n",
      "8190/8190 [==============================] - 9s 1ms/step - loss: 0.0798 - acc: 0.9694\n",
      "Epoch 36/200\n",
      "8190/8190 [==============================] - 9s 1ms/step - loss: 0.0804 - acc: 0.9695\n",
      "Epoch 37/200\n",
      "8190/8190 [==============================] - 9s 1ms/step - loss: 0.0788 - acc: 0.9699\n",
      "Epoch 38/200\n",
      "8190/8190 [==============================] - 9s 1ms/step - loss: 0.0769 - acc: 0.9707\n",
      "Epoch 39/200\n",
      "8190/8190 [==============================] - 9s 1ms/step - loss: 0.0955 - acc: 0.9643\n",
      "Epoch 40/200\n",
      "8190/8190 [==============================] - 9s 1ms/step - loss: 0.0940 - acc: 0.9647\n",
      "Epoch 41/200\n",
      "8190/8190 [==============================] - 9s 1ms/step - loss: 0.0971 - acc: 0.9643\n",
      "Epoch 42/200\n",
      "8190/8190 [==============================] - 9s 1ms/step - loss: 0.0823 - acc: 0.9689\n",
      "Epoch 43/200\n",
      "8190/8190 [==============================] - 9s 1ms/step - loss: 0.0764 - acc: 0.9709\n",
      "Epoch 44/200\n",
      "8190/8190 [==============================] - 9s 1ms/step - loss: 0.0759 - acc: 0.9711\n",
      "Epoch 45/200\n",
      "8190/8190 [==============================] - 9s 1ms/step - loss: 0.0720 - acc: 0.9725\n",
      "Epoch 46/200\n",
      "8190/8190 [==============================] - 9s 1ms/step - loss: 0.0711 - acc: 0.9728\n",
      "Epoch 47/200\n",
      "8190/8190 [==============================] - 9s 1ms/step - loss: 0.0692 - acc: 0.9736\n",
      "Epoch 48/200\n",
      "8190/8190 [==============================] - 9s 1ms/step - loss: 0.0691 - acc: 0.9736\n",
      "Epoch 49/200\n",
      "8190/8190 [==============================] - 9s 1ms/step - loss: 0.0696 - acc: 0.9735\n",
      "Epoch 50/200\n",
      "8190/8190 [==============================] - 9s 1ms/step - loss: 0.0724 - acc: 0.9724\n",
      "Epoch 51/200\n",
      "8190/8190 [==============================] - 9s 1ms/step - loss: 0.0702 - acc: 0.9733\n",
      "Epoch 52/200\n",
      "8190/8190 [==============================] - 9s 1ms/step - loss: 0.0707 - acc: 0.9731\n",
      "Epoch 53/200\n",
      "8190/8190 [==============================] - 9s 1ms/step - loss: 0.0678 - acc: 0.9742\n",
      "Epoch 54/200\n",
      "6016/8190 [=====================>........] - ETA: 2s - loss: 0.0669 - acc: 0.9745"
     ]
    }
   ],
   "source": [
    "i=1\n",
    "cvscores = []\n",
    "for train_index,test_index in kfold.split(np.zeros(y.shape),y):\n",
    "    model = skin_model()\n",
    "    results = model.fit(X_train[train_index], Y_train[train_index], batch_size=64, epochs=200, shuffle=False)\n",
    "    plotting(results,str(i))\n",
    "    i=i+1\n",
    "    scores = model.evaluate(X_train[test_index], Y_train[test_index], verbose=0)\n",
    "    print(\"%s: %.2f%%\" % (model.metrics_names[1], scores[1]*100))\n",
    "    cvscores.append(scores[1] * 100)\n",
    "print(\"%.2f%% (+/- %.2f%%)\" % (np.mean(cvscores), np.std(cvscores)))"
   ]
  },
  {
   "cell_type": "code",
   "execution_count": 16,
   "metadata": {},
   "outputs": [
    {
     "data": {
      "text/plain": [
       "[96.56518797188768,\n",
       " 96.5679415494498,\n",
       " 96.47508911322291,\n",
       " 96.66685734177264,\n",
       " 95.48647705015244,\n",
       " 96.4454265479203,\n",
       " 96.55487393284892,\n",
       " 96.06624723005346,\n",
       " 96.23815284179251,\n",
       " 96.39172108784499]"
      ]
     },
     "execution_count": 16,
     "metadata": {},
     "output_type": "execute_result"
    }
   ],
   "source": [
    "cvscores"
   ]
  },
  {
   "cell_type": "markdown",
   "metadata": {},
   "source": [
    "F) Output training results"
   ]
  },
  {
   "cell_type": "markdown",
   "metadata": {},
   "source": [
    "G) Test against training and validation samples"
   ]
  },
  {
   "cell_type": "code",
   "execution_count": 17,
   "metadata": {
    "scrolled": true
   },
   "outputs": [],
   "source": [
    "# model = load_model('trainingonlr0.001.h5', custom_objects={'mean_iou': mean_iou})\n",
    "# preds_train = model.predict(X_train[:int(X_train.shape[0]*0.8)], verbose=1)\n",
    "# preds_val = model.predict(X_train[int(X_train.shape[0]*0.8):], verbose=1)\n",
    "\n",
    "# preds_train_t = (preds_train > 0.5).astype(np.uint8)\n",
    "# preds_val_t = (preds_val > 0.5).astype(np.uint8)"
   ]
  },
  {
   "cell_type": "markdown",
   "metadata": {},
   "source": [
    "H) See predicted masks for training samples"
   ]
  },
  {
   "cell_type": "code",
   "execution_count": 18,
   "metadata": {
    "scrolled": false
   },
   "outputs": [],
   "source": [
    "# ix = random.randint(0, len(preds_train_t))\n",
    "# imshow(X_train[ix])\n",
    "# plt.show()\n",
    "# imshow(np.squeeze(Y_train[ix]))\n",
    "# plt.show()\n",
    "# imshow(np.squeeze(preds_train_t[ix]))\n",
    "# plt.show()"
   ]
  },
  {
   "cell_type": "markdown",
   "metadata": {},
   "source": [
    "I) See predicted masks for validation data"
   ]
  },
  {
   "cell_type": "code",
   "execution_count": 19,
   "metadata": {},
   "outputs": [],
   "source": [
    "# ix = random.randint(0, len(preds_val_t))\n",
    "# imshow(X_train[int(X_train.shape[0]*0.7):][ix])\n",
    "# plt.show()\n",
    "# imshow(np.squeeze(Y_train[int(Y_train.shape[0]*0.7):][ix]))\n",
    "# plt.show()\n",
    "# imshow(np.squeeze(preds_val_t[ix]))\n",
    "# plt.show()"
   ]
  },
  {
   "cell_type": "markdown",
   "metadata": {},
   "source": [
    "J) Load model, testing data and check against trained network (if masks exist)"
   ]
  },
  {
   "cell_type": "code",
   "execution_count": 20,
   "metadata": {
    "scrolled": false
   },
   "outputs": [],
   "source": [
    "# model = load_model('your_model_name.h5', custom_objects={'mean_iou': mean_iou})\n",
    "# ABD_PATH = '/home/lalzogbi/Documents/Skin_Datasets/allabdomen/val/skin_val2019/'\n",
    "# MSK_PATH = '/home/lalzogbi/Documents/Skin_Datasets/allabdomen/val/annotations/'\n",
    "\n",
    "# abd_ids = next(os.walk(ABD_PATH))[2]\n",
    "# msk_ids = next(os.walk(MSK_PATH))[2]\n",
    "# abd_ids.sort()\n",
    "# msk_ids.sort()\n",
    "\n",
    "# abd = np.zeros((len(abd_ids), IMG_HEIGHT, IMG_WIDTH, IMG_CHANNELS), dtype=np.uint8)\n",
    "# msk = np.zeros((len(msk_ids), IMG_HEIGHT, IMG_WIDTH), dtype=np.uint8)\n",
    "\n",
    "# sys.stdout.flush()\n",
    "# for n, id_ in tqdm(enumerate(abd_ids), total=len(abd_ids)):\n",
    "#     path = ABD_PATH + id_\n",
    "#     img = imread(path)[:,:,:IMG_CHANNELS]\n",
    "#     img = resize(img, (IMG_HEIGHT, IMG_WIDTH), mode='constant', preserve_range=True)\n",
    "#     abd[n] = img\n",
    "    \n",
    "# for n, id_ in tqdm(enumerate(msk_ids), total=len(msk_ids)):\n",
    "#     path = MSK_PATH + id_\n",
    "#     img = imread(path)\n",
    "    \n",
    "#     if img.ndim == 3:\n",
    "#         img = img[:,:,1]\n",
    "        \n",
    "#     img = resize(img, (IMG_HEIGHT, IMG_WIDTH), mode='constant', \n",
    "#                                       preserve_range=True)\n",
    "#     if (np.unique(img).size) > 2:\n",
    "#         img = img > 30           # Important, Needed to make labels 0's and 1's only   \n",
    "#     else:   \n",
    "#         img = img > 0\n",
    "#     img = img.astype(np.uint8)\n",
    "#     msk[n] = img\n",
    "    \n",
    "# # Actual Predictions\n",
    "# preds_test = model.predict(abd[:int(abd.shape[0])], verbose=1)\n",
    "\n",
    "# # Threshold predictions\n",
    "# preds_test_t = (preds_test > 0.5).astype(np.uint8)\n",
    "\n",
    "# # Overall accuracy on abdomen pictures\n",
    "# answer = acc_comp(msk, preds_test_t);\n",
    "\n",
    "# # # Save results in a .npy file\n",
    "# # a = np.reshape(answer[2],(100,1))\n",
    "# # b = np.reshape(answer[3],(100,1))\n",
    "# # c = np.reshape(answer[4],(100,1))\n",
    "# # d = np.reshape(answer[5],(100,1))\n",
    "# # g = np.concatenate([a,b,c,d],axis = 1)\n",
    "# # np.save('your_file_name.npy',g)"
   ]
  },
  {
   "cell_type": "markdown",
   "metadata": {},
   "source": [
    "K) Visualize results"
   ]
  },
  {
   "cell_type": "code",
   "execution_count": 21,
   "metadata": {},
   "outputs": [],
   "source": [
    "# for j in range(len(abd_ids)):\n",
    "#     print(j)\n",
    "#     plt.show()\n",
    "#     imshow(abd[j])\n",
    "#     plt.show()\n",
    "#     imshow(np.squeeze(preds_test_t[j]*255))\n",
    "#     plt.show()\n",
    "#     imshow(np.squeeze(msk[j]))"
   ]
  },
  {
   "cell_type": "markdown",
   "metadata": {},
   "source": [
    "J') Load model, testing data and check against trained network (if masks do NOT exist)"
   ]
  },
  {
   "cell_type": "code",
   "execution_count": 22,
   "metadata": {
    "scrolled": true
   },
   "outputs": [],
   "source": [
    "# model = load_model('lydia.h5', custom_objects={'mean_iou': mean_iou})\n",
    "# ABD_PATH = '/home/lalzogbi/Documents/Umbilicus_Skin_Detection/code/wounds/'\n",
    "\n",
    "# abd_ids = next(os.walk(ABD_PATH))[2]\n",
    "# abd_ids.sort()\n",
    "\n",
    "# abd = np.zeros((len(abd_ids), IMG_HEIGHT, IMG_WIDTH, IMG_CHANNELS), dtype=np.uint8)\n",
    "\n",
    "# sys.stdout.flush()\n",
    "# for n, id_ in tqdm(enumerate(abd_ids), total=len(abd_ids)):\n",
    "#     path = ABD_PATH + id_\n",
    "#     img = imread(path)[:,:,:IMG_CHANNELS]\n",
    "#     img = resize(img, (IMG_HEIGHT, IMG_WIDTH), mode='constant', preserve_range=True)\n",
    "#     abd[n] = img\n",
    "    \n",
    "# # Actual Predictions\n",
    "# preds_test = model.predict(abd[:int(abd.shape[0])], verbose=1)\n",
    "\n",
    "# # Threshold predictions\n",
    "# preds_test_t = (preds_test > 0.5).astype(np.uint8)"
   ]
  },
  {
   "cell_type": "markdown",
   "metadata": {},
   "source": [
    "K') Visualize results"
   ]
  },
  {
   "cell_type": "code",
   "execution_count": 23,
   "metadata": {
    "scrolled": false
   },
   "outputs": [],
   "source": [
    "# for j in range(len(abd_ids)):\n",
    "#     print(j)\n",
    "#     plt.show()\n",
    "#     imshow(abd[j])\n",
    "#     plt.show()`\n",
    "#     imshow(np.squeeze(preds_test_t[j]*255))\n",
    "#     plt.show()"
   ]
  },
  {
   "cell_type": "code",
   "execution_count": null,
   "metadata": {},
   "outputs": [],
   "source": []
  }
 ],
 "metadata": {
  "kernelspec": {
   "display_name": "Python 3",
   "language": "python",
   "name": "python3"
  },
  "language_info": {
   "codemirror_mode": {
    "name": "ipython",
    "version": 3
   },
   "file_extension": ".py",
   "mimetype": "text/x-python",
   "name": "python",
   "nbconvert_exporter": "python",
   "pygments_lexer": "ipython3",
   "version": "3.5.2"
  }
 },
 "nbformat": 4,
 "nbformat_minor": 2
}
