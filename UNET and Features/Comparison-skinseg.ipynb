{
 "cells": [
  {
   "cell_type": "markdown",
   "metadata": {},
   "source": [
    "## Compare Skin Segmentation Between Human Users"
   ]
  },
  {
   "cell_type": "code",
   "execution_count": 1,
   "metadata": {},
   "outputs": [
    {
     "name": "stderr",
     "output_type": "stream",
     "text": [
      "Using TensorFlow backend.\n"
     ]
    }
   ],
   "source": [
    "import os\n",
    "import sys\n",
    "import time\n",
    "import random\n",
    "import warnings\n",
    "\n",
    "import cv2 as cv\n",
    "import numpy as np\n",
    "import matplotlib.pyplot as plt\n",
    "from tqdm import tqdm_notebook as tqdm\n",
    "from skimage.io import imread, imshow\n",
    "from skimage.transform import resize\n",
    "\n",
    "import tensorflow as tf\n",
    "from keras.models import Model, load_model\n",
    "from keras.layers import Input\n",
    "from keras.layers.core import Dropout, Lambda\n",
    "from keras.layers.convolutional import Conv2D, Conv2DTranspose\n",
    "from keras.layers.pooling import MaxPooling2D\n",
    "from keras.layers.merge import concatenate\n",
    "from keras.callbacks import EarlyStopping, ModelCheckpoint, Callback\n",
    "from keras import backend as K\n",
    "from keras.utils import multi_gpu_model\n",
    "from keras import optimizers\n",
    "from sklearn.metrics import auc # roc curve toolsplt.hold(True)\n",
    "\n",
    "\n",
    "# Specify Image Dimensions\n",
    "IMG_WIDTH = 128\n",
    "IMG_HEIGHT = 128\n",
    "IMG_CHANNELS = 3\n",
    "\n",
    "warnings.filterwarnings('ignore', category=UserWarning, module='skimage')\n",
    "seed = 42\n",
    "random.seed = seed"
   ]
  },
  {
   "cell_type": "markdown",
   "metadata": {},
   "source": [
    "#### Loading Sub1 and Sub2 Data"
   ]
  },
  {
   "cell_type": "code",
   "execution_count": 2,
   "metadata": {},
   "outputs": [
    {
     "data": {
      "application/vnd.jupyter.widget-view+json": {
       "model_id": "e0cb39b65db94094b986e838233447bb",
       "version_major": 2,
       "version_minor": 0
      },
      "text/plain": [
       "HBox(children=(IntProgress(value=0), HTML(value='')))"
      ]
     },
     "metadata": {},
     "output_type": "display_data"
    },
    {
     "name": "stdout",
     "output_type": "stream",
     "text": [
      "\n"
     ]
    },
    {
     "data": {
      "application/vnd.jupyter.widget-view+json": {
       "model_id": "a25dbc12a60c4c9294080601407c944d",
       "version_major": 2,
       "version_minor": 0
      },
      "text/plain": [
       "HBox(children=(IntProgress(value=0), HTML(value='')))"
      ]
     },
     "metadata": {},
     "output_type": "display_data"
    },
    {
     "name": "stdout",
     "output_type": "stream",
     "text": [
      "\n"
     ]
    }
   ],
   "source": [
    "MSK_PATH1 = '../forcrosscheck/msk1/'\n",
    "MSK_PATH2 = '../forcrosscheck/msk2/'\n",
    "\n",
    "\n",
    "msk_ids1 = next(os.walk(MSK_PATH1))[2]\n",
    "msk_ids2 = next(os.walk(MSK_PATH2))[2]\n",
    "msk_ids1.sort()\n",
    "msk_ids2.sort()\n",
    "\n",
    "msk1 = np.zeros((len(msk_ids1), IMG_HEIGHT, IMG_WIDTH), dtype=np.uint8)\n",
    "msk2 = np.zeros((len(msk_ids2), IMG_HEIGHT, IMG_WIDTH), dtype=np.uint8)\n",
    "\n",
    "sys.stdout.flush()\n",
    "for n, id_ in tqdm(enumerate(msk_ids1), total=len(msk_ids1)):\n",
    "    path = MSK_PATH1 + id_\n",
    "    img = imread(path)\n",
    "    img = resize(img, (IMG_HEIGHT, IMG_WIDTH), mode='constant', preserve_range=True)\n",
    "    if img.ndim == 3:\n",
    "        img = img[:,:,1]\n",
    "    img = resize(img, (IMG_HEIGHT, IMG_WIDTH), mode='constant', \n",
    "                                      preserve_range=True)\n",
    "    if (np.unique(img).size) > 2:\n",
    "        img = img > 30           # Important, Needed to make labels 0's and 1's only   \n",
    "    else:   \n",
    "        img = img > 0\n",
    "    img = img.astype(np.uint8)\n",
    "    msk1[n] = img\n",
    "    \n",
    "for n, id_ in tqdm(enumerate(msk_ids2), total=len(msk_ids2)):\n",
    "    path = MSK_PATH2 + id_\n",
    "    img = imread(path)\n",
    "    img = resize(img, (IMG_HEIGHT, IMG_WIDTH), mode='constant', preserve_range=True)\n",
    "    img = img.astype(np.uint8)\n",
    "    msk2[n] = img\n",
    "    if img.ndim == 3:\n",
    "        img = img[:,:,1]\n",
    "    img = resize(img, (IMG_HEIGHT, IMG_WIDTH), mode='constant', \n",
    "                                      preserve_range=True)\n",
    "    if (np.unique(img).size) > 2:\n",
    "        img = img > 30           # Important, Needed to make labels 0's and 1's only   \n",
    "    else:   \n",
    "        img = img > 0\n",
    "    img = img.astype(np.uint8)\n",
    "    msk2[n] = img\n",
    "    "
   ]
  },
  {
   "cell_type": "code",
   "execution_count": 7,
   "metadata": {},
   "outputs": [],
   "source": [
    "def acc_comp_anirudh(msk, preds_test_t): #Takes as input 2D masks and 2D predictions\n",
    "    \n",
    "    mean_acc = []\n",
    "    mean_prec = []\n",
    "    mean_rec = []\n",
    "    mean_f = []\n",
    "    for j in range(msk.shape[0]):\n",
    "        act = msk[j]\n",
    "        pr = preds_test_t[j].reshape(IMG_WIDTH, IMG_HEIGHT)\n",
    "    \n",
    "        c = act == pr #acc\n",
    "        d = act & pr #true negative\n",
    "        e = act | pr #true positive\n",
    "        neg = act.sum()\n",
    "        pos = (IMG_WIDTH*IMG_HEIGHT)-act.sum()\n",
    "    \n",
    "        TN = round(float(d.sum()),6)\n",
    "        FN = round(float(pr.sum()-d.sum()),6)\n",
    "        TP = round(float((IMG_WIDTH*IMG_HEIGHT)-e.sum()),6)\n",
    "        FP = round(float(e.sum()-pr.sum()),6)\n",
    "        acc = round(float(c.sum())/(IMG_WIDTH*IMG_HEIGHT),6)\n",
    "    \n",
    "        acc2 = float(TP+TN)/(TP+TN+FP+FN)\n",
    "        prec = float(TP)/(TP+FP+0.0000000001)\n",
    "        rec = float(TP)/(TP+FN)\n",
    "        f_measure = 2*(prec*rec)/(prec+rec+0.0000000001)\n",
    "        \n",
    "        mean_acc.append(acc2)\n",
    "        mean_prec.append(prec)\n",
    "        mean_rec.append(rec)\n",
    "        mean_f.append(f_measure)\n",
    "    return mean_acc, mean_prec ,mean_rec, mean_f"
   ]
  },
  {
   "cell_type": "code",
   "execution_count": 8,
   "metadata": {},
   "outputs": [
    {
     "name": "stdout",
     "output_type": "stream",
     "text": [
      "Accuracy 0.9679583740234375\n",
      "STD Deviation 0.0170807022822578\n",
      "Precision 0.9577195304341507\n",
      "Recall 0.9376261586575302\n",
      "F-Measure 0.9466674263949149\n"
     ]
    }
   ],
   "source": [
    "# Overall accuracy on abdomen pictures\n",
    "mean_accu, mean_prec,mean_rec, mean_f = acc_comp_anirudh(msk1,msk2);\n",
    "\n",
    "avg = np.mean(mean_accu)\n",
    "std = np.std(mean_accu)\n",
    "precision = np.mean(mean_prec)\n",
    "recall = np.mean(mean_rec)\n",
    "fmeasure = np.mean(mean_f)\n",
    "print(\"Accuracy \" + str(avg))\n",
    "print(\"STD Deviation \" + str(std))\n",
    "print(\"Precision \" + str(precision))\n",
    "print(\"Recall \" + str(recall))\n",
    "print(\"F-Measure \" + str(fmeasure))\n",
    "\n",
    "# # Save results in a .npy file\n",
    "# a = np.reshape(answer[2],(100,1))\n",
    "# b = np.reshape(answer[3],(100,1))\n",
    "# c = np.reshape(answer[4],(100,1))\n",
    "# d = np.reshape(answer[5],(100,1))\n",
    "# g = np.concatenate([a,b,c,d],axis = 1)\n",
    "# np.save('your_file_name.npy',g)"
   ]
  },
  {
   "cell_type": "code",
   "execution_count": 9,
   "metadata": {},
   "outputs": [
    {
     "name": "stdout",
     "output_type": "stream",
     "text": [
      "Accuracy 0.9679583740234375\n",
      "STD Deviation 0.0170807022822578\n",
      "Precision 0.9376261586575092\n",
      "Recall 0.957719530434173\n",
      "F-Measure 0.9466674263949147\n"
     ]
    }
   ],
   "source": [
    "# Overall accuracy on abdomen pictures\n",
    "mean_accu1, mean_prec1,mean_rec1, mean_f1 = acc_comp_anirudh(msk2,msk1);\n",
    "\n",
    "avg1 = np.mean(mean_accu1)\n",
    "std1 = np.std(mean_accu1)\n",
    "precision1 = np.mean(mean_prec1)\n",
    "recall1 = np.mean(mean_rec1)\n",
    "fmeasure1 = np.mean(mean_f1)\n",
    "print(\"Accuracy \" + str(avg1))\n",
    "print(\"STD Deviation \" + str(std1))\n",
    "print(\"Precision \" + str(precision1))\n",
    "print(\"Recall \" + str(recall1))\n",
    "print(\"F-Measure \" + str(fmeasure1))"
   ]
  },
  {
   "cell_type": "code",
   "execution_count": 10,
   "metadata": {},
   "outputs": [
    {
     "data": {
      "text/plain": [
       "[0.9666748046875,\n",
       " 0.9742431640625,\n",
       " 0.98089599609375,\n",
       " 0.96429443359375,\n",
       " 0.9619140625,\n",
       " 0.95086669921875,\n",
       " 0.9791259765625,\n",
       " 0.97650146484375,\n",
       " 0.97894287109375,\n",
       " 0.99322509765625,\n",
       " 0.97772216796875,\n",
       " 0.95782470703125,\n",
       " 0.97979736328125,\n",
       " 0.96783447265625,\n",
       " 0.9932861328125,\n",
       " 0.9635009765625,\n",
       " 0.97650146484375,\n",
       " 0.9810791015625,\n",
       " 0.97235107421875,\n",
       " 0.9530029296875,\n",
       " 0.974609375,\n",
       " 0.93182373046875,\n",
       " 0.96075439453125,\n",
       " 0.9859619140625,\n",
       " 0.967041015625,\n",
       " 0.97796630859375,\n",
       " 0.96826171875,\n",
       " 0.9615478515625,\n",
       " 0.9925537109375,\n",
       " 0.97564697265625,\n",
       " 0.98309326171875,\n",
       " 0.9830322265625,\n",
       " 0.97344970703125,\n",
       " 0.9840087890625,\n",
       " 0.97003173828125,\n",
       " 0.940673828125,\n",
       " 0.98089599609375,\n",
       " 0.95977783203125,\n",
       " 0.96234130859375,\n",
       " 0.96240234375,\n",
       " 0.94970703125,\n",
       " 0.93231201171875,\n",
       " 0.95794677734375,\n",
       " 0.95550537109375,\n",
       " 0.9947509765625,\n",
       " 0.97314453125,\n",
       " 0.96282958984375,\n",
       " 0.9315185546875,\n",
       " 0.968017578125,\n",
       " 0.96832275390625,\n",
       " 0.9879150390625,\n",
       " 0.97393798828125,\n",
       " 0.964599609375,\n",
       " 0.97589111328125,\n",
       " 0.96954345703125,\n",
       " 0.99151611328125,\n",
       " 0.9727783203125,\n",
       " 0.9786376953125,\n",
       " 0.988037109375,\n",
       " 0.98712158203125,\n",
       " 0.97015380859375,\n",
       " 0.95379638671875,\n",
       " 0.98089599609375,\n",
       " 0.94708251953125,\n",
       " 0.96435546875,\n",
       " 0.97210693359375,\n",
       " 0.96429443359375,\n",
       " 0.9715576171875,\n",
       " 0.95654296875,\n",
       " 0.97247314453125,\n",
       " 0.94183349609375,\n",
       " 0.99261474609375,\n",
       " 0.9775390625,\n",
       " 0.91925048828125,\n",
       " 0.9686279296875,\n",
       " 0.95452880859375,\n",
       " 0.9400634765625,\n",
       " 0.93084716796875,\n",
       " 0.95068359375,\n",
       " 0.96453857421875,\n",
       " 0.986572265625,\n",
       " 0.962890625,\n",
       " 0.94073486328125,\n",
       " 0.98504638671875,\n",
       " 0.97210693359375,\n",
       " 0.89794921875,\n",
       " 0.96307373046875,\n",
       " 0.9866943359375,\n",
       " 0.991455078125,\n",
       " 0.96075439453125,\n",
       " 0.97467041015625,\n",
       " 0.9737548828125,\n",
       " 0.978759765625,\n",
       " 0.9649658203125,\n",
       " 0.96875,\n",
       " 0.95208740234375,\n",
       " 0.96319580078125,\n",
       " 0.9775390625,\n",
       " 0.9864501953125,\n",
       " 0.985107421875]"
      ]
     },
     "execution_count": 10,
     "metadata": {},
     "output_type": "execute_result"
    }
   ],
   "source": [
    "mean_accu"
   ]
  }
 ],
 "metadata": {
  "kernelspec": {
   "display_name": "Python 3",
   "language": "python",
   "name": "python3"
  },
  "language_info": {
   "codemirror_mode": {
    "name": "ipython",
    "version": 3
   },
   "file_extension": ".py",
   "mimetype": "text/x-python",
   "name": "python",
   "nbconvert_exporter": "python",
   "pygments_lexer": "ipython3",
   "version": "3.5.2"
  }
 },
 "nbformat": 4,
 "nbformat_minor": 2
}
