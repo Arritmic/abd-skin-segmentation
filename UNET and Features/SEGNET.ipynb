{
 "cells": [
  {
   "cell_type": "code",
   "execution_count": 52,
   "metadata": {},
   "outputs": [],
   "source": [
    "import os\n",
    "import sys\n",
    "import time \n",
    "import random\n",
    "import warnings\n",
    "import numpy as np\n",
    "import matplotlib.pyplot as plt\n",
    "from tqdm import tqdm_notebook as tqdm\n",
    "from itertools import chain\n",
    "from skimage.io import imread, imshow, imread_collection, concatenate_images\n",
    "from skimage.transform import resize\n",
    "from skimage.morphology import label\n",
    "\n",
    "import tensorflow as tf\n",
    "from tensorflow.python.keras import backend as K\n",
    "from tensorflow.python.ops import nn_ops\n",
    "from tensorflow.python.keras import initializers, regularizers, constraints\n",
    "from tensorflow.python.keras.utils import conv_utils\n",
    "from tensorflow.python.keras.utils import tf_utils\n",
    "from tensorflow.python.keras import layers\n",
    "from tensorflow.python.keras.layers import Input, Layer\n",
    "from tensorflow.python.keras.layers.core import Activation, Reshape\n",
    "from tensorflow.python.keras.layers.convolutional import Convolution2D, UpSampling2D\n",
    "from tensorflow.python.keras.layers.normalization import BatchNormalization\n",
    "from tensorflow.python.keras.layers.pooling import MaxPooling2D\n",
    "from tensorflow.python.keras.models import Model\n",
    "from tensorflow.python.keras.callbacks import EarlyStopping, ModelCheckpoint, Callback\n",
    "\n",
    "warnings.filterwarnings('ignore', category=UserWarning, module='skimage')"
   ]
  },
  {
   "cell_type": "code",
   "execution_count": 51,
   "metadata": {},
   "outputs": [],
   "source": [
    "# Define class for extracting time per epoch\n",
    "class TimingCallback(Callback):\n",
    "    def on_train_begin(self, logs={}):\n",
    "        self.times = []\n",
    "\n",
    "    def on_epoch_begin(self, batch, logs={}):\n",
    "        self.epoch_time_start = time.time()\n",
    "\n",
    "    def on_epoch_end(self, batch, logs={}):\n",
    "        self.times.append(time.time() - self.epoch_time_start)\n",
    "\n",
    "cb = TimingCallback()"
   ]
  },
  {
   "cell_type": "code",
   "execution_count": 35,
   "metadata": {},
   "outputs": [],
   "source": [
    "# Get Training Data (Original+Mask) DONT RUN IN THIS CODE \n",
    "# Dataset 1: HGR\n",
    "TRAIN_PATH1 = ['/home/lalzogbi/Documents/Skin_Datasets/Dataset1_HGR/original_images/']\n",
    "MASK_PATH1 = ['/home/lalzogbi/Documents/Skin_Datasets/Dataset1_HGR/skin_masks/']\n",
    "train_ids1 = next(os.walk(TRAIN_PATH1[0]))[2]\n",
    "mask_ids1 = next(os.walk(MASK_PATH1[0]))[2]\n",
    "train_ids1.sort()\n",
    "mask_ids1.sort()\n",
    "TRAIN_PATH1 = TRAIN_PATH1*len(train_ids1)\n",
    "MASK_PATH1 = MASK_PATH1*len(train_ids1)\n",
    "\n",
    "# Dataset 4: Pratheepan\n",
    "TRAIN_PATH2 = ['/home/lalzogbi/Documents/Skin_Datasets/Dataset4_Pratheepan/original_images/']\n",
    "MASK_PATH2 = ['/home/lalzogbi/Documents/Skin_Datasets/Dataset4_Pratheepan/skin_masks/']\n",
    "train_ids2 = next(os.walk(TRAIN_PATH2[0]))[2]\n",
    "mask_ids2 = next(os.walk(MASK_PATH2[0]))[2]\n",
    "train_ids2.sort()\n",
    "mask_ids2.sort()\n",
    "TRAIN_PATH2 = TRAIN_PATH2*len(train_ids2)\n",
    "MASK_PATH2 = MASK_PATH2*len(train_ids2)\n",
    "\n",
    "# Dataset 5: VDM\n",
    "TRAIN_PATH3 = ['/home/lalzogbi/Documents/Skin_Datasets/Dataset5_VDM/original_images/']\n",
    "MASK_PATH3 = ['/home/lalzogbi/Documents/Skin_Datasets/Dataset5_VDM/skin_masks/']\n",
    "train_id3 = next(os.walk(TRAIN_PATH3[0]))[2]\n",
    "mask_id3 = next(os.walk(MASK_PATH3[0]))[2]\n",
    "train_id3.sort()\n",
    "mask_id3.sort()\n",
    "train_ids3 = train_id3[1:]\n",
    "mask_ids3 = mask_id3[1:]\n",
    "TRAIN_PATH3 = TRAIN_PATH3*len(train_ids3)\n",
    "MASK_PATH3 = MASK_PATH3*len(train_ids3)\n",
    "\n",
    "# Dataset 6: SFA\n",
    "TRAIN_PATH4 = ['/home/lalzogbi/Documents/Skin_Datasets/Dataset6_SFA/original_images/']\n",
    "MASK_PATH4 = ['/home/lalzogbi/Documents/Skin_Datasets/Dataset6_SFA/skin_masks/']\n",
    "train_ids4 = next(os.walk(TRAIN_PATH4[0]))[2]\n",
    "mask_ids4 = next(os.walk(MASK_PATH4[0]))[2]\n",
    "train_ids4.sort()\n",
    "mask_ids4.sort()\n",
    "TRAIN_PATH4 = TRAIN_PATH4*len(train_ids4)\n",
    "MASK_PATH4 = MASK_PATH4*len(train_ids4)\n",
    "\n",
    "# Dataset 2: TDSD\n",
    "TRAIN_PATH5 = ['/home/lalzogbi/Documents/Skin_Datasets/Dataset2_TDSD/original_images/']\n",
    "MASK_PATH5 = ['/home/lalzogbi/Documents/Skin_Datasets/Dataset2_TDSD/skin_masks/']\n",
    "train_ids5 = next(os.walk(TRAIN_PATH5[0]))[2]\n",
    "mask_ids5 = next(os.walk(MASK_PATH5[0]))[2]\n",
    "train_ids5.sort()\n",
    "mask_ids5.sort()\n",
    "TRAIN_PATH5 = TRAIN_PATH5*len(train_ids5)\n",
    "MASK_PATH5 = MASK_PATH5*len(train_ids5)\n",
    "\n",
    "# Dataset 3: Schmugge\n",
    "TRAIN_PATH6 = ['/home/lalzogbi/Documents/Skin_Datasets/Dataset3_Schmugge/original_images/']\n",
    "MASK_PATH6 = ['/home/lalzogbi/Documents/Skin_Datasets/Dataset3_Schmugge/skin_masks/']\n",
    "train_ids6 = next(os.walk(TRAIN_PATH6[0]))[2]\n",
    "mask_ids6 = next(os.walk(MASK_PATH6[0]))[2]\n",
    "train_ids6.sort()\n",
    "mask_ids6.sort()\n",
    "TRAIN_PATH6 = TRAIN_PATH6*len(train_ids6)\n",
    "MASK_PATH6 = MASK_PATH6*len(train_ids6)\n",
    "\n",
    "# Dataset 7: FSD\n",
    "TRAIN_PATH7 = ['/home/lalzogbi/Documents/Skin_Datasets/Dataset7_FSD/original_images/']\n",
    "MASK_PATH7 = ['/home/lalzogbi/Documents/Skin_Datasets/Dataset7_FSD/skin_masks/']\n",
    "train_ids7 = next(os.walk(TRAIN_PATH7[0]))[2]\n",
    "mask_ids7 = next(os.walk(MASK_PATH7[0]))[2]\n",
    "train_ids7.sort()\n",
    "mask_ids7.sort()\n",
    "TRAIN_PATH7 = TRAIN_PATH7*len(train_ids7)\n",
    "MASK_PATH7 = MASK_PATH7*len(train_ids7)\n",
    "\n",
    "# Dataset 8: ABDOMEN\n",
    "TRAIN_PATH8 = ['/home/lalzogbi/Documents/Skin_Datasets/allabdomen/train/skin_train2019/']\n",
    "MASK_PATH8 = ['/home/lalzogbi/Documents/Skin_Datasets/allabdomen/train/annotations/']\n",
    "train_ids8 = next(os.walk(TRAIN_PATH8[0]))[2]\n",
    "mask_ids8 = next(os.walk(MASK_PATH8[0]))[2]\n",
    "train_ids8.sort()\n",
    "mask_ids8.sort()\n",
    "# mask_ids8 = mask_id8[:-1]\n",
    "TRAIN_PATH8 = TRAIN_PATH8*len(train_ids8)\n",
    "MASK_PATH8 = MASK_PATH8*len(train_ids8)\n",
    "\n",
    "# Combine everything\n",
    "# TRAIN_PATH = np.concatenate((TRAIN_PATH8,TRAIN_PATH2,TRAIN_PATH3,TRAIN_PATH4,TRAIN_PATH5, TRAIN_PATH6,TRAIN_PATH1,TRAIN_PATH7))\n",
    "# MASK_PATH = np.concatenate((MASK_PATH8,MASK_PATH2,MASK_PATH3,MASK_PATH4,MASK_PATH5,MASK_PATH6,MASK_PATH1,MASK_PATH7))\n",
    "# train_ids = np.concatenate((train_ids8,train_ids2,train_ids3,train_ids4,train_ids5,train_ids6,train_ids1,train_ids7))\n",
    "# mask_ids = np.concatenate((mask_ids8,mask_ids2,mask_ids3,mask_ids4,mask_ids5,mask_ids6,mask_ids1,mask_ids7))\n",
    "\n",
    "TRAIN_PATH = np.concatenate((TRAIN_PATH2,TRAIN_PATH5,TRAIN_PATH4,TRAIN_PATH6,TRAIN_PATH1,TRAIN_PATH7,TRAIN_PATH3))\n",
    "MASK_PATH = np.concatenate((MASK_PATH2,MASK_PATH5,MASK_PATH4,MASK_PATH6,MASK_PATH1,MASK_PATH7,MASK_PATH3))\n",
    "train_ids = np.concatenate((train_ids2,train_ids5,train_ids4,train_ids6,train_ids1,train_ids7,train_ids3))\n",
    "mask_ids = np.concatenate((mask_ids2,mask_ids5,mask_ids4,mask_ids6,mask_ids1,mask_ids7,mask_ids3))"
   ]
  },
  {
   "cell_type": "code",
   "execution_count": 36,
   "metadata": {},
   "outputs": [
    {
     "name": "stdout",
     "output_type": "stream",
     "text": [
      "Getting and resizing train images and masks ... \n"
     ]
    },
    {
     "data": {
      "application/vnd.jupyter.widget-view+json": {
       "model_id": "4fa48976598b4732a3c9cb61f0be11c5",
       "version_major": 2,
       "version_minor": 0
      },
      "text/plain": [
       "HBox(children=(IntProgress(value=0, max=7779), HTML(value='')))"
      ]
     },
     "metadata": {},
     "output_type": "display_data"
    },
    {
     "data": {
      "application/vnd.jupyter.widget-view+json": {
       "model_id": "bceacfa06c444968aec63847241e974e",
       "version_major": 2,
       "version_minor": 0
      },
      "text/plain": [
       "HBox(children=(IntProgress(value=0, max=7779), HTML(value='')))"
      ]
     },
     "metadata": {},
     "output_type": "display_data"
    }
   ],
   "source": [
    "# MANUAL PERMUTATION\n",
    "X_train = np.zeros((len(train_ids), IMG_HEIGHT, IMG_WIDTH, IMG_CHANNELS), dtype=np.uint8)\n",
    "Y_train = np.zeros((len(train_ids), IMG_HEIGHT, IMG_WIDTH, 1))\n",
    "DATA = np.zeros((len(train_ids), IMG_HEIGHT, IMG_WIDTH, 4))\n",
    "print('Getting and resizing train images and masks ... ')\n",
    "sys.stdout.flush()\n",
    "g = list(range(0,len(train_ids)))\n",
    "np.random.shuffle(g)\n",
    "\n",
    "strs_original = [\"\" for x in range(len(train_ids))]\n",
    "strs_mask = [\"\" for x in range(len(train_ids))]\n",
    "pathmsk = MASK_PATH[0] + mask_ids[0]\n",
    "for n, id_ in tqdm(enumerate(train_ids), total=len(train_ids)):\n",
    "    strs_mask[n] = MASK_PATH[n] + mask_ids[n]\n",
    "    strs_original[n] = TRAIN_PATH[n] + train_ids[n]\n",
    "    \n",
    "for n, id_ in tqdm(enumerate(train_ids), total=len(train_ids)):\n",
    "    path = strs_original[g[n]]\n",
    "    img = imread(path)[:,:,:IMG_CHANNELS]\n",
    "    img = resize(img, (IMG_HEIGHT, IMG_WIDTH), mode='constant', preserve_range=True)\n",
    "    X_train[n] = img\n",
    "    \n",
    "    path = strs_mask[g[n]]\n",
    "    img = imread(path)\n",
    "    if img.ndim == 3:\n",
    "        img = img[:,:,1]\n",
    "    img = np.expand_dims(resize(img, (IMG_HEIGHT, IMG_WIDTH), mode='constant', \n",
    "                                      preserve_range=True), axis=-1)\n",
    "    if (np.unique(img).size) > 2:\n",
    "        img = img > 30     # Important, Needed to make labels 0's and 1's only   \n",
    "    else:\n",
    "        img = img > 0\n",
    "    Y_train[n] = img      "
   ]
  },
  {
   "cell_type": "code",
   "execution_count": 37,
   "metadata": {},
   "outputs": [
    {
     "name": "stdout",
     "output_type": "stream",
     "text": [
      "Getting and resizing train images and masks ... \n"
     ]
    },
    {
     "data": {
      "application/vnd.jupyter.widget-view+json": {
       "model_id": "c991dbaf23b049a3830c494613817457",
       "version_major": 2,
       "version_minor": 0
      },
      "text/plain": [
       "HBox(children=(IntProgress(value=0, max=756), HTML(value='')))"
      ]
     },
     "metadata": {},
     "output_type": "display_data"
    },
    {
     "data": {
      "application/vnd.jupyter.widget-view+json": {
       "model_id": "af9f8fce76f846a79fbcf13c7619898d",
       "version_major": 2,
       "version_minor": 0
      },
      "text/plain": [
       "HBox(children=(IntProgress(value=0, max=756), HTML(value='')))"
      ]
     },
     "metadata": {},
     "output_type": "display_data"
    }
   ],
   "source": [
    "TRAIN_PATH8 = ['/home/lalzogbi/Documents/Skin_Datasets/allabdomen/train/skin_train2019/']\n",
    "MASK_PATH8 = ['/home/lalzogbi/Documents/Skin_Datasets/allabdomen/train/annotations/']\n",
    "train_ids8 = next(os.walk(TRAIN_PATH8[0]))[2]\n",
    "mask_ids8 = next(os.walk(MASK_PATH8[0]))[2]\n",
    "train_ids8.sort()\n",
    "mask_ids8.sort()\n",
    "# mask_ids8 = mask_id8[:-1]\n",
    "TRAIN_PATH8 = TRAIN_PATH8*len(train_ids8)\n",
    "MASK_PATH8 = MASK_PATH8*len(train_ids8)\n",
    "\n",
    "TRAIN_PATH = TRAIN_PATH8\n",
    "MASK_PATH = MASK_PATH8\n",
    "train_ids = train_ids8\n",
    "mask_ids = mask_ids8\n",
    "\n",
    "# Add abodmen pictures to the beginning\n",
    "X_train1 = np.zeros((len(train_ids), IMG_HEIGHT, IMG_WIDTH, IMG_CHANNELS), dtype=np.uint8)\n",
    "Y_train1 = np.zeros((len(train_ids), IMG_HEIGHT, IMG_WIDTH, 1))\n",
    "print('Getting and resizing train images and masks ... ')\n",
    "sys.stdout.flush()\n",
    "for n, id_ in tqdm(enumerate(train_ids), total=len(train_ids)):\n",
    "    path = TRAIN_PATH[n] + train_ids[n]\n",
    "    img = imread(path)[:,:,:IMG_CHANNELS]\n",
    "    img = resize(img, (IMG_HEIGHT, IMG_WIDTH), mode='constant', preserve_range=True)\n",
    "    X_train1[n] = img\n",
    "\n",
    "for n, id_ in tqdm(enumerate(mask_ids), total=len(mask_ids)):\n",
    "    path = MASK_PATH[n] + mask_ids[n]\n",
    "    img = imread(path)\n",
    "    if img.ndim == 3:\n",
    "        img = img[:,:,1]\n",
    "    img = np.expand_dims(resize(img, (IMG_HEIGHT, IMG_WIDTH), mode='constant', \n",
    "                                      preserve_range=True), axis=-1)\n",
    "    if (np.unique(img).size) > 2:\n",
    "        img = img > 30     # Important, Needed to make labels 0's and 1's only   \n",
    "    else:\n",
    "        img = img > 0\n",
    "    Y_train1[n] = img   \n",
    "    \n",
    "X_train = np.concatenate((X_train1,X_train),axis=0)\n",
    "Y_train = np.concatenate((Y_train1,Y_train),axis=0)"
   ]
  },
  {
   "cell_type": "code",
   "execution_count": 43,
   "metadata": {},
   "outputs": [
    {
     "data": {
      "image/png": "[encoded data removed]",
      "text/plain": [
       "<Figure size 432x288 with 1 Axes>"
      ]
     },
     "metadata": {
      "needs_background": "light"
     },
     "output_type": "display_data"
    },
    {
     "data": {
      "image/png": "[encoded data removed]",
      "text/plain": [
       "<Figure size 432x288 with 1 Axes>"
      ]
     },
     "metadata": {
      "needs_background": "light"
     },
     "output_type": "display_data"
    }
   ],
   "source": [
    "# Check if training data looks all right\n",
    "train_ids = np.concatenate((train_ids8,train_ids2,train_ids3,train_ids4,train_ids5,train_ids6,train_ids7,train_ids1))\n",
    "ix = random.randint(0, len(train_ids))\n",
    "imshow(X_train[ix])\n",
    "plt.show()\n",
    "imshow(np.squeeze(Y_train[ix]))\n",
    "plt.show()"
   ]
  },
  {
   "cell_type": "code",
   "execution_count": 48,
   "metadata": {
    "scrolled": true
   },
   "outputs": [],
   "source": [
    "# Build SEGNET model\n",
    "IMG_HEIGHT = 128\n",
    "IMG_WIDTH = 128\n",
    "IMG_CHANNELS = 3\n",
    "n_labels = 2\n",
    "output_mode = \"softmax\"\n",
    "\n",
    "inputs = Input((IMG_HEIGHT, IMG_WIDTH, IMG_CHANNELS))\n",
    "\n",
    "# Encoder\n",
    "\n",
    "conv_1 = Convolution2D(64, (3, 3), kernel_initializer='he_normal', padding=\"same\")(inputs)\n",
    "conv_1 = BatchNormalization()(conv_1)\n",
    "conv_1 = Activation(\"relu\")(conv_1)\n",
    "conv_2 = Convolution2D(64, (3, 3), kernel_initializer='he_normal', padding=\"same\")(conv_1)\n",
    "conv_2 = BatchNormalization()(conv_2)\n",
    "conv_2 = Activation(\"relu\")(conv_2)\n",
    "\n",
    "pool_1 = MaxPooling2D((2, 2))(conv_2)\n",
    "\n",
    "conv_3 = Convolution2D(128, (3, 3), kernel_initializer='he_normal', padding=\"same\")(pool_1)\n",
    "conv_3 = BatchNormalization()(conv_3)\n",
    "conv_3 = Activation(\"relu\")(conv_3)\n",
    "conv_4 = Convolution2D(128, (3, 3), kernel_initializer='he_normal', padding=\"same\")(conv_3)\n",
    "conv_4 = BatchNormalization()(conv_4)\n",
    "conv_4 = Activation(\"relu\")(conv_4)\n",
    "\n",
    "pool_2 = MaxPooling2D((2,2))(conv_4)\n",
    "\n",
    "conv_5 = Convolution2D(256, (3, 3), kernel_initializer='he_normal', padding=\"same\")(pool_2)\n",
    "conv_5 = BatchNormalization()(conv_5)\n",
    "conv_5 = Activation(\"relu\")(conv_5)\n",
    "conv_6 = Convolution2D(256, (3, 3), kernel_initializer='he_normal', padding=\"same\")(conv_5)\n",
    "conv_6 = BatchNormalization()(conv_6)\n",
    "conv_6 = Activation(\"relu\")(conv_6)\n",
    "conv_7 = Convolution2D(256, (3, 3), kernel_initializer='he_normal', padding=\"same\")(conv_6)\n",
    "conv_7 = BatchNormalization()(conv_7)\n",
    "conv_7 = Activation(\"relu\")(conv_7)\n",
    "\n",
    "pool_3 = MaxPooling2D((2,2))(conv_7)\n",
    "\n",
    "conv_8 = Convolution2D(512, (3, 3), kernel_initializer='he_normal', padding=\"same\")(pool_3)\n",
    "conv_8 = BatchNormalization()(conv_8)\n",
    "conv_8 = Activation(\"relu\")(conv_8)\n",
    "conv_9 = Convolution2D(512, (3, 3), kernel_initializer='he_normal', padding=\"same\")(conv_8)\n",
    "conv_9 = BatchNormalization()(conv_9)\n",
    "conv_9 = Activation(\"relu\")(conv_9)\n",
    "conv_10 = Convolution2D(512, (3, 3), kernel_initializer='he_normal', padding=\"same\")(conv_9)\n",
    "conv_10 = BatchNormalization()(conv_10)\n",
    "conv_10 = Activation(\"relu\")(conv_10)\n",
    "\n",
    "pool_4 = MaxPooling2D((2,2))(conv_10)\n",
    "\n",
    "conv_11 = Convolution2D(512, (3, 3), kernel_initializer='he_normal', padding=\"same\")(pool_4)\n",
    "conv_11 = BatchNormalization()(conv_11)\n",
    "conv_11 = Activation(\"relu\")(conv_11)\n",
    "conv_12 = Convolution2D(512, (3, 3), kernel_initializer='he_normal', padding=\"same\")(conv_11)\n",
    "conv_12 = BatchNormalization()(conv_12)\n",
    "conv_12 = Activation(\"relu\")(conv_12)\n",
    "conv_13 = Convolution2D(512, (3, 3), kernel_initializer='he_normal', padding=\"same\")(conv_12)\n",
    "conv_13 = BatchNormalization()(conv_13)\n",
    "conv_13 = Activation(\"relu\")(conv_13)\n",
    "\n",
    "pool_5 = MaxPooling2D((2,2))(conv_13)\n",
    "\n",
    "# Decoder\n",
    "\n",
    "unpool_1 = UpSampling2D((2,2))(pool_5)\n",
    "\n",
    "conv_14 = Convolution2D(512, (3, 3), kernel_initializer='he_normal', padding=\"same\")(unpool_1)\n",
    "conv_14 = BatchNormalization()(conv_14)\n",
    "conv_14 = Activation(\"relu\")(conv_14)\n",
    "conv_15 = Convolution2D(512, (3, 3), kernel_initializer='he_normal', padding=\"same\")(conv_14)\n",
    "conv_15 = BatchNormalization()(conv_15)\n",
    "conv_15 = Activation(\"relu\")(conv_15)\n",
    "conv_16 = Convolution2D(512, (3, 3), kernel_initializer='he_normal', padding=\"same\")(conv_15)\n",
    "conv_16 = BatchNormalization()(conv_16)\n",
    "conv_16 = Activation(\"relu\")(conv_16)\n",
    "\n",
    "unpool_2 = UpSampling2D((2,2))(conv_16)\n",
    "\n",
    "conv_17 = Convolution2D(512, (3, 3), kernel_initializer='he_normal', padding=\"same\")(unpool_2)\n",
    "conv_17 = BatchNormalization()(conv_17)\n",
    "conv_17 = Activation(\"relu\")(conv_17)\n",
    "conv_18 = Convolution2D(512, (3, 3), kernel_initializer='he_normal', padding=\"same\")(conv_17)\n",
    "conv_18 = BatchNormalization()(conv_18)\n",
    "conv_18 = Activation(\"relu\")(conv_18)\n",
    "conv_19 = Convolution2D(256, (3, 3), kernel_initializer='he_normal', padding=\"same\")(conv_18)\n",
    "conv_19 = BatchNormalization()(conv_19)\n",
    "conv_19 = Activation(\"relu\")(conv_19)\n",
    "\n",
    "unpool_3 = UpSampling2D((2,2))(conv_19)\n",
    "\n",
    "conv_20 = Convolution2D(256, (3, 3), kernel_initializer='he_normal', padding=\"same\")(unpool_3)\n",
    "conv_20 = BatchNormalization()(conv_20)\n",
    "conv_20 = Activation(\"relu\")(conv_20)\n",
    "conv_21 = Convolution2D(256, (3, 3), kernel_initializer='he_normal', padding=\"same\")(conv_20)\n",
    "conv_21 = BatchNormalization()(conv_21)\n",
    "conv_21 = Activation(\"relu\")(conv_21)\n",
    "conv_22 = Convolution2D(128, (3, 3), kernel_initializer='he_normal', padding=\"same\")(conv_21)\n",
    "conv_22 = BatchNormalization()(conv_22)\n",
    "conv_22 = Activation(\"relu\")(conv_22)\n",
    "\n",
    "unpool_4 = UpSampling2D((2,2))(conv_22)\n",
    "\n",
    "conv_23 = Convolution2D(128, (3, 3), kernel_initializer='he_normal', padding=\"same\")(unpool_4)\n",
    "conv_23 = BatchNormalization()(conv_23)\n",
    "conv_23 = Activation(\"relu\")(conv_23)\n",
    "conv_24 = Convolution2D(64, (3, 3), kernel_initializer='he_normal', padding=\"same\")(conv_23)\n",
    "conv_24 = BatchNormalization()(conv_24)\n",
    "conv_24 = Activation(\"relu\")(conv_24)\n",
    "\n",
    "unpool_5 = UpSampling2D((2,2))(conv_24)\n",
    "\n",
    "conv_25 = Convolution2D(64, (3, 3), kernel_initializer='he_normal', padding=\"same\")(unpool_5)\n",
    "conv_25 = BatchNormalization()(conv_25)\n",
    "conv_25 = Activation(\"relu\")(conv_25)\n",
    "\n",
    "conv_26 = Convolution2D(1, (1, 1), kernel_initializer='he_normal', padding=\"valid\")(conv_25)\n",
    "conv_26 = BatchNormalization()(conv_26)\n",
    "# conv_26 = Reshape((128*128, 2), input_shape=(128, 128, 2))(conv_26)\n",
    "outputs = Activation(\"softmax\")(conv_26)\n",
    "\n",
    "model = Model(inputs = [inputs], outputs = [outputs])\n",
    "model.compile(optimizer='adam', loss='binary_crossentropy', metrics=['acc'])"
   ]
  },
  {
   "cell_type": "code",
   "execution_count": null,
   "metadata": {},
   "outputs": [
    {
     "name": "stdout",
     "output_type": "stream",
     "text": [
      "Train on 6828 samples, validate on 1707 samples\n",
      "Epoch 1/50\n",
      "1152/6828 [====>.........................] - ETA: 31:36 - loss: 753.8263 - acc: 0.2612"
     ]
    }
   ],
   "source": [
    "# Fit model\n",
    "earlystopper = EarlyStopping(patience=30, verbose=1)\n",
    "checkpointer = ModelCheckpoint('model-segnet-21Mar2019.h5', verbose=1, save_best_only=True)\n",
    "results = model.fit(X_train, Y_train, validation_split=0.20, batch_size=64, epochs=50, shuffle=True, \n",
    "                    callbacks=[earlystopper, checkpointer, cb])"
   ]
  },
  {
   "cell_type": "code",
   "execution_count": null,
   "metadata": {},
   "outputs": [],
   "source": []
  }
 ],
 "metadata": {
  "kernelspec": {
   "display_name": "my_env",
   "language": "python",
   "name": "my_env"
  },
  "language_info": {
   "codemirror_mode": {
    "name": "ipython",
    "version": 3
   },
   "file_extension": ".py",
   "mimetype": "text/x-python",
   "name": "python",
   "nbconvert_exporter": "python",
   "pygments_lexer": "ipython3",
   "version": "3.5.2"
  }
 },
 "nbformat": 4,
 "nbformat_minor": 2
}
