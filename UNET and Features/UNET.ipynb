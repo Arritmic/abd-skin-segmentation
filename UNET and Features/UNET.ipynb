{
 "cells": [
  {
   "cell_type": "code",
   "execution_count": 2,
   "metadata": {},
   "outputs": [
    {
     "name": "stderr",
     "output_type": "stream",
     "text": [
      "Using TensorFlow backend.\n"
     ]
    }
   ],
   "source": [
    "import os\n",
    "import sys\n",
    "import time\n",
    "import random\n",
    "import warnings\n",
    "\n",
    "import cv2 as cv\n",
    "import numpy as np\n",
    "import matplotlib.pyplot as plt\n",
    "from tqdm import tqdm_notebook as tqdm\n",
    "from skimage.io import imread, imshow\n",
    "from skimage.transform import resize\n",
    "\n",
    "import tensorflow as tf\n",
    "from keras.models import Model, load_model\n",
    "from keras.layers import Input\n",
    "from keras.layers.core import Dropout, Lambda\n",
    "from keras.layers.convolutional import Conv2D, Conv2DTranspose\n",
    "from keras.layers.pooling import MaxPooling2D\n",
    "from keras.layers.merge import concatenate\n",
    "from keras.callbacks import EarlyStopping, ModelCheckpoint, Callback\n",
    "from keras import backend as K\n",
    "from keras.utils import multi_gpu_model\n",
    "from keras import optimizers\n",
    "from sklearn.metrics import auc # roc curve toolsplt.hold(True)\n",
    "\n",
    "\n",
    "# Specify Image Dimensions\n",
    "IMG_WIDTH = 128\n",
    "IMG_HEIGHT = 128\n",
    "IMG_CHANNELS = 3\n",
    "\n",
    "warnings.filterwarnings('ignore', category=UserWarning, module='skimage')\n",
    "seed = 42\n",
    "random.seed = seed"
   ]
  },
  {
   "cell_type": "markdown",
   "metadata": {},
   "source": [
    "Function for computing the masks' pixel-to-pixel accuracy, takes as input 2D masks and 2D predictions\n",
    "(Label 1 corresponds to skin, and 0 to non-skin)"
   ]
  },
  {
   "cell_type": "markdown",
   "metadata": {},
   "source": [
    "Class for extracting time elapsed per training epoch"
   ]
  },
  {
   "cell_type": "code",
   "execution_count": 3,
   "metadata": {},
   "outputs": [],
   "source": [
    "class TimingCallback(Callback):\n",
    "    def on_train_begin(self, logs={}):\n",
    "        self.times = []\n",
    "\n",
    "    def on_epoch_begin(self, batch, logs={}):\n",
    "        self.epoch_time_start = time.time()\n",
    "\n",
    "    def on_epoch_end(self, batch, logs={}):\n",
    "        self.times.append(time.time() - self.epoch_time_start)\n",
    "\n",
    "cb = TimingCallback()"
   ]
  },
  {
   "cell_type": "markdown",
   "metadata": {},
   "source": [
    "Intersection-over-Union (IoU) metric, can be tracked instead of the accuracy during training"
   ]
  },
  {
   "cell_type": "code",
   "execution_count": 4,
   "metadata": {},
   "outputs": [],
   "source": [
    "def mean_iou(y_true, y_pred):\n",
    "    prec = []\n",
    "    for t in np.arange(0.5, 1.0, 0.05):\n",
    "        y_pred_ = tf.to_int32(y_pred > t)\n",
    "        score, up_opt = tf.metrics.mean_iou(y_true, y_pred_, 2)\n",
    "        K.get_session().run(tf.local_variables_initializer())\n",
    "        with tf.control_dependencies([up_opt]):\n",
    "            score = tf.identity(score)\n",
    "        prec.append(score)\n",
    "    return K.mean(K.stack(prec), axis=0)"
   ]
  },
  {
   "cell_type": "markdown",
   "metadata": {},
   "source": [
    "A) Get the training data (original images + masks). The images and masks must have the same labelling. Add the original images' path to TRAIN_PATH, and the masks' path to MASK_PATH. "
   ]
  },
  {
   "cell_type": "code",
   "execution_count": 5,
   "metadata": {},
   "outputs": [],
   "source": [
    "# # #Dataset 1: HGR\n",
    "# # TRAIN_PATH1 = ['../Input/Skin_Datasets/Dataset1_HGR/original_images/']\n",
    "# # MASK_PATH1 = ['../Input/Skin_Datasets/Dataset1_HGR/skin_masks/']\n",
    "# # train_ids1 = next(os.walk(TRAIN_PATH1[0]))[2]\n",
    "# # mask_ids1 = next(os.walk(MASK_PATH1[0]))[2]\n",
    "# # train_ids1.sort()\n",
    "# # mask_ids1.sort()\n",
    "# # TRAIN_PATH1 = TRAIN_PATH1*len(train_ids1)\n",
    "# # MASK_PATH1 = MASK_PATH1*len(train_ids1)\n",
    "\n",
    "# # # Dataset 2: TDSD\n",
    "# # TRAIN_PATH5 = ['../Input/Skin_Datasets/Dataset2_TDSD/original_images/']\n",
    "# # MASK_PATH5 = ['../Input/Skin_Datasets/Dataset2_TDSD/skin_masks/']\n",
    "# # train_ids5 = next(os.walk(TRAIN_PATH5[0]))[2]\n",
    "# # mask_ids5 = next(os.walk(MASK_PATH5[0]))[2]\n",
    "# # train_ids5.sort()\n",
    "# # mask_ids5.sort()\n",
    "# # TRAIN_PATH5 = TRAIN_PATH5*len(train_ids5)\n",
    "# # MASK_PATH5 = MASK_PATH5*len(train_ids5)\n",
    "\n",
    "# # # Dataset 3: Schmugge\n",
    "# # TRAIN_PATH6 = ['../Input/Skin_Datasets/Dataset3_Schmugge/original_images/']\n",
    "# # MASK_PATH6 = ['../Input/Skin_Datasets/Dataset3_Schmugge/skin_masks/']\n",
    "# # train_ids6 = next(os.walk(TRAIN_PATH6[0]))[2]\n",
    "# # mask_ids6 = next(os.walk(MASK_PATH6[0]))[2]\n",
    "# # train_ids6.sort()\n",
    "# # mask_ids6.sort()\n",
    "# # TRAIN_PATH6 = TRAIN_PATH6*len(train_ids6)\n",
    "# # MASK_PATH6 = MASK_PATH6*len(train_ids6)\n",
    "\n",
    "# # # # Dataset 4: Pratheepan\n",
    "# # # TRAIN_PATH2 = ['../Input/Skin_Datasets/Dataset4_Pratheepan/original_images/']\n",
    "# # # MASK_PATH2 = ['../Input/Skin_Datasets/Dataset4_Pratheepan/skin_masks/']\n",
    "# # # train_ids2 = next(os.walk(TRAIN_PATH2[0]))[2]\n",
    "# # # mask_ids2 = next(os.walk(MASK_PATH2[0]))[2]\n",
    "# # # train_ids2.sort()\n",
    "# # # mask_ids2.sort()\n",
    "# # # TRAIN_PATH2 = TRAIN_PATH2*len(train_ids2)\n",
    "# # # MASK_PATH2 = MASK_PATH2*len(train_ids2)\n",
    "\n",
    "# # # Dataset 5: VDM\n",
    "# # TRAIN_PATH3 = ['../Input/Skin_Datasets/Dataset5_VDM/original_images/']\n",
    "# # MASK_PATH3 = ['../Input/Skin_Datasets/Dataset5_VDM/skin_masks/']\n",
    "# # train_id3 = next(os.walk(TRAIN_PATH3[0]))[2]\n",
    "# # mask_id3 = next(os.walk(MASK_PATH3[0]))[2]\n",
    "# # train_id3.sort()\n",
    "# # mask_id3.sort()\n",
    "# # train_ids3 = train_id3[1:]\n",
    "# # mask_ids3 = mask_id3[1:]\n",
    "# # TRAIN_PATH3 = TRAIN_PATH3*len(train_ids3)\n",
    "# # MASK_PATH3 = MASK_PATH3*len(train_ids3)\n",
    "\n",
    "# # # Dataset 6: SFA\n",
    "# # TRAIN_PATH4 = ['../Input/Skin_Datasets/Dataset6_SFA/original_images/']\n",
    "# # MASK_PATH4 = ['../Input/Skin_Datasets/Dataset6_SFA/skin_masks/']\n",
    "# # train_ids4 = next(os.walk(TRAIN_PATH4[0]))[2]\n",
    "# # mask_ids4 = next(os.walk(MASK_PATH4[0]))[2]\n",
    "# # train_ids4.sort()\n",
    "# # mask_ids4.sort()\n",
    "# # TRAIN_PATH4 = TRAIN_PATH4*len(train_ids4)\n",
    "# # MASK_PATH4 = MASK_PATH4*len(train_ids4)\n",
    "\n",
    "# # # Dataset 7: FSD\n",
    "# # TRAIN_PATH7 = ['../Input/Skin_Datasets/Dataset7_FSD/original_images/']\n",
    "# # MASK_PATH7 = ['../Input/Skin_Datasets/Dataset7_FSD/skin_masks/']\n",
    "# # train_ids7 = next(os.walk(TRAIN_PATH7[0]))[2]\n",
    "# # mask_ids7 = next(os.walk(MASK_PATH7[0]))[2]\n",
    "# # train_ids7.sort()\n",
    "# # mask_ids7.sort()\n",
    "# # TRAIN_PATH7 = TRAIN_PATH7*len(train_ids7)\n",
    "# # MASK_PATH7 = MASK_PATH7*len(train_ids7)\n",
    "\n",
    "# # # ## Dataset 8: ABDOMEN\n",
    "# # # TRAIN_PATH8 = ['../Input/Skin_Datasets/Dataset8_Abdomen/train/skin_train2019/']\n",
    "# # # MASK_PATH8 = ['../Input/Skin_Datasets/Dataset8_Abdomen/train/annotations/']\n",
    "# # # train_ids8 = next(os.walk(TRAIN_PATH8[0]))[2]\n",
    "# # # mask_ids8 = next(os.walk(MASK_PATH8[0]))[2]\n",
    "# # # train_ids8.sort()\n",
    "# # # mask_ids8.sort()\n",
    "\n",
    "# # # TRAIN_PATH8 = TRAIN_PATH8*len(train_ids8)\n",
    "# # # MASK_PATH8 = MASK_PATH8*len(train_ids8)\n",
    "\n",
    "# # ## Dataset 8: ABDOMEN_New\n",
    "# TRAIN_PATH9 = ['../Input/Skin_Datasets/Dataset_NEW/original_images/']\n",
    "# MASK_PATH9 = ['../Input/Skin_Datasets/Dataset_NEW/skin_masks/']\n",
    "# train_ids9 = next(os.walk(TRAIN_PATH9[0]))[2]\n",
    "# mask_ids9 = next(os.walk(MASK_PATH9[0]))[2]\n",
    "# train_ids9.sort()\n",
    "# mask_ids9.sort()\n",
    "\n",
    "# TRAIN_PATH9 = TRAIN_PATH9*len(train_ids9)\n",
    "# MASK_PATH9 = MASK_PATH9*len(train_ids9)\n",
    "\n",
    "# # TRAIN_PATH2,MASK_PATH2,train_ids2,mask_ids2\n",
    "# # Combine everything\n",
    "# # TRAIN_PATH = np.concatenate((TRAIN_PATH1,TRAIN_PATH3,TRAIN_PATH4,TRAIN_PATH5, TRAIN_PATH6,TRAIN_PATH7)) #,TRAIN_PATH9\n",
    "# # MASK_PATH = np.concatenate((MASK_PATH1,MASK_PATH3,MASK_PATH4,MASK_PATH5,MASK_PATH6,MASK_PATH7))#,MASK_PATH9\n",
    "# # train_ids = np.concatenate((train_ids1,train_ids3,train_ids4,train_ids5,train_ids6,train_ids7)) #,train_ids9\n",
    "# # mask_ids = np.concatenate((mask_ids1,mask_ids3,mask_ids4,mask_ids5,mask_ids6,mask_ids7)) # ,mask_ids9\n",
    "\n",
    "# TRAIN_PATH = TRAIN_PATH9\n",
    "# MASK_PATH = MASK_PATH9\n",
    "# train_ids = train_ids9\n",
    "# mask_ids = mask_ids9"
   ]
  },
  {
   "cell_type": "markdown",
   "metadata": {},
   "source": [
    "### B) Shuffle the data and resize"
   ]
  },
  {
   "cell_type": "code",
   "execution_count": 6,
   "metadata": {
    "scrolled": false
   },
   "outputs": [],
   "source": [
    "# X_train = np.zeros((len(train_ids), IMG_HEIGHT, IMG_WIDTH, IMG_CHANNELS), dtype=np.uint8)\n",
    "# Y_train = np.zeros((len(train_ids), IMG_HEIGHT, IMG_WIDTH, 1))\n",
    "# print('Getting and resizing train images and masks ... ')\n",
    "# sys.stdout.flush()\n",
    "# g = list(range(0,len(train_ids)))\n",
    "# np.random.shuffle(g)\n",
    "\n",
    "# strs_original = [\"\" for x in range(len(train_ids))]\n",
    "# strs_mask = [\"\" for x in range(len(train_ids))]\n",
    "# pathmsk = MASK_PATH[0] + mask_ids[0]\n",
    "# for n, id_ in tqdm(enumerate(train_ids), total=len(train_ids)):\n",
    "#     strs_mask[n] = MASK_PATH[n] + mask_ids[n]\n",
    "#     strs_original[n] = TRAIN_PATH[n] + train_ids[n]\n",
    "    \n",
    "# for n, id_ in tqdm(enumerate(train_ids), total=len(train_ids)):\n",
    "#     path = strs_original[g[n]]\n",
    "#     img = imread(path)[:,:,:IMG_CHANNELS]\n",
    "#     img = resize(img, (IMG_HEIGHT, IMG_WIDTH), mode='constant', preserve_range=True)\n",
    "#     X_train[n] = img\n",
    "    \n",
    "#     path = strs_mask[g[n]]\n",
    "# #     print(path)\n",
    "#     img = imread(path)\n",
    "#     if img.ndim == 3:\n",
    "#         img = img[:,:,1]\n",
    "#     img = np.expand_dims(resize(img, (IMG_HEIGHT, IMG_WIDTH), mode='constant', \n",
    "#                                       preserve_range=True), axis=-1)\n",
    "#     if (np.unique(img).size) > 2:\n",
    "#         img = img > 30     # Important, needed to make labels 0's and 1's only \n",
    "#     else:\n",
    "#         img = img > 0\n",
    "#     Y_train[n] = img      "
   ]
  },
  {
   "cell_type": "markdown",
   "metadata": {},
   "source": [
    "### To Avoid running the above two block again you can simply save the np arrays for convience by running the block below"
   ]
  },
  {
   "cell_type": "code",
   "execution_count": 7,
   "metadata": {},
   "outputs": [],
   "source": [
    "# np.save(\"X_train_onlyabdomen\",X_train)\n",
    "# np.save(\"Y_train_onlyabdomen\",Y_train)"
   ]
  },
  {
   "cell_type": "code",
   "execution_count": 8,
   "metadata": {},
   "outputs": [],
   "source": [
    "# X_train = np.load('./X_data_abdomen_new.npy')\n",
    "# Y_train = np.load('./Y_data_abdomen_new.npy')"
   ]
  },
  {
   "cell_type": "code",
   "execution_count": 9,
   "metadata": {},
   "outputs": [],
   "source": [
    "X_train = np.load('./X_train_final.npy')\n",
    "Y_train = np.load('./Y_train_final.npy')"
   ]
  },
  {
   "cell_type": "code",
   "execution_count": 10,
   "metadata": {},
   "outputs": [],
   "source": [
    "# X_train = np.load('./X_train_withoutabdomen.npy')\n",
    "# Y_train = np.load('./Y_train_withoutabdomen.npy')"
   ]
  },
  {
   "cell_type": "markdown",
   "metadata": {},
   "source": [
    "C) Make sure the masks correspond to the original images"
   ]
  },
  {
   "cell_type": "code",
   "execution_count": 11,
   "metadata": {
    "scrolled": true
   },
   "outputs": [
    {
     "data": {
      "image/png": "[encoded data removed]",
      "text/plain": [
       "<Figure size 432x288 with 1 Axes>"
      ]
     },
     "metadata": {
      "needs_background": "light"
     },
     "output_type": "display_data"
    },
    {
     "data": {
      "image/png": "[encoded data removed]",
      "text/plain": [
       "<Figure size 432x288 with 2 Axes>"
      ]
     },
     "metadata": {
      "needs_background": "light"
     },
     "output_type": "display_data"
    }
   ],
   "source": [
    "ix = random.randint(0, len(X_train))\n",
    "imshow(X_train[ix])\n",
    "plt.show()\n",
    "imshow(np.squeeze(Y_train[ix]))\n",
    "plt.show()"
   ]
  },
  {
   "cell_type": "markdown",
   "metadata": {},
   "source": [
    "D) Construct the UNET model"
   ]
  },
  {
   "cell_type": "code",
   "execution_count": 11,
   "metadata": {},
   "outputs": [
    {
     "name": "stdout",
     "output_type": "stream",
     "text": [
      "WARNING:tensorflow:From /home/anirudh/.myenv/lib/python3.5/site-packages/tensorflow/python/framework/op_def_library.py:263: colocate_with (from tensorflow.python.framework.ops) is deprecated and will be removed in a future version.\n",
      "Instructions for updating:\n",
      "Colocations handled automatically by placer.\n",
      "WARNING:tensorflow:From /home/anirudh/.myenv/lib/python3.5/site-packages/keras/backend/tensorflow_backend.py:3445: calling dropout (from tensorflow.python.ops.nn_ops) with keep_prob is deprecated and will be removed in a future version.\n",
      "Instructions for updating:\n",
      "Please use `rate` instead of `keep_prob`. Rate should be set to `rate = 1 - keep_prob`.\n"
     ]
    }
   ],
   "source": [
    "inputs = Input((IMG_HEIGHT, IMG_WIDTH, IMG_CHANNELS))\n",
    "s = Lambda(lambda x: x/255) (inputs)\n",
    "\n",
    "c1 = Conv2D(16, (3, 3), activation='relu', kernel_initializer='he_normal', padding='same') (s)\n",
    "c1 = Dropout(0.1) (c1)\n",
    "c1 = Conv2D(16, (3, 3), activation='relu', kernel_initializer='he_normal', padding='same') (c1)\n",
    "p1 = MaxPooling2D((2, 2)) (c1)\n",
    "\n",
    "c2 = Conv2D(32, (3, 3), activation='relu', kernel_initializer='he_normal', padding='same') (p1)\n",
    "c2 = Dropout(0.1) (c2)\n",
    "c2 = Conv2D(32, (3, 3), activation='relu', kernel_initializer='he_normal', padding='same') (c2)\n",
    "p2 = MaxPooling2D((2, 2)) (c2)\n",
    "\n",
    "c3 = Conv2D(64, (3, 3), activation='relu', kernel_initializer='he_normal', padding='same') (p2)\n",
    "c3 = Dropout(0.2) (c3)\n",
    "c3 = Conv2D(64, (3, 3), activation='relu', kernel_initializer='he_normal', padding='same') (c3)\n",
    "p3 = MaxPooling2D((2, 2)) (c3)\n",
    "\n",
    "c4 = Conv2D(128, (3, 3), activation='relu', kernel_initializer='he_normal', padding='same') (p3)\n",
    "c4 = Dropout(0.2) (c4)\n",
    "c4 = Conv2D(128, (3, 3), activation='relu', kernel_initializer='he_normal', padding='same') (c4)\n",
    "p4 = MaxPooling2D(pool_size=(2, 2)) (c4)\n",
    "\n",
    "c5 = Conv2D(128, (3, 3), activation='relu', kernel_initializer='he_normal', padding='same') (p4)\n",
    "c5 = Dropout(0.2) (c5)\n",
    "c5 = Conv2D(128, (3, 3), activation='relu', kernel_initializer='he_normal', padding='same') (c5)\n",
    "p5 = MaxPooling2D(pool_size=(2, 2)) (c5)\n",
    "\n",
    "c6 = Conv2D(256, (3, 3), activation='relu', kernel_initializer='he_normal', padding='same') (p5)\n",
    "c6 = Dropout(0.3) (c6)\n",
    "c6 = Conv2D(256, (3, 3), activation='relu', kernel_initializer='he_normal', padding='same') (c6)\n",
    "\n",
    "u7 = Conv2DTranspose(128, (2, 2), strides=(2, 2), padding='same') (c6)\n",
    "u7 = concatenate([u7, c5])\n",
    "c7 = Conv2D(128, (3, 3), activation='relu', kernel_initializer='he_normal', padding='same') (u7)\n",
    "c7 = Dropout(0.2) (c7)\n",
    "c7 = Conv2D(128, (3, 3), activation='relu', kernel_initializer='he_normal', padding='same') (c7)\n",
    "\n",
    "u8 = Conv2DTranspose(64, (2, 2), strides=(2, 2), padding='same') (c7)\n",
    "u8 = concatenate([u8, c4])\n",
    "c8 = Conv2D(64, (3, 3), activation='relu', kernel_initializer='he_normal', padding='same') (u8)\n",
    "c8 = Dropout(0.2) (c8)\n",
    "c8 = Conv2D(64, (3, 3), activation='relu', kernel_initializer='he_normal', padding='same') (c8)\n",
    "\n",
    "u9 = Conv2DTranspose(32, (2, 2), strides=(2, 2), padding='same') (c8)\n",
    "u9 = concatenate([u9, c3])\n",
    "c9 = Conv2D(32, (3, 3), activation='relu', kernel_initializer='he_normal', padding='same') (u9)\n",
    "c9 = Dropout(0.1) (c9)\n",
    "c9 = Conv2D(32, (3, 3), activation='relu', kernel_initializer='he_normal', padding='same') (c9)\n",
    "\n",
    "u10 = Conv2DTranspose(16, (2, 2), strides=(2, 2), padding='same') (c9)\n",
    "u10 = concatenate([u10, c2], axis=3)\n",
    "c10 = Conv2D(16, (3, 3), activation='relu', kernel_initializer='he_normal', padding='same') (u10)\n",
    "c10 = Dropout(0.1) (c10)\n",
    "c10 = Conv2D(16, (3, 3), activation='relu', kernel_initializer='he_normal', padding='same') (c10)\n",
    "\n",
    "u11 = Conv2DTranspose(16, (2, 2), strides=(2, 2), padding='same') (c10)\n",
    "u11 = concatenate([u11, c1], axis=3)\n",
    "c11 = Conv2D(16, (3, 3), activation='relu', kernel_initializer='he_normal', padding='same') (u11)\n",
    "c11 = Dropout(0.1) (c11)\n",
    "c11 = Conv2D(16, (3, 3), activation='relu', kernel_initializer='he_normal', padding='same') (c11)\n",
    "\n",
    "outputs = Conv2D(1, (1, 1), activation='sigmoid') (c11)\n",
    "\n",
    "model = Model(inputs=[inputs], outputs=[outputs])\n",
    "model = multi_gpu_model(model, gpus=4)\n",
    "optimize = optimizers.Adam(lr = 0.001,epsilon = 1e-8)\n",
    "model.compile(optimizer=optimize, loss='binary_crossentropy', metrics=['acc'])"
   ]
  },
  {
   "cell_type": "markdown",
   "metadata": {},
   "source": [
    "E) Fit the model to the training data"
   ]
  },
  {
   "cell_type": "code",
   "execution_count": null,
   "metadata": {
    "scrolled": true
   },
   "outputs": [],
   "source": [
    "earlystopper = EarlyStopping(patience=30, verbose=1)\n",
    "checkpointer = ModelCheckpoint('withabdomen.h5', verbose=1, save_best_only=True)\n",
    "results = model.fit(X_train, Y_train, validation_split=0.20, batch_size=64, epochs=208, shuffle=True, \n",
    "                    callbacks=[earlystopper, checkpointer, cb])"
   ]
  },
  {
   "cell_type": "code",
   "execution_count": null,
   "metadata": {},
   "outputs": [],
   "source": [
    "a =results.history['val_acc']\n",
    "b = results.history['val_loss']"
   ]
  },
  {
   "cell_type": "markdown",
   "metadata": {},
   "source": [
    "F) Output training results"
   ]
  },
  {
   "cell_type": "code",
   "execution_count": null,
   "metadata": {},
   "outputs": [],
   "source": [
    "# Summarize history for loss\n",
    "plt.plot(results.history['loss'])\n",
    "plt.plot(results.history['val_loss'])\n",
    "plt.title('val loss min at '+ str(b.index(min(b)))+' : ' + str(min(b)))\n",
    "plt.ylabel('loss')\n",
    "plt.xlabel('epoch')\n",
    "plt.legend(['train', 'test'], loc='upper left')\n",
    "plt.show()\n",
    "\n",
    "# Summarize history for mean_iou\n",
    "plt.plot(results.history['acc'])\n",
    "plt.plot(results.history['val_acc'])\n",
    "plt.title('val accuracy max at '+ str(a.index(max(a)))+' : ' + str(max(a)))\n",
    "plt.ylabel('accuracy')\n",
    "plt.xlabel('epoch')\n",
    "plt.legend(['train', 'test'], loc='upper left')\n",
    "plt.show()\n",
    "\n",
    "# Results and Plots\n",
    "# model.summary()\n",
    "# print(\"UNET ARCHITECTURE\")\n",
    "# print (\"-------------------------------------------------------------\")\n",
    "# print(\"Total num of training images: %d\" % len(train_ids))\n",
    "# print(\"Max num of epochs: %d\" % 50)\n",
    "# print(\"Optimizer: %s\" % 'ADAM')\n",
    "# print(\"Batch size: %d\" % 64)\n",
    "# print(\"Loss function: %s\" % 'Binary Cross-Entropy')\n",
    "# print(\"Validation data percentage: %d\" % 10)\n",
    "# # print(\"Early stoppping: %s\" % 'Yes')\n",
    "\n",
    "# a = results.history[\"acc\"]\n",
    "# b = results.history[\"loss\"]\n",
    "# c = results.history[\"val_acc\"]\n",
    "# d = results.history[\"val_loss\"]\n",
    "# e = cb.times\n",
    "# print (\"-------------------------------------------------------------\")\n",
    "# header = \"#\"+\"    \"+\"Time sec\"+\"      \"+\"Tr_acc\"+\"     \"+\"Tr_loss\"+\"      \"+\"Vl_acc\"+\"     \"+\"Vl_loss\"\n",
    "# print(header)\n",
    "# print (\"-------------------------------------------------------------\")\n",
    "# for l in range(ep):\n",
    "#     str = \"%d\\t\\t%f\\t\\t%f\\t\\t%f\\t\\t%f\\t\\t%f\" % (l, round(e[l],4),round(a[l],4),round(b[l],4),round(c[l],4),d[l])\n",
    "#     print (str.expandtabs(2))\n",
    "# print (\"-------------------------------------------------------------\")"
   ]
  },
  {
   "cell_type": "markdown",
   "metadata": {},
   "source": [
    "G) Test against training and validation samples"
   ]
  },
  {
   "cell_type": "code",
   "execution_count": null,
   "metadata": {
    "scrolled": true
   },
   "outputs": [],
   "source": [
    "model = load_model('trainingonlr0.001.h5', custom_objects={'mean_iou': mean_iou})\n",
    "preds_train = model.predict(X_train[:int(X_train.shape[0]*0.8)], verbose=1)\n",
    "preds_val = model.predict(X_train[int(X_train.shape[0]*0.8):], verbose=1)\n",
    "\n",
    "preds_train_t = (preds_train > 0.5).astype(np.uint8)\n",
    "preds_val_t = (preds_val > 0.5).astype(np.uint8)"
   ]
  },
  {
   "cell_type": "markdown",
   "metadata": {},
   "source": [
    "H) See predicted masks for training samples"
   ]
  },
  {
   "cell_type": "code",
   "execution_count": null,
   "metadata": {
    "scrolled": false
   },
   "outputs": [],
   "source": [
    "ix = random.randint(0, len(preds_train_t))\n",
    "imshow(X_train[ix])\n",
    "plt.show()\n",
    "imshow(np.squeeze(Y_train[ix]))\n",
    "plt.show()\n",
    "imshow(np.squeeze(preds_train_t[ix]))\n",
    "plt.show()"
   ]
  },
  {
   "cell_type": "markdown",
   "metadata": {},
   "source": [
    "I) See predicted masks for validation data"
   ]
  },
  {
   "cell_type": "code",
   "execution_count": null,
   "metadata": {},
   "outputs": [],
   "source": [
    "ix = random.randint(0, len(preds_val_t))\n",
    "imshow(X_train[int(X_train.shape[0]*0.7):][ix])\n",
    "plt.show()\n",
    "imshow(np.squeeze(Y_train[int(Y_train.shape[0]*0.7):][ix]))\n",
    "plt.show()\n",
    "imshow(np.squeeze(preds_val_t[ix]))\n",
    "plt.show()"
   ]
  },
  {
   "cell_type": "markdown",
   "metadata": {},
   "source": [
    "## J) Load model, testing data and check against trained network (if masks exist)"
   ]
  },
  {
   "cell_type": "code",
   "execution_count": null,
   "metadata": {},
   "outputs": [],
   "source": [
    "# def acc_comp(msk, preds_test_t):\n",
    "    \n",
    "#     mean_acc = np.zeros(1)\n",
    "#     mean_TP = np.zeros(1)\n",
    "#     mean_TN = np.zeros(1)\n",
    "#     mean_FP = np.zeros(1)\n",
    "#     mean_FN = np.zeros(1)\n",
    "    \n",
    "#     for j in range(msk.shape[0]):\n",
    "#         act = msk[j]\n",
    "#         pr = preds_test_t[j].reshape(IMG_WIDTH, IMG_HEIGHT)\n",
    "    \n",
    "#         c = act == pr \n",
    "#         d = act & pr \n",
    "#         e = act | pr \n",
    "#         neg = act.sum()\n",
    "#         pos = (IMG_WIDTH*IMG_HEIGHT)-act.sum()\n",
    "    \n",
    "#         TP = round(float(d.sum()),6)\n",
    "#         FP = round(float(pr.sum()-d.sum()),6)\n",
    "#         TN = round(float((IMG_WIDTH*IMG_HEIGHT)-e.sum()),6)\n",
    "#         FN = round(float(e.sum()-pr.sum()),6)\n",
    "#         acc = round(float(c.sum())/(IMG_WIDTH*IMG_HEIGHT),6)\n",
    "\n",
    "#         #acc2 = float(TP+TN)/(TP+TN+FP+FN)  Used to double-check computations\n",
    "#         mean_TP = np.append([mean_TP],TP)\n",
    "#         mean_TN = np.append([mean_TN],TN)\n",
    "#         mean_acc = np.append([mean_acc],acc)\n",
    "#         mean_FP = np.append([mean_FP],FP)\n",
    "#         mean_FN = np.append([mean_FN],FN)\n",
    "    \n",
    "#     mean_acc = mean_acc[1:]\n",
    "#     mean_TP = mean_TP[1:]\n",
    "#     mean_TN = mean_TN[1:]\n",
    "#     mean_FP = mean_FP[1:]\n",
    "#     mean_FN = mean_FN[1:]\n",
    "    \n",
    "#     avg = round(mean_acc.sum()/msk.shape[0],6)\n",
    "#     std = round(np.std(mean_acc),6)\n",
    "#     overall_TP = round(mean_TP.sum()/msk.shape[0],6)\n",
    "#     overall_TN = round(mean_TN.sum()/msk.shape[0],6)\n",
    "    \n",
    "#     return (mean_acc,std,mean_TP,mean_TN,mean_FP,mean_FN)"
   ]
  },
  {
   "cell_type": "code",
   "execution_count": 14,
   "metadata": {},
   "outputs": [
    {
     "data": {
      "application/vnd.jupyter.widget-view+json": {
       "model_id": "d634408b9855436ab0695e63460bbcfb",
       "version_major": 2,
       "version_minor": 0
      },
      "text/plain": [
       "HBox(children=(IntProgress(value=0, max=200), HTML(value='')))"
      ]
     },
     "metadata": {},
     "output_type": "display_data"
    },
    {
     "name": "stdout",
     "output_type": "stream",
     "text": [
      "\n"
     ]
    },
    {
     "data": {
      "application/vnd.jupyter.widget-view+json": {
       "model_id": "762d9c166a444d8ca4da444d9549ddc8",
       "version_major": 2,
       "version_minor": 0
      },
      "text/plain": [
       "HBox(children=(IntProgress(value=0, max=200), HTML(value='')))"
      ]
     },
     "metadata": {},
     "output_type": "display_data"
    },
    {
     "name": "stdout",
     "output_type": "stream",
     "text": [
      "\n"
     ]
    }
   ],
   "source": [
    "# model = load_model('withabdomen.h5', custom_objects={'mean_iou': mean_iou})\n",
    "# ABD_PATH = '../Input/Skin_Datasets/Test/FSD-ECU-100/original_images/'\n",
    "# MSK_PATH = '../Input/Skin_Datasets/Test/FSD-ECU-100/skin_masks/'\n",
    "\n",
    "ABD_PATH = '../Input/Skin_Datasets/Test/Abdomen-200/original_images/'\n",
    "MSK_PATH = '../Input/Skin_Datasets/Test/Abdomen-200/skin_masks/'\n",
    "\n",
    "\n",
    "abd_ids = next(os.walk(ABD_PATH))[2]\n",
    "msk_ids = next(os.walk(MSK_PATH))[2]\n",
    "abd_ids.sort()\n",
    "msk_ids.sort()\n",
    "\n",
    "abd = np.zeros((len(abd_ids), IMG_HEIGHT, IMG_WIDTH, IMG_CHANNELS), dtype=np.uint8)\n",
    "msk = np.zeros((len(msk_ids), IMG_HEIGHT, IMG_WIDTH), dtype=np.uint8)\n",
    "\n",
    "sys.stdout.flush()\n",
    "for n, id_ in tqdm(enumerate(abd_ids), total=len(abd_ids)):\n",
    "    path = ABD_PATH + id_\n",
    "    img = imread(path)[:,:,:IMG_CHANNELS]\n",
    "    img = resize(img, (IMG_HEIGHT, IMG_WIDTH), mode='constant', preserve_range=True)\n",
    "    abd[n] = img\n",
    "    \n",
    "for n, id_ in tqdm(enumerate(msk_ids), total=len(msk_ids)):\n",
    "    path = MSK_PATH + id_\n",
    "    img = imread(path)\n",
    "    \n",
    "    if img.ndim == 3:\n",
    "        img = img[:,:,1]\n",
    "        \n",
    "    img = resize(img, (IMG_HEIGHT, IMG_WIDTH), mode='constant', \n",
    "                                      preserve_range=True)\n",
    "    if (np.unique(img).size) > 2:\n",
    "# ABD_PATH = '../Input/Skin_Datasets/Test/Pratheepan-78/original_images/'\n",
    "# MSK_PATH = '../Input/Skin_Datasets/Test/Pratheepan-78/skin_masks/'\n",
    "\n",
    "        img = img > 30           # Important, Needed to make labels 0's and 1's only   \n",
    "    else:   \n",
    "        img = img > 0\n",
    "    img = img.astype(np.uint8)\n",
    "    msk[n] = img\n",
    "    "
   ]
  },
  {
   "cell_type": "markdown",
   "metadata": {},
   "source": [
    "## Plotting ROC Curves"
   ]
  },
  {
   "cell_type": "code",
   "execution_count": 76,
   "metadata": {},
   "outputs": [],
   "source": [
    "def getrates(msk, preds_test_t): #Takes as input 2D masks and 2D predictions\n",
    "\n",
    "    mean_tpr = []\n",
    "    mean_fpr = []\n",
    "    mean_prec = []\n",
    "    mean_rec = []\n",
    "    for j in range(msk.shape[0]):\n",
    "        act = msk[j]\n",
    "        pr = preds_test_t[j].reshape(IMG_WIDTH, IMG_HEIGHT)\n",
    "        c = act == pr #acc\n",
    "        d = act & pr #true negative\n",
    "        e = act | pr #true positive\n",
    "        neg = act.sum()\n",
    "        pos = (IMG_WIDTH*IMG_HEIGHT)-act.sum()\n",
    "    \n",
    "        TN = round(float(d.sum()),6)\n",
    "        FN = round(float(pr.sum()-d.sum()),6)\n",
    "        TP = round(float((IMG_WIDTH*IMG_HEIGHT)-e.sum()),6)\n",
    "        FP = round(float(e.sum()-pr.sum()),6)\n",
    "\n",
    "        tpr = float(TP)/(TP+FN)\n",
    "        fpr = float(FP)/(FP+TN)\n",
    "        prec = float(TP)/(TP+FP+0.0000001)\n",
    "        rec = float(TP)/(TP+FN)\n",
    "        \n",
    "        \n",
    "        mean_tpr.append(tpr)\n",
    "        mean_fpr.append(fpr)\n",
    "        mean_prec.append(prec)\n",
    "        mean_rec.append(rec)\n",
    "        \n",
    "    return mean_tpr,mean_fpr, mean_prec, mean_rec\n",
    "\n",
    "# Actual Predictions\n",
    "def calcroc(model,abd,msk): \n",
    "    preds_test = model.predict(abd[:int(abd.shape[0])], verbose=1)\n",
    "    threshs = np.linspace(0,1,11)\n",
    "    TPR = []\n",
    "    FPR=[]\n",
    "    PREC=[]\n",
    "    REC=[]\n",
    "    for i in threshs:\n",
    "        preds_test_t = (preds_test > i).astype(np.uint8)\n",
    "        mean_tpr, mean_fpr, mean_prec, mean_rec = getrates(msk, preds_test_t);\n",
    "        TPR.append(np.mean(mean_tpr))\n",
    "        FPR.append(np.mean(mean_fpr))\n",
    "        PREC.append(np.mean(mean_prec))\n",
    "        REC.append(np.mean(mean_rec))\n",
    "#     PREC.pop()\n",
    "#     REC.pop()\n",
    "    PREC= PREC[1:]\n",
    "    REC= REC[1:]\n",
    "    return TPR, FPR, PREC, REC"
   ]
  },
  {
   "cell_type": "code",
   "execution_count": null,
   "metadata": {},
   "outputs": [],
   "source": [
    "modelabd_001 = load_model('afterlr0.001.h5', custom_objects={'mean_iou': mean_iou})\n",
    "modelabd_002 = load_model('afterlr0.002.h5', custom_objects={'mean_iou': mean_iou})\n",
    "modelnoabd = load_model('noabdomen0.001.h5', custom_objects={'mean_iou': mean_iou})"
   ]
  },
  {
   "cell_type": "code",
   "execution_count": 79,
   "metadata": {},
   "outputs": [
    {
     "name": "stdout",
     "output_type": "stream",
     "text": [
      "200/200 [==============================] - 0s 831us/step\n",
      "200/200 [==============================] - 0s 860us/step\n",
      "200/200 [==============================] - 0s 810us/step\n"
     ]
    },
    {
     "data": {
      "text/plain": [
       "<matplotlib.legend.Legend at 0x7f728003c5f8>"
      ]
     },
     "execution_count": 79,
     "metadata": {},
     "output_type": "execute_result"
    },
    {
     "data": {
      "image/png": "[encoded data removed]",
      "text/plain": [
       "<Figure size 432x288 with 1 Axes>"
      ]
     },
     "metadata": {
      "needs_background": "light"
     },
     "output_type": "display_data"
    },
    {
     "data": {
      "image/png": "[encoded data removed]",
      "text/plain": [
       "<Figure size 432x288 with 1 Axes>"
      ]
     },
     "metadata": {
      "needs_background": "light"
     },
     "output_type": "display_data"
    }
   ],
   "source": [
    "TPRabd_001, FPRabd_001, PRECabd_001, RECabd_001 = calcroc(modelabd_001,abd,msk)\n",
    "TPRabd_002, FPRabd_002, PRECabd_002, RECabd_002 = calcroc(modelabd_002,abd,msk)\n",
    "TPRnoabd, FPRnoabd, PRECnoabd, RECnoabd = calcroc(modelnoabd,abd,msk)\n",
    "\n",
    "fig, ax = plt.subplots(1,1)\n",
    "ax.plot(FPRabd_001, TPRabd_001, label='ROC curve for lr 0.001(area = %0.5f)' % auc(FPRabd_001,TPRabd_001))\n",
    "ax.plot(FPRabd_002, TPRabd_002, label='ROC curve for lr 0.002(area = %0.5f)' % auc(FPRabd_002,TPRabd_002))\n",
    "ax.plot(FPRnoabd, TPRnoabd, label='ROC curve no abdomen data(area = %0.5f)' % auc(FPRnoabd,TPRnoabd))\n",
    "ax.plot([0, 1], [0, 1], 'k--')\n",
    "ax.set_xlim([0.0, 1.0])\n",
    "ax.set_ylim([0.0, 1.05])\n",
    "ax.set_xlabel('False Positive Rate')\n",
    "ax.set_ylabel('True Positive Rate')\n",
    "ax.set_title('Receiver operating characteristic example')\n",
    "ax.legend(loc=\"lower right\")\n",
    "\n",
    "fig, ax = plt.subplots(1,1)\n",
    "ax.plot(RECabd_001, PRECabd_001, label='Precision Recall curve for lr 0.001')\n",
    "ax.plot(RECabd_002, PRECabd_002, label='Precision Recall curve for lr 0.002')\n",
    "ax.plot(RECnoabd, PRECnoabd, label='Precision Recall curve for no abdomen')\n",
    "ax.set_xlim([0.0, 1.0])\n",
    "ax.set_ylim([0.0, 1.05])\n",
    "ax.set_xlabel('Recall')\n",
    "ax.set_ylabel('Precision')\n",
    "ax.set_title('Precision Recall Curve')\n",
    "ax.legend(loc=\"lower right\")"
   ]
  },
  {
   "cell_type": "markdown",
   "metadata": {},
   "source": [
    "### Getting Accuracy Values"
   ]
  },
  {
   "cell_type": "code",
   "execution_count": null,
   "metadata": {},
   "outputs": [],
   "source": [
    "def acc_comp_anirudh(msk, preds_test_t): #Takes as input 2D masks and 2D predictions\n",
    "    \n",
    "    mean_acc = []\n",
    "    mean_prec = []\n",
    "    mean_rec = []\n",
    "    mean_f = []\n",
    "#     tp = []\n",
    "#     tn = []\n",
    "#     fp=[]\n",
    "#     fn=[]\n",
    "    FPR = []\n",
    "    TPR= []\n",
    "    for j in range(msk.shape[0]):\n",
    "        act = msk[j]\n",
    "        pr = preds_test_t[j].reshape(IMG_WIDTH, IMG_HEIGHT)\n",
    "    \n",
    "        c = act == pr #acc\n",
    "        d = act & pr #true negative\n",
    "        e = act | pr #true positive\n",
    "        neg = act.sum()\n",
    "        pos = (IMG_WIDTH*IMG_HEIGHT)-act.sum()\n",
    "    \n",
    "        TN = round(float(d.sum()),6)\n",
    "        FN = round(float(pr.sum()-d.sum()),6)\n",
    "        TP = round(float((IMG_WIDTH*IMG_HEIGHT)-e.sum()),6)\n",
    "        FP = round(float(e.sum()-pr.sum()),6)\n",
    "        acc = round(float(c.sum())/(IMG_WIDTH*IMG_HEIGHT),6)\n",
    "    \n",
    "        acc2 = float(TP+TN)/(TP+TN+FP+FN)\n",
    "        prec = float(TP)/(TP+FP+0.0000000001)\n",
    "        rec = float(TP)/(TP+FN)\n",
    "        f_measure = 2*(prec*rec)/(prec+rec+0.0000000001)\n",
    "        tpr = float(TP)/(TP+FN)\n",
    "        fpr = float(FP)/(FP+TN)\n",
    "        \n",
    "        mean_acc.append(acc2)\n",
    "        mean_prec.append(prec)\n",
    "        mean_rec.append(rec)\n",
    "        mean_f.append(f_measure)\n",
    "        TPR.append(tpr)\n",
    "        FPR.append(fpr)\n",
    "        \n",
    "#         tp.append(TP)\n",
    "#         tn.append(TN)\n",
    "#         fp.append(FP)\n",
    "#         fn.append(FN)\n",
    "        \n",
    "        \n",
    "    return mean_acc, mean_prec ,mean_rec, mean_f,TPR,FPR #tp ,tn, fp,fn"
   ]
  },
  {
   "cell_type": "code",
   "execution_count": null,
   "metadata": {},
   "outputs": [],
   "source": [
    "# Actual Predictions\n",
    "preds_test = model.predict(abd[:int(abd.shape[0])], verbose=1)\n",
    "\n",
    "# Threshold predictions\n",
    "preds_test_t = (preds_test > 0.5).astype(np.uint8)\n",
    "\n",
    "# Overall accuracy on abdomen pictures\n",
    "mean_accu, mean_prec,mean_rec, mean_f, TPR,FPR = acc_comp_anirudh(msk, preds_test_t);\n",
    "\n",
    "avg = np.mean(mean_accu)\n",
    "std = np.std(mean_accu)\n",
    "precision = np.mean(mean_prec)\n",
    "recall = np.mean(mean_rec)\n",
    "fmeasure = np.mean(mean_f)\n",
    "print(\"Accuracy \" + str(avg))\n",
    "print(\"STD Deviation \" + str(std))\n",
    "print(\"Precision \" + str(precision))\n",
    "print(\"Recall \" + str(recall))\n",
    "print(\"F-Measure \" + str(fmeasure))\n",
    "\n",
    "# # Save results in a .npy file\n",
    "# a = np.reshape(answer[2],(100,1))\n",
    "# b = np.reshape(answer[3],(100,1))\n",
    "# c = np.reshape(answer[4],(100,1))\n",
    "# d = np.reshape(answer[5],(100,1))\n",
    "# g = np.concatenate([a,b,c,d],axis = 1)\n",
    "# np.save('your_file_name.npy',g)"
   ]
  },
  {
   "cell_type": "markdown",
   "metadata": {},
   "source": [
    "K) Visualize results"
   ]
  },
  {
   "cell_type": "code",
   "execution_count": null,
   "metadata": {},
   "outputs": [],
   "source": [
    "for j in range(len(abd_ids)):\n",
    "    print(j)\n",
    "    plt.show()\n",
    "    imshow(abd[j])\n",
    "    plt.show()\n",
    "    imshow(np.squeeze(preds_test_t[j]*255))\n",
    "    plt.show()\n",
    "    imshow(np.squeeze(msk[j]))"
   ]
  },
  {
   "cell_type": "markdown",
   "metadata": {},
   "source": [
    "J') Load model, testing data and check against trained network (if masks do NOT exist)"
   ]
  },
  {
   "cell_type": "code",
   "execution_count": null,
   "metadata": {
    "scrolled": true
   },
   "outputs": [],
   "source": [
    "model = load_model('lydia.h5', custom_objects={'mean_iou': mean_iou})\n",
    "ABD_PATH = '/home/lalzogbi/Documents/Umbilicus_Skin_Detection/code/wounds/'\n",
    "\n",
    "abd_ids = next(os.walk(ABD_PATH))[2]\n",
    "abd_ids.sort()\n",
    "\n",
    "abd = np.zeros((len(abd_ids), IMG_HEIGHT, IMG_WIDTH, IMG_CHANNELS), dtype=np.uint8)\n",
    "\n",
    "sys.stdout.flush()\n",
    "for n, id_ in tqdm(enumerate(abd_ids), total=len(abd_ids)):\n",
    "    path = ABD_PATH + id_\n",
    "    img = imread(path)[:,:,:IMG_CHANNELS]\n",
    "    img = resize(img, (IMG_HEIGHT, IMG_WIDTH), mode='constant', preserve_range=True)\n",
    "    abd[n] = img\n",
    "    \n",
    "# Actual Predictions\n",
    "preds_test = model.predict(abd[:int(abd.shape[0])], verbose=1)\n",
    "\n",
    "# Threshold predictions\n",
    "preds_test_t = (preds_test > 0.5).astype(np.uint8)"
   ]
  },
  {
   "cell_type": "markdown",
   "metadata": {},
   "source": [
    "K') Visualize results"
   ]
  },
  {
   "cell_type": "code",
   "execution_count": null,
   "metadata": {
    "scrolled": false
   },
   "outputs": [],
   "source": [
    "for j in range(len(abd_ids)):\n",
    "    print(j)\n",
    "    plt.show()\n",
    "    imshow(abd[j])\n",
    "    plt.show()\n",
    "    imshow(np.squeeze(preds_test_t[j]*255))\n",
    "    plt.show()"
   ]
  },
  {
   "cell_type": "code",
   "execution_count": null,
   "metadata": {},
   "outputs": [],
   "source": []
  }
 ],
 "metadata": {
  "kernelspec": {
   "display_name": "Python 3",
   "language": "python",
   "name": "python3"
  },
  "language_info": {
   "codemirror_mode": {
    "name": "ipython",
    "version": 3
   },
   "file_extension": ".py",
   "mimetype": "text/x-python",
   "name": "python",
   "nbconvert_exporter": "python",
   "pygments_lexer": "ipython3",
   "version": "3.5.2"
  }
 },
 "nbformat": 4,
 "nbformat_minor": 2
}
