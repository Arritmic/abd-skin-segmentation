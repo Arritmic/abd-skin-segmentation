{
 "cells": [
  {
   "cell_type": "code",
   "execution_count": 1,
   "metadata": {},
   "outputs": [
    {
     "name": "stdout",
     "output_type": "stream",
     "text": [
      "TensorFlow version:  1.14.0\n"
     ]
    },
    {
     "name": "stderr",
     "output_type": "stream",
     "text": [
      "Using TensorFlow backend.\n"
     ]
    }
   ],
   "source": [
    "from __future__ import absolute_import\n",
    "from __future__ import division\n",
    "from __future__ import print_function\n",
    "from datetime import datetime\n",
    "from packaging import version\n",
    "\n",
    "import os\n",
    "import sys\n",
    "import time\n",
    "import random\n",
    "import warnings\n",
    "\n",
    "import cv2 as cv\n",
    "import numpy as np\n",
    "import matplotlib.pyplot as plt\n",
    "from tqdm import tqdm_notebook as tqdm\n",
    "from skimage.io import imread, imshow\n",
    "from skimage.transform import resize\n",
    "\n",
    "import tensorflow as tf\n",
    "import keras\n",
    "from keras.models import Model, load_model\n",
    "from keras.layers import Input\n",
    "from keras.layers.core import Dropout, Lambda\n",
    "from keras.layers.convolutional import Conv2D, Conv2DTranspose\n",
    "from keras.layers.pooling import MaxPooling2D\n",
    "from keras.layers.merge import concatenate\n",
    "from keras.callbacks import EarlyStopping, ModelCheckpoint, Callback\n",
    "from keras import backend as K\n",
    "from keras.utils import multi_gpu_model\n",
    "from keras import optimizers\n",
    "from sklearn.metrics import auc # roc curve toolsplt.hold(True)\n",
    "\n",
    "\n",
    "# Specify Image Dimensions\n",
    "IMG_WIDTH = 128\n",
    "IMG_HEIGHT = 128\n",
    "IMG_CHANNELS = 3\n",
    "\n",
    "warnings.filterwarnings('ignore', category=UserWarning, module='skimage')\n",
    "seed = 42\n",
    "random.seed = seed\n",
    "\n",
    "print(\"TensorFlow version: \", tf.__version__)\n",
    "\n"
   ]
  },
  {
   "cell_type": "markdown",
   "metadata": {},
   "source": [
    "Function for computing the masks' pixel-to-pixel accuracy, takes as input 2D masks and 2D predictions\n",
    "(Label 1 corresponds to skin, and 0 to non-skin)"
   ]
  },
  {
   "cell_type": "markdown",
   "metadata": {},
   "source": [
    "Class for extracting time elapsed per training epoch"
   ]
  },
  {
   "cell_type": "code",
   "execution_count": 2,
   "metadata": {},
   "outputs": [],
   "source": [
    "class TimingCallback(Callback):\n",
    "    def on_train_begin(self, logs={}):\n",
    "        self.times = []\n",
    "\n",
    "    def on_epoch_begin(self, batch, logs={}):\n",
    "        self.epoch_time_start = time.time()\n",
    "\n",
    "    def on_epoch_end(self, batch, logs={}):\n",
    "        self.times.append(time.time() - self.epoch_time_start)\n",
    "\n",
    "cb = TimingCallback()"
   ]
  },
  {
   "cell_type": "markdown",
   "metadata": {},
   "source": [
    "Intersection-over-Union (IoU) metric, can be tracked instead of the accuracy during training"
   ]
  },
  {
   "cell_type": "code",
   "execution_count": 3,
   "metadata": {},
   "outputs": [],
   "source": [
    "def mean_iou(y_true, y_pred):\n",
    "    prec = []\n",
    "    for t in np.arange(0.5, 1.0, 0.05):\n",
    "        y_pred_ = tf.to_int32(y_pred > t)\n",
    "        score, up_opt = tf.metrics.mean_iou(y_true, y_pred_, 2)\n",
    "        K.get_session().run(tf.local_variables_initializer())\n",
    "        with tf.control_dependencies([up_opt]):\n",
    "            score = tf.identity(score)\n",
    "        prec.append(score)\n",
    "    return K.mean(K.stack(prec), axis=0)"
   ]
  },
  {
   "cell_type": "markdown",
   "metadata": {},
   "source": [
    "## Doing stuff for Tensorboard "
   ]
  },
  {
   "cell_type": "code",
   "execution_count": 4,
   "metadata": {},
   "outputs": [],
   "source": [
    "logdir=\"logs/scalars/\" + datetime.now().strftime(\"%Y%m%d-%H%M%S\")\n",
    "tensorboard_callback = keras.callbacks.TensorBoard(log_dir=logdir)\n"
   ]
  },
  {
   "cell_type": "markdown",
   "metadata": {},
   "source": [
    "A) Get the training data (original images + masks). The images and masks must have the same labelling. Add the original images' path to TRAIN_PATH, and the masks' path to MASK_PATH. "
   ]
  },
  {
   "cell_type": "code",
   "execution_count": 5,
   "metadata": {},
   "outputs": [],
   "source": [
    "# # #Dataset 1: HGR\n",
    "# # TRAIN_PATH1 = ['../Input/Skin_Datasets/Dataset1_HGR/original_images/']\n",
    "# # MASK_PATH1 = ['../Input/Skin_Datasets/Dataset1_HGR/skin_masks/']\n",
    "# # train_ids1 = next(os.walk(TRAIN_PATH1[0]))[2]\n",
    "# # mask_ids1 = next(os.walk(MASK_PATH1[0]))[2]\n",
    "# # train_ids1.sort()\n",
    "# # mask_ids1.sort()\n",
    "# # TRAIN_PATH1 = TRAIN_PATH1*len(train_ids1)\n",
    "# # MASK_PATH1 = MASK_PATH1*len(train_ids1)\n",
    "\n",
    "# # # Dataset 2: TDSD\n",
    "# # TRAIN_PATH5 = ['../Input/Skin_Datasets/Dataset2_TDSD/original_images/']\n",
    "# # MASK_PATH5 = ['../Input/Skin_Datasets/Dataset2_TDSD/skin_masks/']\n",
    "# # train_ids5 = next(os.walk(TRAIN_PATH5[0]))[2]\n",
    "# # mask_ids5 = next(os.walk(MASK_PATH5[0]))[2]\n",
    "# # train_ids5.sort()\n",
    "# # mask_ids5.sort()\n",
    "# # TRAIN_PATH5 = TRAIN_PATH5*len(train_ids5)\n",
    "# # MASK_PATH5 = MASK_PATH5*len(train_ids5)\n",
    "\n",
    "# # # Dataset 3: Schmugge\n",
    "# # TRAIN_PATH6 = ['../Input/Skin_Datasets/Dataset3_Schmugge/original_images/']\n",
    "# # MASK_PATH6 = ['../Input/Skin_Datasets/Dataset3_Schmugge/skin_masks/']\n",
    "# # train_ids6 = next(os.walk(TRAIN_PATH6[0]))[2]\n",
    "# # mask_ids6 = next(os.walk(MASK_PATH6[0]))[2]\n",
    "# # train_ids6.sort()\n",
    "# # mask_ids6.sort()\n",
    "# # TRAIN_PATH6 = TRAIN_PATH6*len(train_ids6)\n",
    "# # MASK_PATH6 = MASK_PATH6*len(train_ids6)\n",
    "\n",
    "# # # # Dataset 4: Pratheepan\n",
    "# # # TRAIN_PATH2 = ['../Input/Skin_Datasets/Dataset4_Pratheepan/original_images/']\n",
    "# # # MASK_PATH2 = ['../Input/Skin_Datasets/Dataset4_Pratheepan/skin_masks/']\n",
    "# # # train_ids2 = next(os.walk(TRAIN_PATH2[0]))[2]\n",
    "# # # mask_ids2 = next(os.walk(MASK_PATH2[0]))[2]\n",
    "# # # train_ids2.sort()\n",
    "# # # mask_ids2.sort()\n",
    "# # # TRAIN_PATH2 = TRAIN_PATH2*len(train_ids2)\n",
    "# # # MASK_PATH2 = MASK_PATH2*len(train_ids2)\n",
    "\n",
    "# # # Dataset 5: VDM\n",
    "# # TRAIN_PATH3 = ['../Input/Skin_Datasets/Dataset5_VDM/original_images/']\n",
    "# # MASK_PATH3 = ['../Input/Skin_Datasets/Dataset5_VDM/skin_masks/']\n",
    "# # train_id3 = next(os.walk(TRAIN_PATH3[0]))[2]\n",
    "# # mask_id3 = next(os.walk(MASK_PATH3[0]))[2]\n",
    "# # train_id3.sort()\n",
    "# # mask_id3.sort()\n",
    "# # train_ids3 = train_id3[1:]\n",
    "# # mask_ids3 = mask_id3[1:]\n",
    "# # TRAIN_PATH3 = TRAIN_PATH3*len(train_ids3)\n",
    "# # MASK_PATH3 = MASK_PATH3*len(train_ids3)\n",
    "\n",
    "# # # Dataset 6: SFA\n",
    "# # TRAIN_PATH4 = ['../Input/Skin_Datasets/Dataset6_SFA/original_images/']\n",
    "# # MASK_PATH4 = ['../Input/Skin_Datasets/Dataset6_SFA/skin_masks/']\n",
    "# # train_ids4 = next(os.walk(TRAIN_PATH4[0]))[2]\n",
    "# # mask_ids4 = next(os.walk(MASK_PATH4[0]))[2]\n",
    "# # train_ids4.sort()\n",
    "# # mask_ids4.sort()\n",
    "# # TRAIN_PATH4 = TRAIN_PATH4*len(train_ids4)\n",
    "# # MASK_PATH4 = MASK_PATH4*len(train_ids4)\n",
    "\n",
    "# # # Dataset 7: FSD\n",
    "# # TRAIN_PATH7 = ['../Input/Skin_Datasets/Dataset7_FSD/original_images/']\n",
    "# # MASK_PATH7 = ['../Input/Skin_Datasets/Dataset7_FSD/skin_masks/']\n",
    "# # train_ids7 = next(os.walk(TRAIN_PATH7[0]))[2]\n",
    "# # mask_ids7 = next(os.walk(MASK_PATH7[0]))[2]\n",
    "# # train_ids7.sort()\n",
    "# # mask_ids7.sort()\n",
    "# # TRAIN_PATH7 = TRAIN_PATH7*len(train_ids7)\n",
    "# # MASK_PATH7 = MASK_PATH7*len(train_ids7)\n",
    "\n",
    "# # # ## Dataset 8: ABDOMEN\n",
    "# # # TRAIN_PATH8 = ['../Input/Skin_Datasets/Dataset8_Abdomen/train/skin_train2019/']\n",
    "# # # MASK_PATH8 = ['../Input/Skin_Datasets/Dataset8_Abdomen/train/annotations/']\n",
    "# # # train_ids8 = next(os.walk(TRAIN_PATH8[0]))[2]\n",
    "# # # mask_ids8 = next(os.walk(MASK_PATH8[0]))[2]\n",
    "# # # train_ids8.sort()\n",
    "# # # mask_ids8.sort()\n",
    "\n",
    "# # # TRAIN_PATH8 = TRAIN_PATH8*len(train_ids8)\n",
    "# # # MASK_PATH8 = MASK_PATH8*len(train_ids8)\n",
    "\n",
    "# # ## Dataset 8: ABDOMEN_New\n",
    "# TRAIN_PATH9 = ['../Input/Skin_Datasets/Dataset_NEW/original_images/']\n",
    "# MASK_PATH9 = ['../Input/Skin_Datasets/Dataset_NEW/skin_masks/']\n",
    "# train_ids9 = next(os.walk(TRAIN_PATH9[0]))[2]\n",
    "# mask_ids9 = next(os.walk(MASK_PATH9[0]))[2]\n",
    "# train_ids9.sort()\n",
    "# mask_ids9.sort()\n",
    "\n",
    "# TRAIN_PATH9 = TRAIN_PATH9*len(train_ids9)\n",
    "# MASK_PATH9 = MASK_PATH9*len(train_ids9)\n",
    "\n",
    "# # TRAIN_PATH2,MASK_PATH2,train_ids2,mask_ids2\n",
    "# # Combine everything\n",
    "# # TRAIN_PATH = np.concatenate((TRAIN_PATH1,TRAIN_PATH3,TRAIN_PATH4,TRAIN_PATH5, TRAIN_PATH6,TRAIN_PATH7)) #,TRAIN_PATH9\n",
    "# # MASK_PATH = np.concatenate((MASK_PATH1,MASK_PATH3,MASK_PATH4,MASK_PATH5,MASK_PATH6,MASK_PATH7))#,MASK_PATH9\n",
    "# # train_ids = np.concatenate((train_ids1,train_ids3,train_ids4,train_ids5,train_ids6,train_ids7)) #,train_ids9\n",
    "# # mask_ids = np.concatenate((mask_ids1,mask_ids3,mask_ids4,mask_ids5,mask_ids6,mask_ids7)) # ,mask_ids9\n",
    "\n",
    "# TRAIN_PATH = TRAIN_PATH9\n",
    "# MASK_PATH = MASK_PATH9\n",
    "# train_ids = train_ids9\n",
    "# mask_ids = mask_ids9"
   ]
  },
  {
   "cell_type": "markdown",
   "metadata": {},
   "source": [
    "### B) Shuffle the data and resize"
   ]
  },
  {
   "cell_type": "code",
   "execution_count": 6,
   "metadata": {
    "scrolled": false
   },
   "outputs": [],
   "source": [
    "# X_train = np.zeros((len(train_ids), IMG_HEIGHT, IMG_WIDTH, IMG_CHANNELS), dtype=np.uint8)\n",
    "# Y_train = np.zeros((len(train_ids), IMG_HEIGHT, IMG_WIDTH, 1))\n",
    "# print('Getting and resizing train images and masks ... ')\n",
    "# sys.stdout.flush()\n",
    "# g = list(range(0,len(train_ids)))\n",
    "# np.random.shuffle(g)\n",
    "\n",
    "# strs_original = [\"\" for x in range(len(train_ids))]\n",
    "# strs_mask = [\"\" for x in range(len(train_ids))]\n",
    "# pathmsk = MASK_PATH[0] + mask_ids[0]\n",
    "# for n, id_ in tqdm(enumerate(train_ids), total=len(train_ids)):\n",
    "#     strs_mask[n] = MASK_PATH[n] + mask_ids[n]\n",
    "#     strs_original[n] = TRAIN_PATH[n] + train_ids[n]\n",
    "    \n",
    "# for n, id_ in tqdm(enumerate(train_ids), total=len(train_ids)):\n",
    "#     path = strs_original[g[n]]\n",
    "#     img = imread(path)[:,:,:IMG_CHANNELS]\n",
    "#     img = resize(img, (IMG_HEIGHT, IMG_WIDTH), mode='constant', preserve_range=True)\n",
    "#     X_train[n] = img\n",
    "    \n",
    "#     path = strs_mask[g[n]]\n",
    "# #     print(path)\n",
    "#     img = imread(path)\n",
    "#     if img.ndim == 3:\n",
    "#         img = img[:,:,1]\n",
    "#     img = np.expand_dims(resize(img, (IMG_HEIGHT, IMG_WIDTH), mode='constant', \n",
    "#                                       preserve_range=True), axis=-1)\n",
    "#     if (np.unique(img).size) > 2:\n",
    "#         img = img > 30     # Important, needed to make labels 0's and 1's only \n",
    "#     else:\n",
    "#         img = img > 0\n",
    "#     Y_train[n] = img      "
   ]
  },
  {
   "cell_type": "markdown",
   "metadata": {},
   "source": [
    "### To Avoid running the above two block again you can simply save the np arrays for convience by running the block below"
   ]
  },
  {
   "cell_type": "code",
   "execution_count": 7,
   "metadata": {},
   "outputs": [],
   "source": [
    "# np.save(\"X_train_onlyabdomen\",X_train)\n",
    "# np.save(\"Y_train_onlyabdomen\",Y_train)"
   ]
  },
  {
   "cell_type": "code",
   "execution_count": 8,
   "metadata": {},
   "outputs": [],
   "source": [
    "# X_train = np.load('./X_data_abdomen_new.npy')\n",
    "# Y_train = np.load('./Y_data_abdomen_new.npy')"
   ]
  },
  {
   "cell_type": "code",
   "execution_count": 9,
   "metadata": {},
   "outputs": [],
   "source": [
    "X_train = np.load('./X_train_final.npy')\n",
    "Y_train = np.load('./Y_train_final.npy')"
   ]
  },
  {
   "cell_type": "code",
   "execution_count": 10,
   "metadata": {},
   "outputs": [],
   "source": [
    "# X_train = np.load('./X_train_withoutabdomen.npy')\n",
    "# Y_train = np.load('./Y_train_withoutabdomen.npy')"
   ]
  },
  {
   "cell_type": "markdown",
   "metadata": {},
   "source": [
    "C) Make sure the masks correspond to the original images"
   ]
  },
  {
   "cell_type": "code",
   "execution_count": 11,
   "metadata": {
    "scrolled": true
   },
   "outputs": [
    {
     "data": {
      "image/png": "[encoded data removed]",
      "text/plain": [
       "<Figure size 432x288 with 1 Axes>"
      ]
     },
     "metadata": {
      "needs_background": "light"
     },
     "output_type": "display_data"
    },
    {
     "data": {
      "image/png": "[encoded data removed]",
      "text/plain": [
       "<Figure size 432x288 with 1 Axes>"
      ]
     },
     "metadata": {
      "needs_background": "light"
     },
     "output_type": "display_data"
    }
   ],
   "source": [
    "ix = random.randint(0, len(X_train))\n",
    "imshow(X_train[ix])\n",
    "plt.show()\n",
    "imshow(np.squeeze(Y_train[ix]))\n",
    "plt.show()"
   ]
  },
  {
   "cell_type": "markdown",
   "metadata": {},
   "source": [
    "D) Construct the UNET model"
   ]
  },
  {
   "cell_type": "code",
   "execution_count": 12,
   "metadata": {},
   "outputs": [
    {
     "name": "stderr",
     "output_type": "stream",
     "text": [
      "WARNING: Logging before flag parsing goes to stderr.\n",
      "W0717 18:00:54.052866 140579673204480 deprecation_wrapper.py:119] From /home/anirudh/.myenv/lib/python3.5/site-packages/keras/backend/tensorflow_backend.py:74: The name tf.get_default_graph is deprecated. Please use tf.compat.v1.get_default_graph instead.\n",
      "\n",
      "W0717 18:00:54.054333 140579673204480 deprecation_wrapper.py:119] From /home/anirudh/.myenv/lib/python3.5/site-packages/keras/backend/tensorflow_backend.py:517: The name tf.placeholder is deprecated. Please use tf.compat.v1.placeholder instead.\n",
      "\n",
      "W0717 18:00:54.061309 140579673204480 deprecation_wrapper.py:119] From /home/anirudh/.myenv/lib/python3.5/site-packages/keras/backend/tensorflow_backend.py:4185: The name tf.truncated_normal is deprecated. Please use tf.random.truncated_normal instead.\n",
      "\n",
      "W0717 18:00:54.075549 140579673204480 deprecation_wrapper.py:119] From /home/anirudh/.myenv/lib/python3.5/site-packages/keras/backend/tensorflow_backend.py:133: The name tf.placeholder_with_default is deprecated. Please use tf.compat.v1.placeholder_with_default instead.\n",
      "\n",
      "W0717 18:00:54.082213 140579673204480 deprecation.py:506] From /home/anirudh/.myenv/lib/python3.5/site-packages/keras/backend/tensorflow_backend.py:3445: calling dropout (from tensorflow.python.ops.nn_ops) with keep_prob is deprecated and will be removed in a future version.\n",
      "Instructions for updating:\n",
      "Please use `rate` instead of `keep_prob`. Rate should be set to `rate = 1 - keep_prob`.\n",
      "W0717 18:00:54.104784 140579673204480 deprecation_wrapper.py:119] From /home/anirudh/.myenv/lib/python3.5/site-packages/keras/backend/tensorflow_backend.py:3976: The name tf.nn.max_pool is deprecated. Please use tf.nn.max_pool2d instead.\n",
      "\n",
      "W0717 18:00:54.288253 140579673204480 deprecation_wrapper.py:119] From /home/anirudh/.myenv/lib/python3.5/site-packages/keras/backend/tensorflow_backend.py:4138: The name tf.random_uniform is deprecated. Please use tf.random.uniform instead.\n",
      "\n",
      "W0717 18:00:58.766809 140579673204480 deprecation_wrapper.py:119] From /home/anirudh/.myenv/lib/python3.5/site-packages/keras/optimizers.py:790: The name tf.train.Optimizer is deprecated. Please use tf.compat.v1.train.Optimizer instead.\n",
      "\n",
      "W0717 18:00:58.775301 140579673204480 deprecation.py:323] From /home/anirudh/.myenv/lib/python3.5/site-packages/tensorflow/python/ops/nn_impl.py:180: add_dispatch_support.<locals>.wrapper (from tensorflow.python.ops.array_ops) is deprecated and will be removed in a future version.\n",
      "Instructions for updating:\n",
      "Use tf.where in 2.0, which has the same broadcast rule as np.where\n"
     ]
    }
   ],
   "source": [
    "inputs = Input((IMG_HEIGHT, IMG_WIDTH, IMG_CHANNELS))\n",
    "s = Lambda(lambda x: x/255) (inputs)\n",
    "\n",
    "c1 = Conv2D(16, (3, 3), activation='relu', kernel_initializer='he_normal', padding='same') (s)\n",
    "c1 = Dropout(0.1) (c1)\n",
    "c1 = Conv2D(16, (3, 3), activation='relu', kernel_initializer='he_normal', padding='same') (c1)\n",
    "p1 = MaxPooling2D((2, 2)) (c1)\n",
    "\n",
    "c2 = Conv2D(32, (3, 3), activation='relu', kernel_initializer='he_normal', padding='same') (p1)\n",
    "c2 = Dropout(0.1) (c2)\n",
    "c2 = Conv2D(32, (3, 3), activation='relu', kernel_initializer='he_normal', padding='same') (c2)\n",
    "p2 = MaxPooling2D((2, 2)) (c2)\n",
    "\n",
    "c3 = Conv2D(64, (3, 3), activation='relu', kernel_initializer='he_normal', padding='same') (p2)\n",
    "c3 = Dropout(0.2) (c3)\n",
    "c3 = Conv2D(64, (3, 3), activation='relu', kernel_initializer='he_normal', padding='same') (c3)\n",
    "p3 = MaxPooling2D((2, 2)) (c3)\n",
    "\n",
    "c4 = Conv2D(128, (3, 3), activation='relu', kernel_initializer='he_normal', padding='same') (p3)\n",
    "c4 = Dropout(0.2) (c4)\n",
    "c4 = Conv2D(128, (3, 3), activation='relu', kernel_initializer='he_normal', padding='same') (c4)\n",
    "p4 = MaxPooling2D(pool_size=(2, 2)) (c4)\n",
    "\n",
    "c5 = Conv2D(128, (3, 3), activation='relu', kernel_initializer='he_normal', padding='same') (p4)\n",
    "c5 = Dropout(0.2) (c5)\n",
    "c5 = Conv2D(128, (3, 3), activation='relu', kernel_initializer='he_normal', padding='same') (c5)\n",
    "p5 = MaxPooling2D(pool_size=(2, 2)) (c5)\n",
    "\n",
    "c6 = Conv2D(256, (3, 3), activation='relu', kernel_initializer='he_normal', padding='same') (p5)\n",
    "c6 = Dropout(0.3) (c6)\n",
    "c6 = Conv2D(256, (3, 3), activation='relu', kernel_initializer='he_normal', padding='same') (c6)\n",
    "\n",
    "u7 = Conv2DTranspose(128, (2, 2), strides=(2, 2), padding='same') (c6)\n",
    "u7 = concatenate([u7, c5])\n",
    "c7 = Conv2D(128, (3, 3), activation='relu', kernel_initializer='he_normal', padding='same') (u7)\n",
    "c7 = Dropout(0.2) (c7)\n",
    "c7 = Conv2D(128, (3, 3), activation='relu', kernel_initializer='he_normal', padding='same') (c7)\n",
    "\n",
    "u8 = Conv2DTranspose(64, (2, 2), strides=(2, 2), padding='same') (c7)\n",
    "u8 = concatenate([u8, c4])\n",
    "c8 = Conv2D(64, (3, 3), activation='relu', kernel_initializer='he_normal', padding='same') (u8)\n",
    "c8 = Dropout(0.2) (c8)\n",
    "c8 = Conv2D(64, (3, 3), activation='relu', kernel_initializer='he_normal', padding='same') (c8)\n",
    "\n",
    "u9 = Conv2DTranspose(32, (2, 2), strides=(2, 2), padding='same') (c8)\n",
    "u9 = concatenate([u9, c3])\n",
    "c9 = Conv2D(32, (3, 3), activation='relu', kernel_initializer='he_normal', padding='same') (u9)\n",
    "c9 = Dropout(0.1) (c9)\n",
    "c9 = Conv2D(32, (3, 3), activation='relu', kernel_initializer='he_normal', padding='same') (c9)\n",
    "\n",
    "u10 = Conv2DTranspose(16, (2, 2), strides=(2, 2), padding='same') (c9)\n",
    "u10 = concatenate([u10, c2], axis=3)\n",
    "c10 = Conv2D(16, (3, 3), activation='relu', kernel_initializer='he_normal', padding='same') (u10)\n",
    "c10 = Dropout(0.1) (c10)\n",
    "c10 = Conv2D(16, (3, 3), activation='relu', kernel_initializer='he_normal', padding='same') (c10)\n",
    "\n",
    "u11 = Conv2DTranspose(16, (2, 2), strides=(2, 2), padding='same') (c10)\n",
    "u11 = concatenate([u11, c1], axis=3)\n",
    "c11 = Conv2D(16, (3, 3), activation='relu', kernel_initializer='he_normal', padding='same') (u11)\n",
    "c11 = Dropout(0.1) (c11)\n",
    "c11 = Conv2D(16, (3, 3), activation='relu', kernel_initializer='he_normal', padding='same') (c11)\n",
    "\n",
    "outputs = Conv2D(1, (1, 1), activation='sigmoid') (c11)\n",
    "\n",
    "model = Model(inputs=[inputs], outputs=[outputs])\n",
    "model = multi_gpu_model(model, gpus=4)\n",
    "optimize = optimizers.Adam(lr = 0.001,epsilon = 1e-8)\n",
    "model.compile(optimizer=optimize, loss='binary_crossentropy', metrics=['acc'])"
   ]
  },
  {
   "cell_type": "markdown",
   "metadata": {},
   "source": [
    "E) Fit the model to the training data"
   ]
  },
  {
   "cell_type": "code",
   "execution_count": 13,
   "metadata": {
    "scrolled": true
   },
   "outputs": [
    {
     "name": "stdout",
     "output_type": "stream",
     "text": [
      "Train on 7040 samples, validate on 1761 samples\n"
     ]
    },
    {
     "name": "stderr",
     "output_type": "stream",
     "text": [
      "W0717 18:03:15.069869 140579673204480 deprecation_wrapper.py:119] From /home/anirudh/.myenv/lib/python3.5/site-packages/keras/callbacks.py:850: The name tf.summary.merge_all is deprecated. Please use tf.compat.v1.summary.merge_all instead.\n",
      "\n",
      "W0717 18:03:15.071041 140579673204480 deprecation_wrapper.py:119] From /home/anirudh/.myenv/lib/python3.5/site-packages/keras/callbacks.py:853: The name tf.summary.FileWriter is deprecated. Please use tf.compat.v1.summary.FileWriter instead.\n",
      "\n"
     ]
    },
    {
     "name": "stdout",
     "output_type": "stream",
     "text": [
      "Epoch 1/208\n",
      "7040/7040 [==============================] - 17s 2ms/step - loss: 0.4337 - acc: 0.7836 - val_loss: 0.5111 - val_acc: 0.7605\n",
      "\n",
      "Epoch 00001: val_loss improved from inf to 0.51106, saving model to afterlr0.001_again.h5\n",
      "Epoch 2/208\n",
      "7040/7040 [==============================] - 9s 1ms/step - loss: 0.2508 - acc: 0.8993 - val_loss: 0.2828 - val_acc: 0.8855\n",
      "\n",
      "Epoch 00002: val_loss improved from 0.51106 to 0.28283, saving model to afterlr0.001_again.h5\n",
      "Epoch 3/208\n",
      "7040/7040 [==============================] - 9s 1ms/step - loss: 0.2040 - acc: 0.9189 - val_loss: 0.2120 - val_acc: 0.9170\n",
      "\n",
      "Epoch 00003: val_loss improved from 0.28283 to 0.21204, saving model to afterlr0.001_again.h5\n",
      "Epoch 4/208\n",
      "7040/7040 [==============================] - 9s 1ms/step - loss: 0.1835 - acc: 0.9279 - val_loss: 0.1892 - val_acc: 0.9260\n",
      "\n",
      "Epoch 00004: val_loss improved from 0.21204 to 0.18919, saving model to afterlr0.001_again.h5\n",
      "Epoch 5/208\n",
      "7040/7040 [==============================] - 8s 1ms/step - loss: 0.1714 - acc: 0.9330 - val_loss: 0.1784 - val_acc: 0.9305\n",
      "\n",
      "Epoch 00005: val_loss improved from 0.18919 to 0.17838, saving model to afterlr0.001_again.h5\n",
      "Epoch 6/208\n",
      "7040/7040 [==============================] - 8s 1ms/step - loss: 0.1615 - acc: 0.9369 - val_loss: 0.1649 - val_acc: 0.9356\n",
      "\n",
      "Epoch 00006: val_loss improved from 0.17838 to 0.16491, saving model to afterlr0.001_again.h5\n",
      "Epoch 7/208\n",
      "7040/7040 [==============================] - 8s 1ms/step - loss: 0.1542 - acc: 0.9404 - val_loss: 0.1812 - val_acc: 0.9287\n",
      "\n",
      "Epoch 00007: val_loss did not improve from 0.16491\n",
      "Epoch 8/208\n",
      "7040/7040 [==============================] - 8s 1ms/step - loss: 0.1433 - acc: 0.9445 - val_loss: 0.1605 - val_acc: 0.9360\n",
      "\n",
      "Epoch 00008: val_loss improved from 0.16491 to 0.16046, saving model to afterlr0.001_again.h5\n",
      "Epoch 9/208\n",
      "7040/7040 [==============================] - 8s 1ms/step - loss: 0.1373 - acc: 0.9470 - val_loss: 0.1527 - val_acc: 0.9398\n",
      "\n",
      "Epoch 00009: val_loss improved from 0.16046 to 0.15271, saving model to afterlr0.001_again.h5\n",
      "Epoch 10/208\n",
      "7040/7040 [==============================] - 8s 1ms/step - loss: 0.1330 - acc: 0.9491 - val_loss: 0.1518 - val_acc: 0.9423\n",
      "\n",
      "Epoch 00010: val_loss improved from 0.15271 to 0.15182, saving model to afterlr0.001_again.h5\n",
      "Epoch 11/208\n",
      "7040/7040 [==============================] - 8s 1ms/step - loss: 0.1327 - acc: 0.9488 - val_loss: 0.1665 - val_acc: 0.9359\n",
      "\n",
      "Epoch 00011: val_loss did not improve from 0.15182\n",
      "Epoch 12/208\n",
      "7040/7040 [==============================] - 8s 1ms/step - loss: 0.1404 - acc: 0.9455 - val_loss: 0.1421 - val_acc: 0.9444\n",
      "\n",
      "Epoch 00012: val_loss improved from 0.15182 to 0.14210, saving model to afterlr0.001_again.h5\n",
      "Epoch 13/208\n",
      "7040/7040 [==============================] - 8s 1ms/step - loss: 0.1259 - acc: 0.9513 - val_loss: 0.1347 - val_acc: 0.9479\n",
      "\n",
      "Epoch 00013: val_loss improved from 0.14210 to 0.13474, saving model to afterlr0.001_again.h5\n",
      "Epoch 14/208\n",
      "7040/7040 [==============================] - 8s 1ms/step - loss: 0.1188 - acc: 0.9544 - val_loss: 0.1380 - val_acc: 0.9470\n",
      "\n",
      "Epoch 00014: val_loss did not improve from 0.13474\n",
      "Epoch 15/208\n",
      "7040/7040 [==============================] - 8s 1ms/step - loss: 0.1171 - acc: 0.9548 - val_loss: 0.1389 - val_acc: 0.9474\n",
      "\n",
      "Epoch 00015: val_loss did not improve from 0.13474\n",
      "Epoch 16/208\n",
      "7040/7040 [==============================] - 8s 1ms/step - loss: 0.1113 - acc: 0.9573 - val_loss: 0.1398 - val_acc: 0.9466\n",
      "\n",
      "Epoch 00016: val_loss did not improve from 0.13474\n",
      "Epoch 17/208\n",
      "7040/7040 [==============================] - 8s 1ms/step - loss: 0.1094 - acc: 0.9580 - val_loss: 0.1363 - val_acc: 0.9492\n",
      "\n",
      "Epoch 00017: val_loss did not improve from 0.13474\n",
      "Epoch 18/208\n",
      "7040/7040 [==============================] - 8s 1ms/step - loss: 0.1058 - acc: 0.9595 - val_loss: 0.1467 - val_acc: 0.9446\n",
      "\n",
      "Epoch 00018: val_loss did not improve from 0.13474\n",
      "Epoch 19/208\n",
      "7040/7040 [==============================] - 8s 1ms/step - loss: 0.1092 - acc: 0.9580 - val_loss: 0.1248 - val_acc: 0.9528\n",
      "\n",
      "Epoch 00019: val_loss improved from 0.13474 to 0.12481, saving model to afterlr0.001_again.h5\n",
      "Epoch 20/208\n",
      "7040/7040 [==============================] - 8s 1ms/step - loss: 0.1136 - acc: 0.9567 - val_loss: 0.1332 - val_acc: 0.9498\n",
      "\n",
      "Epoch 00020: val_loss did not improve from 0.12481\n",
      "Epoch 21/208\n",
      "7040/7040 [==============================] - 8s 1ms/step - loss: 0.0998 - acc: 0.9617 - val_loss: 0.1219 - val_acc: 0.9543\n",
      "\n",
      "Epoch 00021: val_loss improved from 0.12481 to 0.12192, saving model to afterlr0.001_again.h5\n",
      "Epoch 22/208\n",
      "7040/7040 [==============================] - 8s 1ms/step - loss: 0.0942 - acc: 0.9638 - val_loss: 0.1237 - val_acc: 0.9552\n",
      "\n",
      "Epoch 00022: val_loss did not improve from 0.12192\n",
      "Epoch 23/208\n",
      "7040/7040 [==============================] - 8s 1ms/step - loss: 0.0915 - acc: 0.9649 - val_loss: 0.1234 - val_acc: 0.9541\n",
      "\n",
      "Epoch 00023: val_loss did not improve from 0.12192\n",
      "Epoch 24/208\n",
      "7040/7040 [==============================] - 8s 1ms/step - loss: 0.0875 - acc: 0.9665 - val_loss: 0.1421 - val_acc: 0.9512\n",
      "\n",
      "Epoch 00024: val_loss did not improve from 0.12192\n",
      "Epoch 25/208\n",
      "7040/7040 [==============================] - 8s 1ms/step - loss: 0.0851 - acc: 0.9673 - val_loss: 0.1267 - val_acc: 0.9562\n",
      "\n",
      "Epoch 00025: val_loss did not improve from 0.12192\n",
      "Epoch 26/208\n",
      "7040/7040 [==============================] - 8s 1ms/step - loss: 0.0826 - acc: 0.9683 - val_loss: 0.1261 - val_acc: 0.9552\n",
      "\n",
      "Epoch 00026: val_loss did not improve from 0.12192\n",
      "Epoch 27/208\n",
      "7040/7040 [==============================] - 8s 1ms/step - loss: 0.0826 - acc: 0.9684 - val_loss: 0.1194 - val_acc: 0.9571\n",
      "\n",
      "Epoch 00027: val_loss improved from 0.12192 to 0.11938, saving model to afterlr0.001_again.h5\n",
      "Epoch 28/208\n",
      "7040/7040 [==============================] - 8s 1ms/step - loss: 0.0821 - acc: 0.9685 - val_loss: 0.1308 - val_acc: 0.9554\n",
      "\n",
      "Epoch 00028: val_loss did not improve from 0.11938\n",
      "Epoch 29/208\n",
      "7040/7040 [==============================] - 8s 1ms/step - loss: 0.0897 - acc: 0.9658 - val_loss: 0.1283 - val_acc: 0.9532\n",
      "\n",
      "Epoch 00029: val_loss did not improve from 0.11938\n",
      "Epoch 30/208\n",
      "7040/7040 [==============================] - 8s 1ms/step - loss: 0.0952 - acc: 0.9638 - val_loss: 0.1244 - val_acc: 0.9547\n",
      "\n",
      "Epoch 00030: val_loss did not improve from 0.11938\n",
      "Epoch 31/208\n",
      "7040/7040 [==============================] - 8s 1ms/step - loss: 0.1002 - acc: 0.9619 - val_loss: 0.1281 - val_acc: 0.9525\n",
      "\n",
      "Epoch 00031: val_loss did not improve from 0.11938\n",
      "Epoch 32/208\n",
      "7040/7040 [==============================] - 8s 1ms/step - loss: 0.1066 - acc: 0.9590 - val_loss: 0.1202 - val_acc: 0.9562\n",
      "\n",
      "Epoch 00032: val_loss did not improve from 0.11938\n",
      "Epoch 33/208\n",
      "7040/7040 [==============================] - 8s 1ms/step - loss: 0.0831 - acc: 0.9681 - val_loss: 0.1296 - val_acc: 0.9544\n",
      "\n",
      "Epoch 00033: val_loss did not improve from 0.11938\n",
      "Epoch 34/208\n",
      "7040/7040 [==============================] - 8s 1ms/step - loss: 0.0769 - acc: 0.9706 - val_loss: 0.1267 - val_acc: 0.9570\n",
      "\n",
      "Epoch 00034: val_loss did not improve from 0.11938\n",
      "Epoch 35/208\n",
      "7040/7040 [==============================] - 8s 1ms/step - loss: 0.0747 - acc: 0.9713 - val_loss: 0.1217 - val_acc: 0.9580\n",
      "\n",
      "Epoch 00035: val_loss did not improve from 0.11938\n",
      "Epoch 36/208\n",
      "7040/7040 [==============================] - 8s 1ms/step - loss: 0.0733 - acc: 0.9719 - val_loss: 0.1217 - val_acc: 0.9578\n",
      "\n",
      "Epoch 00036: val_loss did not improve from 0.11938\n",
      "Epoch 37/208\n",
      "7040/7040 [==============================] - 8s 1ms/step - loss: 0.0877 - acc: 0.9668 - val_loss: 0.1313 - val_acc: 0.9523\n",
      "\n",
      "Epoch 00037: val_loss did not improve from 0.11938\n",
      "Epoch 38/208\n",
      "7040/7040 [==============================] - 8s 1ms/step - loss: 0.0954 - acc: 0.9639 - val_loss: 0.1135 - val_acc: 0.9597\n",
      "\n",
      "Epoch 00038: val_loss improved from 0.11938 to 0.11354, saving model to afterlr0.001_again.h5\n",
      "Epoch 39/208\n",
      "7040/7040 [==============================] - 8s 1ms/step - loss: 0.0842 - acc: 0.9679 - val_loss: 0.1268 - val_acc: 0.9549\n",
      "\n",
      "Epoch 00039: val_loss did not improve from 0.11354\n",
      "Epoch 40/208\n",
      "7040/7040 [==============================] - 8s 1ms/step - loss: 0.0789 - acc: 0.9698 - val_loss: 0.1171 - val_acc: 0.9581\n",
      "\n",
      "Epoch 00040: val_loss did not improve from 0.11354\n",
      "Epoch 41/208\n"
     ]
    },
    {
     "name": "stdout",
     "output_type": "stream",
     "text": [
      "7040/7040 [==============================] - 8s 1ms/step - loss: 0.0719 - acc: 0.9725 - val_loss: 0.1179 - val_acc: 0.9591\n",
      "\n",
      "Epoch 00041: val_loss did not improve from 0.11354\n",
      "Epoch 42/208\n",
      "7040/7040 [==============================] - 8s 1ms/step - loss: 0.0704 - acc: 0.9731 - val_loss: 0.1171 - val_acc: 0.9594\n",
      "\n",
      "Epoch 00042: val_loss did not improve from 0.11354\n",
      "Epoch 43/208\n",
      "7040/7040 [==============================] - 8s 1ms/step - loss: 0.0696 - acc: 0.9733 - val_loss: 0.1202 - val_acc: 0.9589\n",
      "\n",
      "Epoch 00043: val_loss did not improve from 0.11354\n",
      "Epoch 44/208\n",
      "7040/7040 [==============================] - 8s 1ms/step - loss: 0.0684 - acc: 0.9738 - val_loss: 0.1186 - val_acc: 0.9601\n",
      "\n",
      "Epoch 00044: val_loss did not improve from 0.11354\n",
      "Epoch 45/208\n",
      "7040/7040 [==============================] - 8s 1ms/step - loss: 0.0668 - acc: 0.9744 - val_loss: 0.1253 - val_acc: 0.9589\n",
      "\n",
      "Epoch 00045: val_loss did not improve from 0.11354\n",
      "Epoch 46/208\n",
      "7040/7040 [==============================] - 8s 1ms/step - loss: 0.0661 - acc: 0.9747 - val_loss: 0.1209 - val_acc: 0.9593\n",
      "\n",
      "Epoch 00046: val_loss did not improve from 0.11354\n",
      "Epoch 47/208\n",
      "7040/7040 [==============================] - 8s 1ms/step - loss: 0.0663 - acc: 0.9746 - val_loss: 0.1208 - val_acc: 0.9608\n",
      "\n",
      "Epoch 00047: val_loss did not improve from 0.11354\n",
      "Epoch 48/208\n",
      "7040/7040 [==============================] - 8s 1ms/step - loss: 0.0660 - acc: 0.9748 - val_loss: 0.1166 - val_acc: 0.9599\n",
      "\n",
      "Epoch 00048: val_loss did not improve from 0.11354\n",
      "Epoch 49/208\n",
      "7040/7040 [==============================] - 8s 1ms/step - loss: 0.0657 - acc: 0.9748 - val_loss: 0.1208 - val_acc: 0.9606\n",
      "\n",
      "Epoch 00049: val_loss did not improve from 0.11354\n",
      "Epoch 50/208\n",
      "7040/7040 [==============================] - 8s 1ms/step - loss: 0.0647 - acc: 0.9751 - val_loss: 0.1187 - val_acc: 0.9599\n",
      "\n",
      "Epoch 00050: val_loss did not improve from 0.11354\n",
      "Epoch 51/208\n",
      "7040/7040 [==============================] - 8s 1ms/step - loss: 0.0654 - acc: 0.9750 - val_loss: 0.1254 - val_acc: 0.9581\n",
      "\n",
      "Epoch 00051: val_loss did not improve from 0.11354\n",
      "Epoch 52/208\n",
      "7040/7040 [==============================] - 8s 1ms/step - loss: 0.0637 - acc: 0.9756 - val_loss: 0.1257 - val_acc: 0.9601\n",
      "\n",
      "Epoch 00052: val_loss did not improve from 0.11354\n",
      "Epoch 53/208\n",
      "7040/7040 [==============================] - 8s 1ms/step - loss: 0.0639 - acc: 0.9755 - val_loss: 0.1165 - val_acc: 0.9616\n",
      "\n",
      "Epoch 00053: val_loss did not improve from 0.11354\n",
      "Epoch 54/208\n",
      "7040/7040 [==============================] - 8s 1ms/step - loss: 0.0734 - acc: 0.9720 - val_loss: 0.1296 - val_acc: 0.9553\n",
      "\n",
      "Epoch 00054: val_loss did not improve from 0.11354\n",
      "Epoch 55/208\n",
      "7040/7040 [==============================] - 8s 1ms/step - loss: 0.0991 - acc: 0.9625 - val_loss: 0.1141 - val_acc: 0.9589\n",
      "\n",
      "Epoch 00055: val_loss did not improve from 0.11354\n",
      "Epoch 56/208\n",
      "7040/7040 [==============================] - 8s 1ms/step - loss: 0.0739 - acc: 0.9719 - val_loss: 0.1135 - val_acc: 0.9609\n",
      "\n",
      "Epoch 00056: val_loss improved from 0.11354 to 0.11353, saving model to afterlr0.001_again.h5\n",
      "Epoch 57/208\n",
      "7040/7040 [==============================] - 8s 1ms/step - loss: 0.0682 - acc: 0.9739 - val_loss: 0.1207 - val_acc: 0.9573\n",
      "\n",
      "Epoch 00057: val_loss did not improve from 0.11353\n",
      "Epoch 58/208\n",
      "7040/7040 [==============================] - 8s 1ms/step - loss: 0.0676 - acc: 0.9743 - val_loss: 0.1103 - val_acc: 0.9623\n",
      "\n",
      "Epoch 00058: val_loss improved from 0.11353 to 0.11032, saving model to afterlr0.001_again.h5\n",
      "Epoch 59/208\n",
      "7040/7040 [==============================] - 8s 1ms/step - loss: 0.0631 - acc: 0.9758 - val_loss: 0.1189 - val_acc: 0.9604\n",
      "\n",
      "Epoch 00059: val_loss did not improve from 0.11032\n",
      "Epoch 60/208\n",
      "7040/7040 [==============================] - 8s 1ms/step - loss: 0.0636 - acc: 0.9757 - val_loss: 0.1210 - val_acc: 0.9580\n",
      "\n",
      "Epoch 00060: val_loss did not improve from 0.11032\n",
      "Epoch 61/208\n",
      "7040/7040 [==============================] - 8s 1ms/step - loss: 0.0646 - acc: 0.9753 - val_loss: 0.1222 - val_acc: 0.9603\n",
      "\n",
      "Epoch 00061: val_loss did not improve from 0.11032\n",
      "Epoch 62/208\n",
      "7040/7040 [==============================] - 8s 1ms/step - loss: 0.0635 - acc: 0.9756 - val_loss: 0.1428 - val_acc: 0.9559\n",
      "\n",
      "Epoch 00062: val_loss did not improve from 0.11032\n",
      "Epoch 63/208\n",
      "7040/7040 [==============================] - 8s 1ms/step - loss: 0.0644 - acc: 0.9755 - val_loss: 0.1281 - val_acc: 0.9575\n",
      "\n",
      "Epoch 00063: val_loss did not improve from 0.11032\n",
      "Epoch 64/208\n",
      "7040/7040 [==============================] - 8s 1ms/step - loss: 0.0621 - acc: 0.9762 - val_loss: 0.1195 - val_acc: 0.9614\n",
      "\n",
      "Epoch 00064: val_loss did not improve from 0.11032\n",
      "Epoch 65/208\n",
      "7040/7040 [==============================] - 8s 1ms/step - loss: 0.0607 - acc: 0.9767 - val_loss: 0.1175 - val_acc: 0.9620\n",
      "\n",
      "Epoch 00065: val_loss did not improve from 0.11032\n",
      "Epoch 66/208\n",
      "7040/7040 [==============================] - 8s 1ms/step - loss: 0.0592 - acc: 0.9773 - val_loss: 0.1159 - val_acc: 0.9629\n",
      "\n",
      "Epoch 00066: val_loss did not improve from 0.11032\n",
      "Epoch 67/208\n",
      "7040/7040 [==============================] - 8s 1ms/step - loss: 0.0585 - acc: 0.9775 - val_loss: 0.1253 - val_acc: 0.9608\n",
      "\n",
      "Epoch 00067: val_loss did not improve from 0.11032\n",
      "Epoch 68/208\n",
      "7040/7040 [==============================] - 8s 1ms/step - loss: 0.0579 - acc: 0.9777 - val_loss: 0.1157 - val_acc: 0.9632\n",
      "\n",
      "Epoch 00068: val_loss did not improve from 0.11032\n",
      "Epoch 69/208\n",
      "7040/7040 [==============================] - 8s 1ms/step - loss: 0.0580 - acc: 0.9777 - val_loss: 0.1184 - val_acc: 0.9617\n",
      "\n",
      "Epoch 00069: val_loss did not improve from 0.11032\n",
      "Epoch 70/208\n",
      "7040/7040 [==============================] - 8s 1ms/step - loss: 0.0591 - acc: 0.9773 - val_loss: 0.1192 - val_acc: 0.9618\n",
      "\n",
      "Epoch 00070: val_loss did not improve from 0.11032\n",
      "Epoch 71/208\n",
      "7040/7040 [==============================] - 8s 1ms/step - loss: 0.0578 - acc: 0.9778 - val_loss: 0.1179 - val_acc: 0.9624\n",
      "\n",
      "Epoch 00071: val_loss did not improve from 0.11032\n",
      "Epoch 72/208\n",
      "7040/7040 [==============================] - 8s 1ms/step - loss: 0.0577 - acc: 0.9778 - val_loss: 0.1231 - val_acc: 0.9619\n",
      "\n",
      "Epoch 00072: val_loss did not improve from 0.11032\n",
      "Epoch 73/208\n",
      "7040/7040 [==============================] - 8s 1ms/step - loss: 0.0578 - acc: 0.9778 - val_loss: 0.1190 - val_acc: 0.9630\n",
      "\n",
      "Epoch 00073: val_loss did not improve from 0.11032\n",
      "Epoch 74/208\n",
      "7040/7040 [==============================] - 8s 1ms/step - loss: 0.0574 - acc: 0.9780 - val_loss: 0.1098 - val_acc: 0.9631\n",
      "\n",
      "Epoch 00074: val_loss improved from 0.11032 to 0.10983, saving model to afterlr0.001_again.h5\n",
      "Epoch 75/208\n",
      "7040/7040 [==============================] - 8s 1ms/step - loss: 0.0600 - acc: 0.9770 - val_loss: 0.1183 - val_acc: 0.9585\n",
      "\n",
      "Epoch 00075: val_loss did not improve from 0.10983\n",
      "Epoch 76/208\n",
      "7040/7040 [==============================] - 8s 1ms/step - loss: 0.0660 - acc: 0.9748 - val_loss: 0.1167 - val_acc: 0.9593\n",
      "\n",
      "Epoch 00076: val_loss did not improve from 0.10983\n",
      "Epoch 77/208\n",
      "7040/7040 [==============================] - 8s 1ms/step - loss: 0.0630 - acc: 0.9759 - val_loss: 0.1228 - val_acc: 0.9604\n",
      "\n",
      "Epoch 00077: val_loss did not improve from 0.10983\n",
      "Epoch 78/208\n",
      "7040/7040 [==============================] - 8s 1ms/step - loss: 0.0655 - acc: 0.9749 - val_loss: 0.1146 - val_acc: 0.9590\n",
      "\n",
      "Epoch 00078: val_loss did not improve from 0.10983\n",
      "Epoch 79/208\n",
      "7040/7040 [==============================] - 8s 1ms/step - loss: 0.0809 - acc: 0.9697 - val_loss: 0.1150 - val_acc: 0.9587\n",
      "\n",
      "Epoch 00079: val_loss did not improve from 0.10983\n",
      "Epoch 80/208\n",
      "7040/7040 [==============================] - 8s 1ms/step - loss: 0.0673 - acc: 0.9744 - val_loss: 0.1149 - val_acc: 0.9614\n",
      "\n",
      "Epoch 00080: val_loss did not improve from 0.10983\n",
      "Epoch 81/208\n",
      "7040/7040 [==============================] - 8s 1ms/step - loss: 0.0609 - acc: 0.9768 - val_loss: 0.1171 - val_acc: 0.9627\n",
      "\n",
      "Epoch 00081: val_loss did not improve from 0.10983\n",
      "Epoch 82/208\n",
      "7040/7040 [==============================] - 8s 1ms/step - loss: 0.0590 - acc: 0.9774 - val_loss: 0.1393 - val_acc: 0.9557\n",
      "\n",
      "Epoch 00082: val_loss did not improve from 0.10983\n",
      "Epoch 83/208\n",
      "7040/7040 [==============================] - 8s 1ms/step - loss: 0.0599 - acc: 0.9771 - val_loss: 0.1297 - val_acc: 0.9599\n",
      "\n",
      "Epoch 00083: val_loss did not improve from 0.10983\n",
      "Epoch 84/208\n"
     ]
    },
    {
     "name": "stdout",
     "output_type": "stream",
     "text": [
      "7040/7040 [==============================] - 8s 1ms/step - loss: 0.0563 - acc: 0.9784 - val_loss: 0.1321 - val_acc: 0.9605\n",
      "\n",
      "Epoch 00084: val_loss did not improve from 0.10983\n",
      "Epoch 85/208\n",
      "7040/7040 [==============================] - 8s 1ms/step - loss: 0.0552 - acc: 0.9788 - val_loss: 0.1219 - val_acc: 0.9620\n",
      "\n",
      "Epoch 00085: val_loss did not improve from 0.10983\n",
      "Epoch 86/208\n",
      "7040/7040 [==============================] - 8s 1ms/step - loss: 0.0552 - acc: 0.9788 - val_loss: 0.1258 - val_acc: 0.9611\n",
      "\n",
      "Epoch 00086: val_loss did not improve from 0.10983\n",
      "Epoch 87/208\n",
      "7040/7040 [==============================] - 8s 1ms/step - loss: 0.0539 - acc: 0.9793 - val_loss: 0.1253 - val_acc: 0.9614\n",
      "\n",
      "Epoch 00087: val_loss did not improve from 0.10983\n",
      "Epoch 88/208\n",
      "7040/7040 [==============================] - 8s 1ms/step - loss: 0.0637 - acc: 0.9758 - val_loss: 0.1265 - val_acc: 0.9603\n",
      "\n",
      "Epoch 00088: val_loss did not improve from 0.10983\n",
      "Epoch 89/208\n",
      "7040/7040 [==============================] - 8s 1ms/step - loss: 0.0655 - acc: 0.9749 - val_loss: 0.1107 - val_acc: 0.9622\n",
      "\n",
      "Epoch 00089: val_loss did not improve from 0.10983\n",
      "Epoch 90/208\n",
      "7040/7040 [==============================] - 8s 1ms/step - loss: 0.0585 - acc: 0.9775 - val_loss: 0.1149 - val_acc: 0.9628\n",
      "\n",
      "Epoch 00090: val_loss did not improve from 0.10983\n",
      "Epoch 91/208\n",
      "7040/7040 [==============================] - 8s 1ms/step - loss: 0.0553 - acc: 0.9787 - val_loss: 0.1151 - val_acc: 0.9631\n",
      "\n",
      "Epoch 00091: val_loss did not improve from 0.10983\n",
      "Epoch 92/208\n",
      "7040/7040 [==============================] - 8s 1ms/step - loss: 0.0543 - acc: 0.9792 - val_loss: 0.1158 - val_acc: 0.9634\n",
      "\n",
      "Epoch 00092: val_loss did not improve from 0.10983\n",
      "Epoch 93/208\n",
      "7040/7040 [==============================] - 8s 1ms/step - loss: 0.0535 - acc: 0.9794 - val_loss: 0.1171 - val_acc: 0.9628\n",
      "\n",
      "Epoch 00093: val_loss did not improve from 0.10983\n",
      "Epoch 94/208\n",
      "7040/7040 [==============================] - 8s 1ms/step - loss: 0.0531 - acc: 0.9796 - val_loss: 0.1158 - val_acc: 0.9630\n",
      "\n",
      "Epoch 00094: val_loss did not improve from 0.10983\n",
      "Epoch 95/208\n",
      "7040/7040 [==============================] - 8s 1ms/step - loss: 0.0527 - acc: 0.9797 - val_loss: 0.1128 - val_acc: 0.9640\n",
      "\n",
      "Epoch 00095: val_loss did not improve from 0.10983\n",
      "Epoch 96/208\n",
      "7040/7040 [==============================] - 8s 1ms/step - loss: 0.0521 - acc: 0.9800 - val_loss: 0.1167 - val_acc: 0.9630\n",
      "\n",
      "Epoch 00096: val_loss did not improve from 0.10983\n",
      "Epoch 97/208\n",
      "7040/7040 [==============================] - 8s 1ms/step - loss: 0.0525 - acc: 0.9798 - val_loss: 0.1192 - val_acc: 0.9631\n",
      "\n",
      "Epoch 00097: val_loss did not improve from 0.10983\n",
      "Epoch 98/208\n",
      "7040/7040 [==============================] - 8s 1ms/step - loss: 0.0545 - acc: 0.9791 - val_loss: 0.1169 - val_acc: 0.9632\n",
      "\n",
      "Epoch 00098: val_loss did not improve from 0.10983\n",
      "Epoch 99/208\n",
      "7040/7040 [==============================] - 8s 1ms/step - loss: 0.0661 - acc: 0.9749 - val_loss: 0.1152 - val_acc: 0.9620\n",
      "\n",
      "Epoch 00099: val_loss did not improve from 0.10983\n",
      "Epoch 100/208\n",
      "7040/7040 [==============================] - 8s 1ms/step - loss: 0.0552 - acc: 0.9788 - val_loss: 0.1153 - val_acc: 0.9641\n",
      "\n",
      "Epoch 00100: val_loss did not improve from 0.10983\n",
      "Epoch 101/208\n",
      "7040/7040 [==============================] - 8s 1ms/step - loss: 0.0537 - acc: 0.9793 - val_loss: 0.1204 - val_acc: 0.9632\n",
      "\n",
      "Epoch 00101: val_loss did not improve from 0.10983\n",
      "Epoch 102/208\n",
      "7040/7040 [==============================] - 9s 1ms/step - loss: 0.0539 - acc: 0.9793 - val_loss: 0.1194 - val_acc: 0.9628\n",
      "\n",
      "Epoch 00102: val_loss did not improve from 0.10983\n",
      "Epoch 103/208\n",
      "7040/7040 [==============================] - 8s 1ms/step - loss: 0.0526 - acc: 0.9797 - val_loss: 0.1180 - val_acc: 0.9643\n",
      "\n",
      "Epoch 00103: val_loss did not improve from 0.10983\n",
      "Epoch 104/208\n",
      "7040/7040 [==============================] - 8s 1ms/step - loss: 0.0560 - acc: 0.9785 - val_loss: 0.1259 - val_acc: 0.9583\n",
      "\n",
      "Epoch 00104: val_loss did not improve from 0.10983\n",
      "Epoch 00104: early stopping\n"
     ]
    }
   ],
   "source": [
    "earlystopper = EarlyStopping(patience=30, verbose=1)\n",
    "checkpointer = ModelCheckpoint('afterlr0.001_again.h5', verbose=1, save_best_only=True)\n",
    "results = model.fit(X_train, Y_train, validation_split=0.20, batch_size=64, epochs=208, shuffle=True, \n",
    "                    callbacks=[earlystopper, checkpointer, cb,tensorboard_callback])"
   ]
  },
  {
   "cell_type": "code",
   "execution_count": 21,
   "metadata": {},
   "outputs": [],
   "source": [
    "a =results.history['val_acc']\n",
    "b = results.history['val_loss']\n"
   ]
  },
  {
   "cell_type": "code",
   "execution_count": 16,
   "metadata": {},
   "outputs": [
    {
     "name": "stdout",
     "output_type": "stream",
     "text": [
      "The tensorboard extension is already loaded. To reload it, use:\n",
      "  %reload_ext tensorboard\n"
     ]
    }
   ],
   "source": [
    "%load_ext tensorboard"
   ]
  },
  {
   "cell_type": "code",
   "execution_count": 19,
   "metadata": {},
   "outputs": [
    {
     "data": {
      "text/plain": [
       "ERROR: Failed to launch TensorBoard (exited with 1).\n",
       "Contents of stderr:\n",
       "Traceback (most recent call last):\n",
       "  File \"/home/anirudh/.myenv/bin/tensorboard\", line 10, in <module>\n",
       "    sys.exit(run_main())\n",
       "  File \"/home/anirudh/.myenv/lib/python3.5/site-packages/tensorboard/main.py\", line 64, in run_main\n",
       "    app.run(tensorboard.main, flags_parser=tensorboard.configure)\n",
       "  File \"/home/anirudh/.myenv/lib/python3.5/site-packages/absl/app.py\", line 300, in run\n",
       "    _run_main(main, args)\n",
       "  File \"/home/anirudh/.myenv/lib/python3.5/site-packages/absl/app.py\", line 251, in _run_main\n",
       "    sys.exit(main(argv))\n",
       "  File \"/home/anirudh/.myenv/lib/python3.5/site-packages/tensorboard/program.py\", line 228, in main\n",
       "    server = self._make_server()\n",
       "  File \"/home/anirudh/.myenv/lib/python3.5/site-packages/tensorboard/program.py\", line 309, in _make_server\n",
       "    self.assets_zip_provider)\n",
       "  File \"/home/anirudh/.myenv/lib/python3.5/site-packages/tensorboard/backend/application.py\", line 161, in standard_tensorboard_wsgi\n",
       "    reload_task)\n",
       "  File \"/home/anirudh/.myenv/lib/python3.5/site-packages/tensorboard/backend/application.py\", line 194, in TensorBoardWSGIApp\n",
       "    return TensorBoardWSGI(plugins, path_prefix)\n",
       "  File \"/home/anirudh/.myenv/lib/python3.5/site-packages/tensorboard/backend/application.py\", line 245, in __init__\n",
       "    raise ValueError('Duplicate plugins for name %s' % plugin.plugin_name)\n",
       "ValueError: Duplicate plugins for name projector"
      ]
     },
     "metadata": {},
     "output_type": "display_data"
    }
   ],
   "source": [
    "%tensorboard --logdir logs/scalars"
   ]
  },
  {
   "cell_type": "markdown",
   "metadata": {},
   "source": [
    "F) Output training results"
   ]
  },
  {
   "cell_type": "code",
   "execution_count": 22,
   "metadata": {},
   "outputs": [
    {
     "data": {
      "image/png": "[encoded data removed]",
      "text/plain": [
       "<Figure size 432x288 with 1 Axes>"
      ]
     },
     "metadata": {
      "needs_background": "light"
     },
     "output_type": "display_data"
    },
    {
     "data": {
      "image/png": "[encoded data removed]",
      "text/plain": [
       "<Figure size 432x288 with 1 Axes>"
      ]
     },
     "metadata": {
      "needs_background": "light"
     },
     "output_type": "display_data"
    }
   ],
   "source": [
    "# Summarize history for loss\n",
    "plt.plot(results.history['loss'])\n",
    "plt.plot(results.history['val_loss'])\n",
    "plt.title('val loss min at '+ str(b.index(min(b)))+' : ' + str(min(b)))\n",
    "plt.ylabel('loss')\n",
    "plt.xlabel('epoch')\n",
    "plt.legend(['train', 'test'], loc='upper left')\n",
    "plt.show()\n",
    "\n",
    "# Summarize history for mean_iou\n",
    "plt.plot(results.history['acc'])\n",
    "plt.plot(results.history['val_acc'])\n",
    "plt.title('val accuracy max at '+ str(a.index(max(a)))+' : ' + str(max(a)))\n",
    "plt.ylabel('accuracy')\n",
    "plt.xlabel('epoch')\n",
    "plt.legend(['train', 'test'], loc='upper left')\n",
    "plt.show()\n",
    "\n",
    "# Results and Plots\n",
    "# model.summary()\n",
    "# print(\"UNET ARCHITECTURE\")\n",
    "# print (\"-------------------------------------------------------------\")\n",
    "# print(\"Total num of training images: %d\" % len(train_ids))\n",
    "# print(\"Max num of epochs: %d\" % 50)\n",
    "# print(\"Optimizer: %s\" % 'ADAM')\n",
    "# print(\"Batch size: %d\" % 64)\n",
    "# print(\"Loss function: %s\" % 'Binary Cross-Entropy')\n",
    "# print(\"Validation data percentage: %d\" % 10)\n",
    "# # print(\"Early stoppping: %s\" % 'Yes')\n",
    "\n",
    "# a = results.history[\"acc\"]\n",
    "# b = results.history[\"loss\"]\n",
    "# c = results.history[\"val_acc\"]\n",
    "# d = results.history[\"val_loss\"]\n",
    "# e = cb.times\n",
    "# print (\"-------------------------------------------------------------\")\n",
    "# header = \"#\"+\"    \"+\"Time sec\"+\"      \"+\"Tr_acc\"+\"     \"+\"Tr_loss\"+\"      \"+\"Vl_acc\"+\"     \"+\"Vl_loss\"\n",
    "# print(header)\n",
    "# print (\"-------------------------------------------------------------\")\n",
    "# for l in range(ep):\n",
    "#     str = \"%d\\t\\t%f\\t\\t%f\\t\\t%f\\t\\t%f\\t\\t%f\" % (l, round(e[l],4),round(a[l],4),round(b[l],4),round(c[l],4),d[l])\n",
    "#     print (str.expandtabs(2))\n",
    "# print (\"-------------------------------------------------------------\")"
   ]
  },
  {
   "cell_type": "markdown",
   "metadata": {},
   "source": [
    "G) Test against training and validation samples"
   ]
  },
  {
   "cell_type": "code",
   "execution_count": null,
   "metadata": {
    "scrolled": true
   },
   "outputs": [],
   "source": [
    "model = load_model('trainingonlr0.001.h5', custom_objects={'mean_iou': mean_iou})\n",
    "preds_train = model.predict(X_train[:int(X_train.shape[0]*0.8)], verbose=1)\n",
    "preds_val = model.predict(X_train[int(X_train.shape[0]*0.8):], verbose=1)\n",
    "\n",
    "preds_train_t = (preds_train > 0.5).astype(np.uint8)\n",
    "preds_val_t = (preds_val > 0.5).astype(np.uint8)"
   ]
  },
  {
   "cell_type": "markdown",
   "metadata": {},
   "source": [
    "H) See predicted masks for training samples"
   ]
  },
  {
   "cell_type": "code",
   "execution_count": null,
   "metadata": {
    "scrolled": false
   },
   "outputs": [],
   "source": [
    "ix = random.randint(0, len(preds_train_t))\n",
    "imshow(X_train[ix])\n",
    "plt.show()\n",
    "imshow(np.squeeze(Y_train[ix]))\n",
    "plt.show()\n",
    "imshow(np.squeeze(preds_train_t[ix]))\n",
    "plt.show()"
   ]
  },
  {
   "cell_type": "markdown",
   "metadata": {},
   "source": [
    "I) See predicted masks for validation data"
   ]
  },
  {
   "cell_type": "code",
   "execution_count": null,
   "metadata": {},
   "outputs": [],
   "source": [
    "ix = random.randint(0, len(preds_val_t))\n",
    "imshow(X_train[int(X_train.shape[0]*0.7):][ix])\n",
    "plt.show()\n",
    "imshow(np.squeeze(Y_train[int(Y_train.shape[0]*0.7):][ix]))\n",
    "plt.show()\n",
    "imshow(np.squeeze(preds_val_t[ix]))\n",
    "plt.show()"
   ]
  },
  {
   "cell_type": "markdown",
   "metadata": {},
   "source": [
    "## J) Load model, testing data and check against trained network (if masks exist)"
   ]
  },
  {
   "cell_type": "code",
   "execution_count": null,
   "metadata": {},
   "outputs": [],
   "source": [
    "# def acc_comp(msk, preds_test_t):\n",
    "    \n",
    "#     mean_acc = np.zeros(1)\n",
    "#     mean_TP = np.zeros(1)\n",
    "#     mean_TN = np.zeros(1)\n",
    "#     mean_FP = np.zeros(1)\n",
    "#     mean_FN = np.zeros(1)\n",
    "    \n",
    "#     for j in range(msk.shape[0]):\n",
    "#         act = msk[j]\n",
    "#         pr = preds_test_t[j].reshape(IMG_WIDTH, IMG_HEIGHT)\n",
    "    \n",
    "#         c = act == pr \n",
    "#         d = act & pr \n",
    "#         e = act | pr \n",
    "#         neg = act.sum()\n",
    "#         pos = (IMG_WIDTH*IMG_HEIGHT)-act.sum()\n",
    "    \n",
    "#         TP = round(float(d.sum()),6)\n",
    "#         FP = round(float(pr.sum()-d.sum()),6)\n",
    "#         TN = round(float((IMG_WIDTH*IMG_HEIGHT)-e.sum()),6)\n",
    "#         FN = round(float(e.sum()-pr.sum()),6)\n",
    "#         acc = round(float(c.sum())/(IMG_WIDTH*IMG_HEIGHT),6)\n",
    "\n",
    "#         #acc2 = float(TP+TN)/(TP+TN+FP+FN)  Used to double-check computations\n",
    "#         mean_TP = np.append([mean_TP],TP)\n",
    "#         mean_TN = np.append([mean_TN],TN)\n",
    "#         mean_acc = np.append([mean_acc],acc)\n",
    "#         mean_FP = np.append([mean_FP],FP)\n",
    "#         mean_FN = np.append([mean_FN],FN)\n",
    "    \n",
    "#     mean_acc = mean_acc[1:]\n",
    "#     mean_TP = mean_TP[1:]\n",
    "#     mean_TN = mean_TN[1:]\n",
    "#     mean_FP = mean_FP[1:]\n",
    "#     mean_FN = mean_FN[1:]\n",
    "    \n",
    "#     avg = round(mean_acc.sum()/msk.shape[0],6)\n",
    "#     std = round(np.std(mean_acc),6)\n",
    "#     overall_TP = round(mean_TP.sum()/msk.shape[0],6)\n",
    "#     overall_TN = round(mean_TN.sum()/msk.shape[0],6)\n",
    "    \n",
    "#     return (mean_acc,std,mean_TP,mean_TN,mean_FP,mean_FN)"
   ]
  },
  {
   "cell_type": "code",
   "execution_count": 14,
   "metadata": {},
   "outputs": [
    {
     "data": {
      "application/vnd.jupyter.widget-view+json": {
       "model_id": "d634408b9855436ab0695e63460bbcfb",
       "version_major": 2,
       "version_minor": 0
      },
      "text/plain": [
       "HBox(children=(IntProgress(value=0, max=200), HTML(value='')))"
      ]
     },
     "metadata": {},
     "output_type": "display_data"
    },
    {
     "name": "stdout",
     "output_type": "stream",
     "text": [
      "\n"
     ]
    },
    {
     "data": {
      "application/vnd.jupyter.widget-view+json": {
       "model_id": "762d9c166a444d8ca4da444d9549ddc8",
       "version_major": 2,
       "version_minor": 0
      },
      "text/plain": [
       "HBox(children=(IntProgress(value=0, max=200), HTML(value='')))"
      ]
     },
     "metadata": {},
     "output_type": "display_data"
    },
    {
     "name": "stdout",
     "output_type": "stream",
     "text": [
      "\n"
     ]
    }
   ],
   "source": [
    "# model = load_model('withabdomen.h5', custom_objects={'mean_iou': mean_iou})\n",
    "# ABD_PATH = '../Input/Skin_Datasets/Test/FSD-ECU-100/original_images/'\n",
    "# MSK_PATH = '../Input/Skin_Datasets/Test/FSD-ECU-100/skin_masks/'\n",
    "\n",
    "ABD_PATH = '../Input/Skin_Datasets/Test/Abdomen-200/original_images/'\n",
    "MSK_PATH = '../Input/Skin_Datasets/Test/Abdomen-200/skin_masks/'\n",
    "\n",
    "\n",
    "abd_ids = next(os.walk(ABD_PATH))[2]\n",
    "msk_ids = next(os.walk(MSK_PATH))[2]\n",
    "abd_ids.sort()\n",
    "msk_ids.sort()\n",
    "\n",
    "abd = np.zeros((len(abd_ids), IMG_HEIGHT, IMG_WIDTH, IMG_CHANNELS), dtype=np.uint8)\n",
    "msk = np.zeros((len(msk_ids), IMG_HEIGHT, IMG_WIDTH), dtype=np.uint8)\n",
    "\n",
    "sys.stdout.flush()\n",
    "for n, id_ in tqdm(enumerate(abd_ids), total=len(abd_ids)):\n",
    "    path = ABD_PATH + id_\n",
    "    img = imread(path)[:,:,:IMG_CHANNELS]\n",
    "    img = resize(img, (IMG_HEIGHT, IMG_WIDTH), mode='constant', preserve_range=True)\n",
    "    abd[n] = img\n",
    "    \n",
    "for n, id_ in tqdm(enumerate(msk_ids), total=len(msk_ids)):\n",
    "    path = MSK_PATH + id_\n",
    "    img = imread(path)\n",
    "    \n",
    "    if img.ndim == 3:\n",
    "        img = img[:,:,1]\n",
    "        \n",
    "    img = resize(img, (IMG_HEIGHT, IMG_WIDTH), mode='constant', \n",
    "                                      preserve_range=True)\n",
    "    if (np.unique(img).size) > 2:\n",
    "# ABD_PATH = '../Input/Skin_Datasets/Test/Pratheepan-78/original_images/'\n",
    "# MSK_PATH = '../Input/Skin_Datasets/Test/Pratheepan-78/skin_masks/'\n",
    "\n",
    "        img = img > 30           # Important, Needed to make labels 0's and 1's only   \n",
    "    else:   \n",
    "        img = img > 0\n",
    "    img = img.astype(np.uint8)\n",
    "    msk[n] = img\n",
    "    "
   ]
  },
  {
   "cell_type": "markdown",
   "metadata": {},
   "source": [
    "## Plotting ROC Curves and Sensitivity vs Recall"
   ]
  },
  {
   "cell_type": "code",
   "execution_count": 4,
   "metadata": {},
   "outputs": [],
   "source": [
    "def getrates(msk, preds_test_t): #Takes as input 2D masks and 2D predictions\n",
    "\n",
    "    mean_tpr = []\n",
    "    mean_fpr = []\n",
    "    mean_prec = []\n",
    "    mean_rec = []\n",
    "    for j in range(msk.shape[0]):\n",
    "        act = msk[j]\n",
    "        pr = preds_test_t[j].reshape(IMG_WIDTH, IMG_HEIGHT)\n",
    "        c = act == pr #acc\n",
    "        d = act & pr #true negative\n",
    "        e = act | pr #true positive\n",
    "        neg = act.sum()\n",
    "        pos = (IMG_WIDTH*IMG_HEIGHT)-act.sum()\n",
    "    \n",
    "        TN = round(float(d.sum()),6)\n",
    "        FN = round(float(pr.sum()-d.sum()),6)\n",
    "        TP = round(float((IMG_WIDTH*IMG_HEIGHT)-e.sum()),6)\n",
    "        FP = round(float(e.sum()-pr.sum()),6)\n",
    "\n",
    "        tpr = float(TP)/(TP+FN)\n",
    "        fpr = float(FP)/(FP+TN)\n",
    "        prec = float(TP)/(TP+FP+0.0000001)\n",
    "        rec = float(TP)/(TP+FN)\n",
    "        \n",
    "        \n",
    "        mean_tpr.append(tpr)\n",
    "        mean_fpr.append(fpr)\n",
    "        mean_prec.append(prec)\n",
    "        mean_rec.append(rec)\n",
    "        \n",
    "    return mean_tpr,mean_fpr, mean_prec, mean_rec\n",
    "\n",
    "# Actual Predictions\n",
    "def calcroc(model,abd,msk): \n",
    "    preds_test = model.predict(abd[:int(abd.shape[0])], verbose=1)\n",
    "    threshs = np.linspace(0,1,11)\n",
    "    TPR = []\n",
    "    FPR=[]\n",
    "    PREC=[]\n",
    "    REC=[]\n",
    "    for i in threshs:\n",
    "        preds_test_t = (preds_test > i).astype(np.uint8)\n",
    "        mean_tpr, mean_fpr, mean_prec, mean_rec = getrates(msk, preds_test_t);\n",
    "        TPR.append(np.mean(mean_tpr))\n",
    "        FPR.append(np.mean(mean_fpr))\n",
    "        PREC.append(np.mean(mean_prec))\n",
    "        REC.append(np.mean(mean_rec))\n",
    "#     PREC.pop()\n",
    "#     REC.pop()\n",
    "    PREC= PREC[1:]\n",
    "    REC= REC[1:]\n",
    "    return TPR, FPR, PREC, REC"
   ]
  },
  {
   "cell_type": "code",
   "execution_count": 3,
   "metadata": {},
   "outputs": [
    {
     "name": "stdout",
     "output_type": "stream",
     "text": [
      "WARNING:tensorflow:From /home/anirudh/.myenv/lib/python3.5/site-packages/tensorflow/python/framework/op_def_library.py:263: colocate_with (from tensorflow.python.framework.ops) is deprecated and will be removed in a future version.\n",
      "Instructions for updating:\n",
      "Colocations handled automatically by placer.\n",
      "WARNING:tensorflow:From /home/anirudh/.myenv/lib/python3.5/site-packages/keras/backend/tensorflow_backend.py:3445: calling dropout (from tensorflow.python.ops.nn_ops) with keep_prob is deprecated and will be removed in a future version.\n",
      "Instructions for updating:\n",
      "Please use `rate` instead of `keep_prob`. Rate should be set to `rate = 1 - keep_prob`.\n",
      "WARNING:tensorflow:From /home/anirudh/.myenv/lib/python3.5/site-packages/tensorflow/python/ops/math_ops.py:3066: to_int32 (from tensorflow.python.ops.math_ops) is deprecated and will be removed in a future version.\n",
      "Instructions for updating:\n",
      "Use tf.cast instead.\n"
     ]
    }
   ],
   "source": [
    "modelabd_001 = load_model('afterlr0.001.h5', custom_objects={'mean_iou': mean_iou})\n",
    "modelabd_002 = load_model('afterlr0.002.h5', custom_objects={'mean_iou': mean_iou})\n",
    "modelnoabd = load_model('noabdomen0.001.h5', custom_objects={'mean_iou': mean_iou})"
   ]
  },
  {
   "cell_type": "code",
   "execution_count": 79,
   "metadata": {},
   "outputs": [
    {
     "name": "stdout",
     "output_type": "stream",
     "text": [
      "200/200 [==============================] - 0s 831us/step\n",
      "200/200 [==============================] - 0s 860us/step\n",
      "200/200 [==============================] - 0s 810us/step\n"
     ]
    },
    {
     "data": {
      "text/plain": [
       "<matplotlib.legend.Legend at 0x7f728003c5f8>"
      ]
     },
     "execution_count": 79,
     "metadata": {},
     "output_type": "execute_result"
    },
    {
     "data": {
      "image/png": "[encoded data removed]",
      "text/plain": [
       "<Figure size 432x288 with 1 Axes>"
      ]
     },
     "metadata": {
      "needs_background": "light"
     },
     "output_type": "display_data"
    },
    {
     "data": {
      "image/png": "[encoded data removed]",
      "text/plain": [
       "<Figure size 432x288 with 1 Axes>"
      ]
     },
     "metadata": {
      "needs_background": "light"
     },
     "output_type": "display_data"
    }
   ],
   "source": [
    "TPRabd_001, FPRabd_001, PRECabd_001, RECabd_001 = calcroc(modelabd_001,abd,msk)\n",
    "TPRabd_002, FPRabd_002, PRECabd_002, RECabd_002 = calcroc(modelabd_002,abd,msk)\n",
    "TPRnoabd, FPRnoabd, PRECnoabd, RECnoabd = calcroc(modelnoabd,abd,msk)\n",
    "\n",
    "fig, ax = plt.subplots(1,1)\n",
    "ax.plot(FPRabd_001, TPRabd_001, label='ROC curve for lr 0.001(area = %0.5f)' % auc(FPRabd_001,TPRabd_001))\n",
    "ax.plot(FPRabd_002, TPRabd_002, label='ROC curve for lr 0.002(area = %0.5f)' % auc(FPRabd_002,TPRabd_002))\n",
    "ax.plot(FPRnoabd, TPRnoabd, label='ROC curve no abdomen data(area = %0.5f)' % auc(FPRnoabd,TPRnoabd))\n",
    "ax.plot([0, 1], [0, 1], 'k--')\n",
    "ax.set_xlim([0.0, 1.0])\n",
    "ax.set_ylim([0.0, 1.05])\n",
    "ax.set_xlabel('False Positive Rate')\n",
    "ax.set_ylabel('True Positive Rate')\n",
    "ax.set_title('Receiver operating characteristic example')\n",
    "ax.legend(loc=\"lower right\")\n",
    "\n",
    "fig, ax = plt.subplots(1,1)\n",
    "ax.plot(RECabd_001, PRECabd_001, label='Precision Recall curve for lr 0.001')\n",
    "ax.plot(RECabd_002, PRECabd_002, label='Precision Recall curve for lr 0.002')\n",
    "ax.plot(RECnoabd, PRECnoabd, label='Precision Recall curve for no abdomen')\n",
    "ax.set_xlim([0.0, 1.0])\n",
    "ax.set_ylim([0.0, 1.05])\n",
    "ax.set_xlabel('Recall')\n",
    "ax.set_ylabel('Precision')\n",
    "ax.set_title('Precision Recall Curve')\n",
    "ax.legend(loc=\"lower right\")"
   ]
  },
  {
   "cell_type": "markdown",
   "metadata": {},
   "source": [
    "### Getting Accuracy Values"
   ]
  },
  {
   "cell_type": "code",
   "execution_count": null,
   "metadata": {},
   "outputs": [],
   "source": [
    "def acc_comp_anirudh(msk, preds_test_t): #Takes as input 2D masks and 2D predictions\n",
    "    \n",
    "    mean_acc = []\n",
    "    mean_prec = []\n",
    "    mean_rec = []\n",
    "    mean_f = []\n",
    "#     tp = []\n",
    "#     tn = []\n",
    "#     fp=[]\n",
    "#     fn=[]\n",
    "    FPR = []\n",
    "    TPR= []\n",
    "    for j in range(msk.shape[0]):\n",
    "        act = msk[j]\n",
    "        pr = preds_test_t[j].reshape(IMG_WIDTH, IMG_HEIGHT)\n",
    "    \n",
    "        c = act == pr #acc\n",
    "        d = act & pr #true negative\n",
    "        e = act | pr #true positive\n",
    "        neg = act.sum()\n",
    "        pos = (IMG_WIDTH*IMG_HEIGHT)-act.sum()\n",
    "    \n",
    "        TN = round(float(d.sum()),6)\n",
    "        FN = round(float(pr.sum()-d.sum()),6)\n",
    "        TP = round(float((IMG_WIDTH*IMG_HEIGHT)-e.sum()),6)\n",
    "        FP = round(float(e.sum()-pr.sum()),6)\n",
    "        acc = round(float(c.sum())/(IMG_WIDTH*IMG_HEIGHT),6)\n",
    "    \n",
    "        acc2 = float(TP+TN)/(TP+TN+FP+FN)\n",
    "        prec = float(TP)/(TP+FP+0.0000000001)\n",
    "        rec = float(TP)/(TP+FN)\n",
    "        f_measure = 2*(prec*rec)/(prec+rec+0.0000000001)\n",
    "        tpr = float(TP)/(TP+FN)\n",
    "        fpr = float(FP)/(FP+TN)\n",
    "        \n",
    "        mean_acc.append(acc2)\n",
    "        mean_prec.append(prec)\n",
    "        mean_rec.append(rec)\n",
    "        mean_f.append(f_measure)\n",
    "        TPR.append(tpr)\n",
    "        FPR.append(fpr)\n",
    "        \n",
    "#         tp.append(TP)\n",
    "#         tn.append(TN)\n",
    "#         fp.append(FP)\n",
    "#         fn.append(FN)\n",
    "        \n",
    "        \n",
    "    return mean_acc, mean_prec ,mean_rec, mean_f,TPR,FPR #tp ,tn, fp,fn"
   ]
  },
  {
   "cell_type": "code",
   "execution_count": null,
   "metadata": {},
   "outputs": [],
   "source": [
    "# Actual Predictions\n",
    "preds_test = model.predict(abd[:int(abd.shape[0])], verbose=1)\n",
    "\n",
    "# Threshold predictions\n",
    "preds_test_t = (preds_test > 0.5).astype(np.uint8)\n",
    "\n",
    "# Overall accuracy on abdomen pictures\n",
    "mean_accu, mean_prec,mean_rec, mean_f, TPR,FPR = acc_comp_anirudh(msk, preds_test_t);\n",
    "\n",
    "avg = np.mean(mean_accu)\n",
    "std = np.std(mean_accu)\n",
    "precision = np.mean(mean_prec)\n",
    "recall = np.mean(mean_rec)\n",
    "fmeasure = np.mean(mean_f)\n",
    "print(\"Accuracy \" + str(avg))\n",
    "print(\"STD Deviation \" + str(std))\n",
    "print(\"Precision \" + str(precision))\n",
    "print(\"Recall \" + str(recall))\n",
    "print(\"F-Measure \" + str(fmeasure))\n",
    "\n",
    "# # Save results in a .npy file\n",
    "# a = np.reshape(answer[2],(100,1))\n",
    "# b = np.reshape(answer[3],(100,1))\n",
    "# c = np.reshape(answer[4],(100,1))\n",
    "# d = np.reshape(answer[5],(100,1))\n",
    "# g = np.concatenate([a,b,c,d],axis = 1)\n",
    "# np.save('your_file_name.npy',g)"
   ]
  },
  {
   "cell_type": "markdown",
   "metadata": {},
   "source": [
    "K) Visualize results"
   ]
  },
  {
   "cell_type": "code",
   "execution_count": null,
   "metadata": {},
   "outputs": [],
   "source": [
    "for j in range(len(abd_ids)):\n",
    "    print(j)\n",
    "    plt.show()\n",
    "    imshow(abd[j])\n",
    "    plt.show()\n",
    "    imshow(np.squeeze(preds_test_t[j]*255))\n",
    "    plt.show()\n",
    "    imshow(np.squeeze(msk[j]))"
   ]
  },
  {
   "cell_type": "markdown",
   "metadata": {},
   "source": [
    "J') Load model, testing data and check against trained network (if masks do NOT exist)"
   ]
  },
  {
   "cell_type": "code",
   "execution_count": null,
   "metadata": {
    "scrolled": true
   },
   "outputs": [],
   "source": [
    "model = load_model('lydia.h5', custom_objects={'mean_iou': mean_iou})\n",
    "ABD_PATH = '/home/lalzogbi/Documents/Umbilicus_Skin_Detection/code/wounds/'\n",
    "\n",
    "abd_ids = next(os.walk(ABD_PATH))[2]\n",
    "abd_ids.sort()\n",
    "\n",
    "abd = np.zeros((len(abd_ids), IMG_HEIGHT, IMG_WIDTH, IMG_CHANNELS), dtype=np.uint8)\n",
    "\n",
    "sys.stdout.flush()\n",
    "for n, id_ in tqdm(enumerate(abd_ids), total=len(abd_ids)):\n",
    "    path = ABD_PATH + id_\n",
    "    img = imread(path)[:,:,:IMG_CHANNELS]\n",
    "    img = resize(img, (IMG_HEIGHT, IMG_WIDTH), mode='constant', preserve_range=True)\n",
    "    abd[n] = img\n",
    "    \n",
    "# Actual Predictions\n",
    "preds_test = model.predict(abd[:int(abd.shape[0])], verbose=1)\n",
    "\n",
    "# Threshold predictions\n",
    "preds_test_t = (preds_test > 0.5).astype(np.uint8)"
   ]
  },
  {
   "cell_type": "markdown",
   "metadata": {},
   "source": [
    "K') Visualize results"
   ]
  },
  {
   "cell_type": "code",
   "execution_count": null,
   "metadata": {
    "scrolled": false
   },
   "outputs": [],
   "source": [
    "for j in range(len(abd_ids)):\n",
    "    print(j)\n",
    "    plt.show()\n",
    "    imshow(abd[j])\n",
    "    plt.show()\n",
    "    imshow(np.squeeze(preds_test_t[j]*255))\n",
    "    plt.show()"
   ]
  },
  {
   "cell_type": "code",
   "execution_count": null,
   "metadata": {},
   "outputs": [],
   "source": []
  }
 ],
 "metadata": {
  "kernelspec": {
   "display_name": "Python 3",
   "language": "python",
   "name": "python3"
  },
  "language_info": {
   "codemirror_mode": {
    "name": "ipython",
    "version": 3
   },
   "file_extension": ".py",
   "mimetype": "text/x-python",
   "name": "python",
   "nbconvert_exporter": "python",
   "pygments_lexer": "ipython3",
   "version": "3.5.2"
  }
 },
 "nbformat": 4,
 "nbformat_minor": 2
}
